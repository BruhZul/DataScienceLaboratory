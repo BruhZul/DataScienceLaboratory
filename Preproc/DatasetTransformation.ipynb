{
 "cells": [
  {
   "cell_type": "markdown",
   "metadata": {},
   "source": [
    "# Transformation of the \"Rapporti di lavoro attivati\" and \"Rapporti di lavoro prorogati\" datasets.\n",
    "#### The input and output datasets can be found in the `DatasetsLocation.md` file in the `Datasets` folder.\n",
    "\n",
    "If you want to actually execute the instructions, it is necessary to insert the path of the input and output dataset. Then, the notebook can be run altogether."
   ]
  },
  {
   "cell_type": "code",
   "execution_count": null,
   "metadata": {},
   "outputs": [],
   "source": [
    "activatedContractsPath = \"<input_path>\\\\Rapporti_di_lavoro_attivati.csv\"\n",
    "activatedTranformedPath = \"<output_path>\\\\Transformed_lavori_attivati.csv\"\n",
    "extendedContractsPath = \"<input_path>\\\\Rapporti_di_lavoro_prorogati.csv\"\n",
    "extendededTranformedPath = \"<output_path>\\\\Transformed_lavori_prorogati.csv\""
   ]
  },
  {
   "cell_type": "markdown",
   "metadata": {},
   "source": [
    "All the necessary libraries are imported:"
   ]
  },
  {
   "cell_type": "code",
   "execution_count": null,
   "metadata": {},
   "outputs": [],
   "source": [
    "import pandas as pd\n",
    "import numpy as np\n",
    "import matplotlib.pyplot as plt\n",
    "import seaborn as sns\n",
    "from scipy import stats"
   ]
  },
  {
   "cell_type": "markdown",
   "metadata": {},
   "source": [
    "Create the data frames from the csv files"
   ]
  },
  {
   "cell_type": "code",
   "execution_count": null,
   "metadata": {},
   "outputs": [],
   "source": [
    "activatedContracts = pd.read_csv(activatedContractsPath)\n",
    "'''create a backup of the original for confrontations later on'''\n",
    "originalActivatedContracts = activatedContracts.copy(deep=True)\n",
    "activatedContracts.head()"
   ]
  },
  {
   "cell_type": "code",
   "execution_count": null,
   "metadata": {},
   "outputs": [],
   "source": [
    "extendedContracts = pd.read_csv(extendedContractsPath)\n",
    "'''create a backup of the original for confrontations later on'''\n",
    "originalExtendedContracts = extendedContracts.copy(deep=True)\n",
    "extendedContracts.head()"
   ]
  },
  {
   "cell_type": "code",
   "execution_count": null,
   "metadata": {},
   "outputs": [],
   "source": [
    "print(\"activatedContracts shape: \",activatedContracts.shape)\n",
    "print(\"extendedContracts shape: \",extendedContracts.shape)"
   ]
  },
  {
   "cell_type": "code",
   "execution_count": null,
   "metadata": {},
   "outputs": [],
   "source": [
    "print(\"activatedContracts dtypes:\\n\",activatedContracts.dtypes, sep=\"\")\n",
    "print(\"\")\n",
    "print(\"extendedContracts dtypes:\\n\",extendedContracts.dtypes, sep=\"\")"
   ]
  },
  {
   "cell_type": "markdown",
   "metadata": {},
   "source": [
    "The type of the DATA column is changed in a Date format."
   ]
  },
  {
   "cell_type": "code",
   "execution_count": null,
   "metadata": {},
   "outputs": [],
   "source": [
    "activatedContracts.DATA = activatedContracts.DATA.astype(np.datetime64)\n",
    "activatedContracts.DATA "
   ]
  },
  {
   "cell_type": "code",
   "execution_count": null,
   "metadata": {},
   "outputs": [],
   "source": [
    "extendedContracts.DATA = extendedContracts.DATA.astype(np.datetime64)\n",
    "extendedContracts.DATA"
   ]
  },
  {
   "cell_type": "markdown",
   "metadata": {},
   "source": [
    "In activatedContracts, there is one tuple that is set in the future (and in general after 2021). Considering the year, \n",
    "this is probably just a typo so we can correct it. "
   ]
  },
  {
   "cell_type": "code",
   "execution_count": null,
   "metadata": {},
   "outputs": [],
   "source": [
    "futureDate = activatedContracts[activatedContracts.DATA > \"2021/12/31\"]\n",
    "futureDate"
   ]
  },
  {
   "cell_type": "code",
   "execution_count": null,
   "metadata": {},
   "outputs": [],
   "source": [
    "activatedContracts.loc[activatedContracts.DATA > \"2021-12-31\", [\"ETA\"]] = 221-(2201-2021)\n",
    "activatedContracts.loc[activatedContracts.DATA > \"2021-12-31\", [\"DATA\"]] = np.datetime64(\"2021-06-09\")\n",
    "len(activatedContracts[activatedContracts.DATA > \"2021-12-31\"])"
   ]
  },
  {
   "cell_type": "code",
   "execution_count": null,
   "metadata": {},
   "outputs": [],
   "source": [
    "'''I know that the index is 5840160 and will call it directly to check if the transformation is correct'''\n",
    "activatedContracts.iloc[5840160]"
   ]
  },
  {
   "cell_type": "markdown",
   "metadata": {},
   "source": [
    "In extendedContracts, there is no tuples after the 31st of December 2021."
   ]
  },
  {
   "cell_type": "code",
   "execution_count": null,
   "metadata": {},
   "outputs": [],
   "source": [
    "len(extendedContracts[extendedContracts.DATA > \"2021-12-31\"])"
   ]
  },
  {
   "cell_type": "markdown",
   "metadata": {},
   "source": [
    "By reading the data, and as shown in the following histograms, the data seems to be incomplete for the period before 2009.\n",
    "\n",
    "The extended Contracts dataset only has very few tuples for the year 2008, while the activated contracts dataset has a small number\n",
    "of tuples between 1973 and 2008."
   ]
  },
  {
   "cell_type": "code",
   "execution_count": null,
   "metadata": {},
   "outputs": [],
   "source": [
    "totalDates_activated = activatedContracts.DATA.astype('datetime64[Y]')\n",
    "totalDates_activated = totalDates_activated.groupby(totalDates_activated).count()\n",
    "totalDates_activated.index = totalDates_activated.index.year\n",
    "\n",
    "totalDates_extended = extendedContracts.DATA.astype('datetime64[Y]')\n",
    "totalDates_extended = totalDates_extended.groupby(totalDates_extended).count()\n",
    "totalDates_extended.index = totalDates_extended.index.year\n",
    "\n",
    "fig = plt.figure(figsize=(20, 7))\n",
    "\n",
    "act = fig.add_subplot(121)\n",
    "act.title.set_text('Activated contracts per year')\n",
    "totalDates_activated.plot(kind=\"bar\", xlabel='')\n",
    "\n",
    "act = plt.subplot(122)\n",
    "act.title.set_text('Extended contracts per year')\n",
    "totalDates_extended.plot(kind=\"bar\", xlabel='')\n",
    "\n",
    "plt.show()"
   ]
  },
  {
   "cell_type": "code",
   "execution_count": null,
   "metadata": {},
   "outputs": [],
   "source": [
    "print(\"Number of activated contracts registered in 2008: \",\n",
    "      len(activatedContracts[activatedContracts.DATA.between('2008-01-01','2008-12-31')]))\n",
    "\n",
    "print(\"Number of activated contracts registered in 2007: \",\n",
    "      len(activatedContracts[activatedContracts.DATA.between('2007-01-01','2007-12-31')]))\n",
    "\n",
    "print(\"Number of extended contracts registered in 2008: \",\n",
    "      len(extendedContracts[extendedContracts.DATA.between('2008-01-01','2008-12-31')]))"
   ]
  },
  {
   "cell_type": "markdown",
   "metadata": {},
   "source": [
    "Because of these results, I would exclude all contracts that have been activated before the year 2008. \n",
    "I will keep this last year because some of the contracts that have been extended in 2009 were supposedly activated in 2008."
   ]
  },
  {
   "cell_type": "code",
   "execution_count": null,
   "metadata": {},
   "outputs": [],
   "source": [
    "contractsBefore2008 = len(activatedContracts[activatedContracts.DATA.between('1960-01-01','2007-12-31')])\n",
    "print(\"Number of activated contracts before 2008: \",contractsBefore2008)"
   ]
  },
  {
   "cell_type": "code",
   "execution_count": null,
   "metadata": {},
   "outputs": [],
   "source": [
    "originalLength = len(activatedContracts)\n",
    "activatedContracts = activatedContracts[activatedContracts.DATA.between('2008-01-01','2021-12-31')]\n",
    "print(\"Number of dropped rows: \",originalLength - len(activatedContracts))"
   ]
  },
  {
   "cell_type": "markdown",
   "metadata": {},
   "source": [
    "Since the two datasets come from the same source, they consider the same types of contracts. In our test case, we only need\n",
    "to know which type of contracts are extendable and which are not. We can consider all the contract types in the extendedContracts\n",
    "dataframe to be \"extendable\", making the rest \"not extendable\". \n",
    "\n",
    "The values for the column \"CONTRATTO\" in activatedContracts will\n",
    "be changed into \"PROROGABILE\" and \"NON PROROGABILE\".\n",
    "\n",
    "This is not be done for extendedContracts because all values would be \"PROROGABILE\" and in general could be useful in the future."
   ]
  },
  {
   "cell_type": "code",
   "execution_count": null,
   "metadata": {},
   "outputs": [],
   "source": [
    "extendableContractsList = extendedContracts.CONTRATTO.unique()\n",
    "condition = activatedContracts.CONTRATTO.isin(extendableContractsList)\n",
    "activatedContracts.loc[-condition,'CONTRATTO'] = \"NON PROROGABILE\"\n",
    "activatedContracts.loc[condition,'CONTRATTO'] = \"PROROGABILE\"\n",
    "\n",
    "activatedContracts[activatedContracts.CONTRATTO != \"PROROGABILE\"]"
   ]
  },
  {
   "cell_type": "markdown",
   "metadata": {},
   "source": [
    "When talking about italian labour market, we are usually interested only in dividing italians from foreigners. For this reason,\n",
    "the \"ITALIANO\" column is substituted by a \"CITTADINANZA\" column containing the values \"ITALIANO\" and \"STRANIERO\""
   ]
  },
  {
   "cell_type": "code",
   "execution_count": null,
   "metadata": {},
   "outputs": [],
   "source": [
    "activatedContracts.rename(columns={\"ITALIANO\":\"CITTADINANZA\"}, inplace=True)\n",
    "condition = activatedContracts.CITTADINANZA == \"ITALIA\"\n",
    "activatedContracts.loc[-condition, 'CITTADINANZA'] = \"STRANIERO\"\n",
    "activatedContracts.loc[condition, 'CITTADINANZA'] = \"ITALIANO\"\n",
    "activatedContracts"
   ]
  },
  {
   "cell_type": "markdown",
   "metadata": {},
   "source": [
    "Now the same thing for extendedContracts"
   ]
  },
  {
   "cell_type": "code",
   "execution_count": null,
   "metadata": {},
   "outputs": [],
   "source": [
    "extendedContracts.rename(columns={\"ITALIANO\":\"CITTADINANZA\"},inplace=True)\n",
    "condition = extendedContracts.CITTADINANZA == \"ITALIA\"\n",
    "extendedContracts.loc[-condition, 'CITTADINANZA'] = \"STRANIERO\"\n",
    "extendedContracts.loc[condition, 'CITTADINANZA'] = \"ITALIANO\"\n",
    "extendedContracts"
   ]
  },
  {
   "cell_type": "markdown",
   "metadata": {},
   "source": [
    "Since we want to consider the education degree of a person, we check whether the values are the same in the two datasets:"
   ]
  },
  {
   "cell_type": "code",
   "execution_count": null,
   "metadata": {},
   "outputs": [],
   "source": [
    "activatedContracts.TITOLOSTUDIO.unique().tolist()"
   ]
  },
  {
   "cell_type": "code",
   "execution_count": null,
   "metadata": {
    "scrolled": false
   },
   "outputs": [],
   "source": [
    "extendedContracts.TITOLOSTUDIO.unique().tolist()"
   ]
  },
  {
   "cell_type": "markdown",
   "metadata": {},
   "source": [
    "The values are the same, but we can see that some tuples have no value at all. It may be possible to predict the degree by\n",
    "analyzing the values of the other attributes (via means and modes), but I think it is better to just eliminate them."
   ]
  },
  {
   "cell_type": "code",
   "execution_count": null,
   "metadata": {},
   "outputs": [],
   "source": [
    "conditionA = activatedContracts.TITOLOSTUDIO.isna()\n",
    "conditionE = extendedContracts.TITOLOSTUDIO.isna()\n",
    "print(\"Number of tuples without a 'TITOLOSTUDIO' value\")\n",
    "print(\"For activatedContracts: \", len(activatedContracts[conditionA]))\n",
    "print(\"For extendedContracts: \", len(extendedContracts[conditionE]))"
   ]
  },
  {
   "cell_type": "code",
   "execution_count": null,
   "metadata": {},
   "outputs": [],
   "source": [
    "originalLengthA = len(activatedContracts)\n",
    "originalLengthE = len(extendedContracts)\n",
    "activatedContracts = activatedContracts[-conditionA]\n",
    "extendedContracts = extendedContracts[-conditionE]\n",
    "print(\"Number of dropped rows in activatedContrats: \", originalLengthA-len(activatedContracts))\n",
    "print(\"Number of dropped rows in extendedContracts: \", originalLengthE-len(extendedContracts))"
   ]
  },
  {
   "cell_type": "markdown",
   "metadata": {},
   "source": [
    "Since I also want to classify people by gender and age, I check for invalid values for GENERE and ETA"
   ]
  },
  {
   "cell_type": "code",
   "execution_count": null,
   "metadata": {},
   "outputs": [],
   "source": [
    "activatedContracts.GENERE.unique().tolist()"
   ]
  },
  {
   "cell_type": "code",
   "execution_count": null,
   "metadata": {},
   "outputs": [],
   "source": [
    "extendedContracts.GENERE.unique().tolist()"
   ]
  },
  {
   "cell_type": "code",
   "execution_count": null,
   "metadata": {},
   "outputs": [],
   "source": [
    "activatedContracts.ETA.describe()"
   ]
  },
  {
   "cell_type": "code",
   "execution_count": null,
   "metadata": {},
   "outputs": [],
   "source": [
    "extendedContracts.ETA.describe()"
   ]
  },
  {
   "cell_type": "markdown",
   "metadata": {},
   "source": [
    "For the ETA attribute, the values range from 0 to 100(or 101 depending on the dataset)."
   ]
  },
  {
   "cell_type": "code",
   "execution_count": null,
   "metadata": {},
   "outputs": [],
   "source": [
    "activatedContracts[activatedContracts.ETA < 15]['ETA'].unique().tolist()"
   ]
  },
  {
   "cell_type": "code",
   "execution_count": null,
   "metadata": {},
   "outputs": [],
   "source": [
    "extendedContracts[extendedContracts.ETA < 15]['ETA'].unique().tolist()"
   ]
  },
  {
   "cell_type": "markdown",
   "metadata": {},
   "source": [
    "For the same reasons explained for the education degree attribute, I would drop all tuples with an age lower than 15. "
   ]
  },
  {
   "cell_type": "code",
   "execution_count": null,
   "metadata": {},
   "outputs": [],
   "source": [
    "conditionA = activatedContracts.ETA < 15\n",
    "conditionE = extendedContracts.ETA < 15\n",
    "print(\"Number of tuples without a 'ETA' value lower than 15\")\n",
    "print(\"For activatedContracts: \", len(activatedContracts[conditionA]))\n",
    "print(\"For extendedContracts: \", len(extendedContracts[conditionE]))"
   ]
  },
  {
   "cell_type": "code",
   "execution_count": null,
   "metadata": {},
   "outputs": [],
   "source": [
    "originalLengthA = len(activatedContracts)\n",
    "originalLengthE = len(extendedContracts)\n",
    "activatedContracts = activatedContracts[-conditionA]\n",
    "extendedContracts = extendedContracts[-conditionE]\n",
    "print(\"Number of dropped rows in activatedContrats: \", originalLengthA-len(activatedContracts))\n",
    "print(\"Number of dropped rows in extendedContracts: \", originalLengthE-len(extendedContracts))"
   ]
  },
  {
   "cell_type": "markdown",
   "metadata": {},
   "source": [
    "In total, we removed `66 + 580 + 12162 = 12808` rows  from activatedContracts, which equals to the 0.13% of the total \n",
    "rows of the original dataset, and `160 + 1284 = 1444` rows from extendedContracts, which is the 0.04% of the original datset.\n",
    "\n",
    "Here below we have the percentage of removed row per education degree (the first list refers to activatedContracts and the second to extendedContracts), which is lower than 1% for all cases in both datasets"
   ]
  },
  {
   "cell_type": "code",
   "execution_count": null,
   "metadata": {},
   "outputs": [],
   "source": [
    "100 - ((activatedContracts.TITOLOSTUDIO.groupby(activatedContracts.TITOLOSTUDIO).count() / originalActivatedContracts.TITOLOSTUDIO.groupby(originalActivatedContracts.TITOLOSTUDIO).count())*100)"
   ]
  },
  {
   "cell_type": "code",
   "execution_count": null,
   "metadata": {},
   "outputs": [],
   "source": [
    "100 - ((extendedContracts.TITOLOSTUDIO.groupby(extendedContracts.TITOLOSTUDIO).count() / originalExtendedContracts.TITOLOSTUDIO.groupby(originalExtendedContracts.TITOLOSTUDIO).count())*100)"
   ]
  },
  {
   "cell_type": "code",
   "execution_count": null,
   "metadata": {},
   "outputs": [],
   "source": [
    "print(\"Final lenght of activatedContracts: \", len(activatedContracts))\n",
    "\n",
    "print(\"Final lenght of extendedContracts: \", len(extendedContracts))"
   ]
  },
  {
   "cell_type": "markdown",
   "metadata": {},
   "source": [
    "One last thing that could be done is remove the PROVINCIAIMPRESA and MODALITALAVORO since i do not intend to use them, but i will \n",
    "not do it because it may be of some use in the future.\n",
    "\n",
    "The next istructions will export the new datasets as csv to the previously indicated paths. "
   ]
  },
  {
   "cell_type": "code",
   "execution_count": null,
   "metadata": {},
   "outputs": [],
   "source": [
    "activatedContracts.to_csv(activatedTranformedPath, index=False)\n",
    "extendedContracts.to_csv(extendededTranformedPath, index=False)\n",
    "print(\"done\")"
   ]
  }
 ],
 "metadata": {
  "kernelspec": {
   "display_name": "Python 3 (ipykernel)",
   "language": "python",
   "name": "python3"
  },
  "language_info": {
   "codemirror_mode": {
    "name": "ipython",
    "version": 3
   },
   "file_extension": ".py",
   "mimetype": "text/x-python",
   "name": "python",
   "nbconvert_exporter": "python",
   "pygments_lexer": "ipython3",
   "version": "3.8.12"
  }
 },
 "nbformat": 4,
 "nbformat_minor": 4
}
