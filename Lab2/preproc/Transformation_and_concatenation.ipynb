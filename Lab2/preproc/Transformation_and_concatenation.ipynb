{
 "cells": [
  {
   "cell_type": "markdown",
   "metadata": {},
   "source": [
    "# Transformation of the \"Rapporti di lavoro attivati\" and \"Rapporti di lavoro prorogati\" datasets.\n",
    "#### The input and output datasets can be found in the `DatasetsLocation.md` file in the `Datasets` folder.\n",
    "\n",
    "If one wants to actually execute the instructions, it is necessary to insert the path of the input and output dataset. Then, the notebook can be run altogether.\n",
    "\n",
    "I decided to redo the trnsformation from the original datasets in order to answer different questions. Some of the transformation and cleaning will be the same as the previous Lab"
   ]
  },
  {
   "cell_type": "code",
   "execution_count": 1,
   "metadata": {},
   "outputs": [],
   "source": [
    "import pandas as pd\n",
    "import numpy as np\n",
    "import matplotlib.pyplot as plt\n",
    "import datetime as dt\n",
    "from sklearn import preprocessing"
   ]
  },
  {
   "cell_type": "code",
   "execution_count": 2,
   "metadata": {},
   "outputs": [],
   "source": [
    "#activatedContractsPath = \"<input_path>\\\\Rapporti_di_lavoro_attivati.csv\"\n",
    "#extendedContractsPath = \"<input_path>\\\\Rapporti_di_lavoro_prorogati.csv\"\n",
    "#\n",
    "#outputPath = \"<output_path>\\\\Contracts_dataset.csv\"\n",
    "\n",
    "activatedContractsPath = \"C:\\\\Users\\\\rotol\\\\Downloads\\\\csvs\\\\Rapporti_di_lavoro_attivati.csv\"\n",
    "extendedContractsPath = \"C:\\\\Users\\\\rotol\\\\Downloads\\\\csvs\\\\Rapporti_di_lavoro_prorogati.csv\"\n",
    "\n",
    "outputPath = \"C:\\\\Users\\\\rotol\\\\Downloads\\\\res\\\\Contracts_dataset.csv\""
   ]
  },
  {
   "cell_type": "code",
   "execution_count": 3,
   "metadata": {},
   "outputs": [
    {
     "data": {
      "text/html": [
       "<div>\n",
       "<style scoped>\n",
       "    .dataframe tbody tr th:only-of-type {\n",
       "        vertical-align: middle;\n",
       "    }\n",
       "\n",
       "    .dataframe tbody tr th {\n",
       "        vertical-align: top;\n",
       "    }\n",
       "\n",
       "    .dataframe thead th {\n",
       "        text-align: right;\n",
       "    }\n",
       "</style>\n",
       "<table border=\"1\" class=\"dataframe\">\n",
       "  <thead>\n",
       "    <tr style=\"text-align: right;\">\n",
       "      <th></th>\n",
       "      <th>DATA</th>\n",
       "      <th>GENERE</th>\n",
       "      <th>ETA</th>\n",
       "      <th>SETTOREECONOMICODETTAGLIO</th>\n",
       "      <th>TITOLOSTUDIO</th>\n",
       "      <th>CONTRATTO</th>\n",
       "      <th>MODALITALAVORO</th>\n",
       "      <th>PROVINCIAIMPRESA</th>\n",
       "      <th>ITALIANO</th>\n",
       "    </tr>\n",
       "  </thead>\n",
       "  <tbody>\n",
       "    <tr>\n",
       "      <th>0</th>\n",
       "      <td>09/05/2020</td>\n",
       "      <td>F</td>\n",
       "      <td>60</td>\n",
       "      <td>Attività di famiglie e convivenze come datori ...</td>\n",
       "      <td>NESSUN TITOLO DI STUDIO</td>\n",
       "      <td>LAVORO DOMESTICO</td>\n",
       "      <td>TEMPO PIENO</td>\n",
       "      <td>BERGAMO</td>\n",
       "      <td>UCRAINA</td>\n",
       "    </tr>\n",
       "    <tr>\n",
       "      <th>1</th>\n",
       "      <td>12/07/2019</td>\n",
       "      <td>M</td>\n",
       "      <td>43</td>\n",
       "      <td>Gestioni di funicolari, ski-lift e seggiovie s...</td>\n",
       "      <td>LICENZA MEDIA</td>\n",
       "      <td>LAVORO A TEMPO DETERMINATO</td>\n",
       "      <td>TEMPO PIENO</td>\n",
       "      <td>BERGAMO</td>\n",
       "      <td>ITALIA</td>\n",
       "    </tr>\n",
       "    <tr>\n",
       "      <th>2</th>\n",
       "      <td>05/06/2013</td>\n",
       "      <td>F</td>\n",
       "      <td>20</td>\n",
       "      <td>Fabbricazione di altre apparecchiature elettri...</td>\n",
       "      <td>LICENZA MEDIA</td>\n",
       "      <td>APPRENDISTATO PROFESSIONALIZZANTE O CONTRATTO ...</td>\n",
       "      <td>TEMPO PIENO</td>\n",
       "      <td>BERGAMO</td>\n",
       "      <td>ITALIA</td>\n",
       "    </tr>\n",
       "    <tr>\n",
       "      <th>3</th>\n",
       "      <td>12/03/2010</td>\n",
       "      <td>F</td>\n",
       "      <td>28</td>\n",
       "      <td>Alberghi</td>\n",
       "      <td>DIPLOMA DI ISTRUZIONE SECONDARIA SUPERIORE  CH...</td>\n",
       "      <td>LAVORO INTERMITTENTE A TEMPO DETERMINATO</td>\n",
       "      <td>NON DEFINITO</td>\n",
       "      <td>BERGAMO</td>\n",
       "      <td>ITALIA</td>\n",
       "    </tr>\n",
       "    <tr>\n",
       "      <th>4</th>\n",
       "      <td>06/04/2021</td>\n",
       "      <td>F</td>\n",
       "      <td>49</td>\n",
       "      <td>Rifugi di montagna</td>\n",
       "      <td>LICENZA MEDIA</td>\n",
       "      <td>LAVORO INTERMITTENTE</td>\n",
       "      <td>NON DEFINITO</td>\n",
       "      <td>BERGAMO</td>\n",
       "      <td>ITALIA</td>\n",
       "    </tr>\n",
       "    <tr>\n",
       "      <th>...</th>\n",
       "      <td>...</td>\n",
       "      <td>...</td>\n",
       "      <td>...</td>\n",
       "      <td>...</td>\n",
       "      <td>...</td>\n",
       "      <td>...</td>\n",
       "      <td>...</td>\n",
       "      <td>...</td>\n",
       "      <td>...</td>\n",
       "    </tr>\n",
       "    <tr>\n",
       "      <th>9579789</th>\n",
       "      <td>01/03/2020</td>\n",
       "      <td>M</td>\n",
       "      <td>52</td>\n",
       "      <td>Lavori di meccanica generale</td>\n",
       "      <td>LICENZA MEDIA</td>\n",
       "      <td>LAVORO A TEMPO DETERMINATO</td>\n",
       "      <td>TEMPO PIENO</td>\n",
       "      <td>BERGAMO</td>\n",
       "      <td>ITALIA</td>\n",
       "    </tr>\n",
       "    <tr>\n",
       "      <th>9579790</th>\n",
       "      <td>06/09/2010</td>\n",
       "      <td>M</td>\n",
       "      <td>61</td>\n",
       "      <td>Lavori di meccanica generale</td>\n",
       "      <td>NESSUN TITOLO DI STUDIO</td>\n",
       "      <td>LAVORO A TEMPO INDETERMINATO</td>\n",
       "      <td>TEMPO PIENO</td>\n",
       "      <td>BERGAMO</td>\n",
       "      <td>ALBANIA</td>\n",
       "    </tr>\n",
       "    <tr>\n",
       "      <th>9579791</th>\n",
       "      <td>06/11/2021</td>\n",
       "      <td>M</td>\n",
       "      <td>37</td>\n",
       "      <td>Fabbricazione di parti ed accessori per bicicl...</td>\n",
       "      <td>NESSUN TITOLO DI STUDIO</td>\n",
       "      <td>LAVORO A TEMPO DETERMINATO</td>\n",
       "      <td>TEMPO PIENO</td>\n",
       "      <td>BERGAMO</td>\n",
       "      <td>SENEGAL</td>\n",
       "    </tr>\n",
       "    <tr>\n",
       "      <th>9579792</th>\n",
       "      <td>02/02/2010</td>\n",
       "      <td>M</td>\n",
       "      <td>35</td>\n",
       "      <td>Fabbricazione di parti ed accessori per bicicl...</td>\n",
       "      <td>LICENZA MEDIA</td>\n",
       "      <td>LAVORO INTERINALE (O A SCOPO DI SOMMINISTRAZIO...</td>\n",
       "      <td>TEMPO PIENO</td>\n",
       "      <td>BERGAMO</td>\n",
       "      <td>SENEGAL</td>\n",
       "    </tr>\n",
       "    <tr>\n",
       "      <th>9579793</th>\n",
       "      <td>05/07/2012</td>\n",
       "      <td>F</td>\n",
       "      <td>39</td>\n",
       "      <td>Commercio all'ingrosso di abbigliamento e acce...</td>\n",
       "      <td>LICENZA MEDIA</td>\n",
       "      <td>LAVORO INTERINALE (O A SCOPO DI SOMMINISTRAZIO...</td>\n",
       "      <td>NaN</td>\n",
       "      <td>BERGAMO</td>\n",
       "      <td>ITALIA</td>\n",
       "    </tr>\n",
       "  </tbody>\n",
       "</table>\n",
       "<p>9579794 rows × 9 columns</p>\n",
       "</div>"
      ],
      "text/plain": [
       "               DATA GENERE  ETA  \\\n",
       "0        09/05/2020      F   60   \n",
       "1        12/07/2019      M   43   \n",
       "2        05/06/2013      F   20   \n",
       "3        12/03/2010      F   28   \n",
       "4        06/04/2021      F   49   \n",
       "...             ...    ...  ...   \n",
       "9579789  01/03/2020      M   52   \n",
       "9579790  06/09/2010      M   61   \n",
       "9579791  06/11/2021      M   37   \n",
       "9579792  02/02/2010      M   35   \n",
       "9579793  05/07/2012      F   39   \n",
       "\n",
       "                                 SETTOREECONOMICODETTAGLIO  \\\n",
       "0        Attività di famiglie e convivenze come datori ...   \n",
       "1        Gestioni di funicolari, ski-lift e seggiovie s...   \n",
       "2        Fabbricazione di altre apparecchiature elettri...   \n",
       "3                                                 Alberghi   \n",
       "4                                       Rifugi di montagna   \n",
       "...                                                    ...   \n",
       "9579789                       Lavori di meccanica generale   \n",
       "9579790                       Lavori di meccanica generale   \n",
       "9579791  Fabbricazione di parti ed accessori per bicicl...   \n",
       "9579792  Fabbricazione di parti ed accessori per bicicl...   \n",
       "9579793  Commercio all'ingrosso di abbigliamento e acce...   \n",
       "\n",
       "                                              TITOLOSTUDIO  \\\n",
       "0                                  NESSUN TITOLO DI STUDIO   \n",
       "1                                            LICENZA MEDIA   \n",
       "2                                            LICENZA MEDIA   \n",
       "3        DIPLOMA DI ISTRUZIONE SECONDARIA SUPERIORE  CH...   \n",
       "4                                            LICENZA MEDIA   \n",
       "...                                                    ...   \n",
       "9579789                                      LICENZA MEDIA   \n",
       "9579790                            NESSUN TITOLO DI STUDIO   \n",
       "9579791                            NESSUN TITOLO DI STUDIO   \n",
       "9579792                                      LICENZA MEDIA   \n",
       "9579793                                      LICENZA MEDIA   \n",
       "\n",
       "                                                 CONTRATTO MODALITALAVORO  \\\n",
       "0                                         LAVORO DOMESTICO    TEMPO PIENO   \n",
       "1                               LAVORO A TEMPO DETERMINATO    TEMPO PIENO   \n",
       "2        APPRENDISTATO PROFESSIONALIZZANTE O CONTRATTO ...    TEMPO PIENO   \n",
       "3                 LAVORO INTERMITTENTE A TEMPO DETERMINATO   NON DEFINITO   \n",
       "4                                     LAVORO INTERMITTENTE   NON DEFINITO   \n",
       "...                                                    ...            ...   \n",
       "9579789                         LAVORO A TEMPO DETERMINATO    TEMPO PIENO   \n",
       "9579790                       LAVORO A TEMPO INDETERMINATO    TEMPO PIENO   \n",
       "9579791                         LAVORO A TEMPO DETERMINATO    TEMPO PIENO   \n",
       "9579792  LAVORO INTERINALE (O A SCOPO DI SOMMINISTRAZIO...    TEMPO PIENO   \n",
       "9579793  LAVORO INTERINALE (O A SCOPO DI SOMMINISTRAZIO...            NaN   \n",
       "\n",
       "        PROVINCIAIMPRESA ITALIANO  \n",
       "0                BERGAMO  UCRAINA  \n",
       "1                BERGAMO   ITALIA  \n",
       "2                BERGAMO   ITALIA  \n",
       "3                BERGAMO   ITALIA  \n",
       "4                BERGAMO   ITALIA  \n",
       "...                  ...      ...  \n",
       "9579789          BERGAMO   ITALIA  \n",
       "9579790          BERGAMO  ALBANIA  \n",
       "9579791          BERGAMO  SENEGAL  \n",
       "9579792          BERGAMO  SENEGAL  \n",
       "9579793          BERGAMO   ITALIA  \n",
       "\n",
       "[9579794 rows x 9 columns]"
      ]
     },
     "execution_count": 3,
     "metadata": {},
     "output_type": "execute_result"
    }
   ],
   "source": [
    "activatedContracts = pd.read_csv(activatedContractsPath)\n",
    "'''create a backup of the original for confrontations later on'''\n",
    "originalActivatedContracts = activatedContracts.copy(deep=True)\n",
    "activatedContracts"
   ]
  },
  {
   "cell_type": "code",
   "execution_count": 4,
   "metadata": {},
   "outputs": [
    {
     "data": {
      "text/html": [
       "<div>\n",
       "<style scoped>\n",
       "    .dataframe tbody tr th:only-of-type {\n",
       "        vertical-align: middle;\n",
       "    }\n",
       "\n",
       "    .dataframe tbody tr th {\n",
       "        vertical-align: top;\n",
       "    }\n",
       "\n",
       "    .dataframe thead th {\n",
       "        text-align: right;\n",
       "    }\n",
       "</style>\n",
       "<table border=\"1\" class=\"dataframe\">\n",
       "  <thead>\n",
       "    <tr style=\"text-align: right;\">\n",
       "      <th></th>\n",
       "      <th>DATA</th>\n",
       "      <th>GENERE</th>\n",
       "      <th>ETA</th>\n",
       "      <th>SETTOREECONOMICODETTAGLIO</th>\n",
       "      <th>TITOLOSTUDIO</th>\n",
       "      <th>CONTRATTO</th>\n",
       "      <th>MODALITALAVORO</th>\n",
       "      <th>PROVINCIAIMPRESA</th>\n",
       "      <th>ITALIANO</th>\n",
       "    </tr>\n",
       "  </thead>\n",
       "  <tbody>\n",
       "    <tr>\n",
       "      <th>0</th>\n",
       "      <td>10/01/2020</td>\n",
       "      <td>F</td>\n",
       "      <td>48</td>\n",
       "      <td>Rifugi di montagna</td>\n",
       "      <td>LICENZA MEDIA</td>\n",
       "      <td>LAVORO INTERMITTENTE</td>\n",
       "      <td>NON DEFINITO</td>\n",
       "      <td>BERGAMO</td>\n",
       "      <td>ITALIA</td>\n",
       "    </tr>\n",
       "    <tr>\n",
       "      <th>1</th>\n",
       "      <td>01/03/2013</td>\n",
       "      <td>M</td>\n",
       "      <td>56</td>\n",
       "      <td>Gestioni di funicolari, ski-lift e seggiovie s...</td>\n",
       "      <td>LICENZA MEDIA</td>\n",
       "      <td>LAVORO A TEMPO DETERMINATO</td>\n",
       "      <td>TEMPO PIENO</td>\n",
       "      <td>BERGAMO</td>\n",
       "      <td>ITALIA</td>\n",
       "    </tr>\n",
       "    <tr>\n",
       "      <th>2</th>\n",
       "      <td>09/10/2018</td>\n",
       "      <td>M</td>\n",
       "      <td>58</td>\n",
       "      <td>Rifugi di montagna</td>\n",
       "      <td>LICENZA MEDIA</td>\n",
       "      <td>LAVORO A TEMPO DETERMINATO</td>\n",
       "      <td>TEMPO PARZIALE ORIZZONTALE</td>\n",
       "      <td>BERGAMO</td>\n",
       "      <td>ITALIA</td>\n",
       "    </tr>\n",
       "    <tr>\n",
       "      <th>3</th>\n",
       "      <td>10/04/2017</td>\n",
       "      <td>M</td>\n",
       "      <td>41</td>\n",
       "      <td>Realizzazione di coperture</td>\n",
       "      <td>NESSUN TITOLO DI STUDIO</td>\n",
       "      <td>LAVORO A TEMPO DETERMINATO</td>\n",
       "      <td>TEMPO PIENO</td>\n",
       "      <td>BERGAMO</td>\n",
       "      <td>MAROCCO</td>\n",
       "    </tr>\n",
       "    <tr>\n",
       "      <th>4</th>\n",
       "      <td>03/01/2010</td>\n",
       "      <td>M</td>\n",
       "      <td>56</td>\n",
       "      <td>Gestioni di funicolari, ski-lift e seggiovie s...</td>\n",
       "      <td>LICENZA MEDIA</td>\n",
       "      <td>LAVORO A TEMPO DETERMINATO</td>\n",
       "      <td>TEMPO PIENO</td>\n",
       "      <td>BERGAMO</td>\n",
       "      <td>ITALIA</td>\n",
       "    </tr>\n",
       "    <tr>\n",
       "      <th>...</th>\n",
       "      <td>...</td>\n",
       "      <td>...</td>\n",
       "      <td>...</td>\n",
       "      <td>...</td>\n",
       "      <td>...</td>\n",
       "      <td>...</td>\n",
       "      <td>...</td>\n",
       "      <td>...</td>\n",
       "      <td>...</td>\n",
       "    </tr>\n",
       "    <tr>\n",
       "      <th>3413612</th>\n",
       "      <td>04/09/2018</td>\n",
       "      <td>F</td>\n",
       "      <td>50</td>\n",
       "      <td>Installazione di altre macchine ed apparecchia...</td>\n",
       "      <td>LICENZA ELEMENTARE</td>\n",
       "      <td>LAVORO A TEMPO DETERMINATO</td>\n",
       "      <td>TEMPO PARZIALE ORIZZONTALE</td>\n",
       "      <td>MONZA E BRIANZA</td>\n",
       "      <td>ITALIA</td>\n",
       "    </tr>\n",
       "    <tr>\n",
       "      <th>3413613</th>\n",
       "      <td>12/10/2018</td>\n",
       "      <td>F</td>\n",
       "      <td>52</td>\n",
       "      <td>Mense</td>\n",
       "      <td>LICENZA MEDIA</td>\n",
       "      <td>LAVORO A TEMPO DETERMINATO</td>\n",
       "      <td>TEMPO PARZIALE ORIZZONTALE</td>\n",
       "      <td>MONZA E BRIANZA</td>\n",
       "      <td>ITALIA</td>\n",
       "    </tr>\n",
       "    <tr>\n",
       "      <th>3413614</th>\n",
       "      <td>01/10/2017</td>\n",
       "      <td>F</td>\n",
       "      <td>37</td>\n",
       "      <td>Servizi integrati di gestione agli edifici</td>\n",
       "      <td>LICENZA MEDIA</td>\n",
       "      <td>LAVORO A TEMPO DETERMINATO</td>\n",
       "      <td>TEMPO PARZIALE ORIZZONTALE</td>\n",
       "      <td>BRESCIA</td>\n",
       "      <td>ITALIA</td>\n",
       "    </tr>\n",
       "    <tr>\n",
       "      <th>3413615</th>\n",
       "      <td>11/07/2019</td>\n",
       "      <td>M</td>\n",
       "      <td>36</td>\n",
       "      <td>Installazione di impianti elettrici in edifici...</td>\n",
       "      <td>NESSUN TITOLO DI STUDIO</td>\n",
       "      <td>LAVORO A TEMPO DETERMINATO</td>\n",
       "      <td>TEMPO PIENO</td>\n",
       "      <td>BRESCIA</td>\n",
       "      <td>ITALIA</td>\n",
       "    </tr>\n",
       "    <tr>\n",
       "      <th>3413616</th>\n",
       "      <td>04/07/2021</td>\n",
       "      <td>M</td>\n",
       "      <td>40</td>\n",
       "      <td>Fabbricazione e montaggio di biciclette (inclu...</td>\n",
       "      <td>NESSUN TITOLO DI STUDIO</td>\n",
       "      <td>LAVORO A TEMPO DETERMINATO</td>\n",
       "      <td>TEMPO PIENO</td>\n",
       "      <td>BERGAMO</td>\n",
       "      <td>MAROCCO</td>\n",
       "    </tr>\n",
       "  </tbody>\n",
       "</table>\n",
       "<p>3413617 rows × 9 columns</p>\n",
       "</div>"
      ],
      "text/plain": [
       "               DATA GENERE  ETA  \\\n",
       "0        10/01/2020      F   48   \n",
       "1        01/03/2013      M   56   \n",
       "2        09/10/2018      M   58   \n",
       "3        10/04/2017      M   41   \n",
       "4        03/01/2010      M   56   \n",
       "...             ...    ...  ...   \n",
       "3413612  04/09/2018      F   50   \n",
       "3413613  12/10/2018      F   52   \n",
       "3413614  01/10/2017      F   37   \n",
       "3413615  11/07/2019      M   36   \n",
       "3413616  04/07/2021      M   40   \n",
       "\n",
       "                                 SETTOREECONOMICODETTAGLIO  \\\n",
       "0                                       Rifugi di montagna   \n",
       "1        Gestioni di funicolari, ski-lift e seggiovie s...   \n",
       "2                                       Rifugi di montagna   \n",
       "3                               Realizzazione di coperture   \n",
       "4        Gestioni di funicolari, ski-lift e seggiovie s...   \n",
       "...                                                    ...   \n",
       "3413612  Installazione di altre macchine ed apparecchia...   \n",
       "3413613                                              Mense   \n",
       "3413614         Servizi integrati di gestione agli edifici   \n",
       "3413615  Installazione di impianti elettrici in edifici...   \n",
       "3413616  Fabbricazione e montaggio di biciclette (inclu...   \n",
       "\n",
       "                    TITOLOSTUDIO                   CONTRATTO  \\\n",
       "0                  LICENZA MEDIA        LAVORO INTERMITTENTE   \n",
       "1                  LICENZA MEDIA  LAVORO A TEMPO DETERMINATO   \n",
       "2                  LICENZA MEDIA  LAVORO A TEMPO DETERMINATO   \n",
       "3        NESSUN TITOLO DI STUDIO  LAVORO A TEMPO DETERMINATO   \n",
       "4                  LICENZA MEDIA  LAVORO A TEMPO DETERMINATO   \n",
       "...                          ...                         ...   \n",
       "3413612       LICENZA ELEMENTARE  LAVORO A TEMPO DETERMINATO   \n",
       "3413613            LICENZA MEDIA  LAVORO A TEMPO DETERMINATO   \n",
       "3413614            LICENZA MEDIA  LAVORO A TEMPO DETERMINATO   \n",
       "3413615  NESSUN TITOLO DI STUDIO  LAVORO A TEMPO DETERMINATO   \n",
       "3413616  NESSUN TITOLO DI STUDIO  LAVORO A TEMPO DETERMINATO   \n",
       "\n",
       "                     MODALITALAVORO PROVINCIAIMPRESA ITALIANO  \n",
       "0                      NON DEFINITO          BERGAMO   ITALIA  \n",
       "1                       TEMPO PIENO          BERGAMO   ITALIA  \n",
       "2        TEMPO PARZIALE ORIZZONTALE          BERGAMO   ITALIA  \n",
       "3                       TEMPO PIENO          BERGAMO  MAROCCO  \n",
       "4                       TEMPO PIENO          BERGAMO   ITALIA  \n",
       "...                             ...              ...      ...  \n",
       "3413612  TEMPO PARZIALE ORIZZONTALE  MONZA E BRIANZA   ITALIA  \n",
       "3413613  TEMPO PARZIALE ORIZZONTALE  MONZA E BRIANZA   ITALIA  \n",
       "3413614  TEMPO PARZIALE ORIZZONTALE          BRESCIA   ITALIA  \n",
       "3413615                 TEMPO PIENO          BRESCIA   ITALIA  \n",
       "3413616                 TEMPO PIENO          BERGAMO  MAROCCO  \n",
       "\n",
       "[3413617 rows x 9 columns]"
      ]
     },
     "execution_count": 4,
     "metadata": {},
     "output_type": "execute_result"
    }
   ],
   "source": [
    "extendedContracts = pd.read_csv(extendedContractsPath)\n",
    "'''create a backup of the original for confrontations later on'''\n",
    "originalExtendedContracts = extendedContracts.copy(deep=True)\n",
    "extendedContracts"
   ]
  },
  {
   "cell_type": "code",
   "execution_count": 5,
   "metadata": {},
   "outputs": [
    {
     "data": {
      "text/plain": [
       "0         2020-10-01\n",
       "1         2013-01-03\n",
       "2         2018-09-10\n",
       "3         2017-10-04\n",
       "4         2010-03-01\n",
       "             ...    \n",
       "3413612   2018-04-09\n",
       "3413613   2018-12-10\n",
       "3413614   2017-01-10\n",
       "3413615   2019-11-07\n",
       "3413616   2021-04-07\n",
       "Name: DATA, Length: 3413617, dtype: datetime64[ns]"
      ]
     },
     "execution_count": 5,
     "metadata": {},
     "output_type": "execute_result"
    }
   ],
   "source": [
    "extendedContracts.DATA = pd.to_datetime(extendedContracts.DATA)\n",
    "extendedContracts.DATA"
   ]
  },
  {
   "cell_type": "code",
   "execution_count": 6,
   "metadata": {},
   "outputs": [
    {
     "data": {
      "text/plain": [
       "0         2020-09-05\n",
       "1         2019-12-07\n",
       "2         2013-05-06\n",
       "3         2010-12-03\n",
       "4         2021-06-04\n",
       "             ...    \n",
       "9579789   2020-01-03\n",
       "9579790   2010-06-09\n",
       "9579791   2021-06-11\n",
       "9579792   2010-02-02\n",
       "9579793   2012-05-07\n",
       "Name: DATA, Length: 9579794, dtype: datetime64[ns]"
      ]
     },
     "execution_count": 6,
     "metadata": {},
     "output_type": "execute_result"
    }
   ],
   "source": [
    "activatedContracts.DATA = pd.to_datetime(activatedContracts.DATA)\n",
    "activatedContracts.DATA"
   ]
  },
  {
   "cell_type": "markdown",
   "metadata": {},
   "source": [
    "In activatedContracts, there is one tuple that is set in the future (and in general after 2021). Considering the year, \n",
    "this is probably just a typo so we can correct it. "
   ]
  },
  {
   "cell_type": "code",
   "execution_count": 7,
   "metadata": {},
   "outputs": [
    {
     "data": {
      "text/html": [
       "<div>\n",
       "<style scoped>\n",
       "    .dataframe tbody tr th:only-of-type {\n",
       "        vertical-align: middle;\n",
       "    }\n",
       "\n",
       "    .dataframe tbody tr th {\n",
       "        vertical-align: top;\n",
       "    }\n",
       "\n",
       "    .dataframe thead th {\n",
       "        text-align: right;\n",
       "    }\n",
       "</style>\n",
       "<table border=\"1\" class=\"dataframe\">\n",
       "  <thead>\n",
       "    <tr style=\"text-align: right;\">\n",
       "      <th></th>\n",
       "      <th>DATA</th>\n",
       "      <th>GENERE</th>\n",
       "      <th>ETA</th>\n",
       "      <th>SETTOREECONOMICODETTAGLIO</th>\n",
       "      <th>TITOLOSTUDIO</th>\n",
       "      <th>CONTRATTO</th>\n",
       "      <th>MODALITALAVORO</th>\n",
       "      <th>PROVINCIAIMPRESA</th>\n",
       "      <th>ITALIANO</th>\n",
       "    </tr>\n",
       "  </thead>\n",
       "  <tbody>\n",
       "    <tr>\n",
       "      <th>5840160</th>\n",
       "      <td>2201-06-09</td>\n",
       "      <td>M</td>\n",
       "      <td>221</td>\n",
       "      <td>Attività di famiglie e convivenze come datori ...</td>\n",
       "      <td>NESSUN TITOLO DI STUDIO</td>\n",
       "      <td>LAVORO DOMESTICO A TEMPO INDETERMINATO</td>\n",
       "      <td>TEMPO PARZIALE ORIZZONTALE</td>\n",
       "      <td>MILANO</td>\n",
       "      <td>SIRIA</td>\n",
       "    </tr>\n",
       "  </tbody>\n",
       "</table>\n",
       "</div>"
      ],
      "text/plain": [
       "              DATA GENERE  ETA  \\\n",
       "5840160 2201-06-09      M  221   \n",
       "\n",
       "                                 SETTOREECONOMICODETTAGLIO  \\\n",
       "5840160  Attività di famiglie e convivenze come datori ...   \n",
       "\n",
       "                    TITOLOSTUDIO                               CONTRATTO  \\\n",
       "5840160  NESSUN TITOLO DI STUDIO  LAVORO DOMESTICO A TEMPO INDETERMINATO   \n",
       "\n",
       "                     MODALITALAVORO PROVINCIAIMPRESA ITALIANO  \n",
       "5840160  TEMPO PARZIALE ORIZZONTALE           MILANO    SIRIA  "
      ]
     },
     "execution_count": 7,
     "metadata": {},
     "output_type": "execute_result"
    }
   ],
   "source": [
    "futureDate = activatedContracts[activatedContracts.DATA > \"2021/12/31\"]\n",
    "futureDate"
   ]
  },
  {
   "cell_type": "code",
   "execution_count": 8,
   "metadata": {},
   "outputs": [
    {
     "data": {
      "text/plain": [
       "0"
      ]
     },
     "execution_count": 8,
     "metadata": {},
     "output_type": "execute_result"
    }
   ],
   "source": [
    "activatedContracts.loc[activatedContracts.DATA > \"2021-12-31\", [\"ETA\"]] = 221-(2201-2021)\n",
    "activatedContracts.loc[activatedContracts.DATA > \"2021-12-31\", [\"DATA\"]] = np.datetime64(\"2021-06-09\")\n",
    "len(activatedContracts[activatedContracts.DATA > \"2021-12-31\"])"
   ]
  },
  {
   "cell_type": "markdown",
   "metadata": {},
   "source": [
    "We can check if this also happens in extendedContracts"
   ]
  },
  {
   "cell_type": "code",
   "execution_count": 9,
   "metadata": {},
   "outputs": [
    {
     "data": {
      "text/plain": [
       "0"
      ]
     },
     "execution_count": 9,
     "metadata": {},
     "output_type": "execute_result"
    }
   ],
   "source": [
    "futureDate = activatedContracts[activatedContracts.DATA > \"2021/12/31\"]\n",
    "len(futureDate)"
   ]
  },
  {
   "cell_type": "markdown",
   "metadata": {},
   "source": [
    "When talking about italian labour market, we are usually interested only in dividing italians from foreigners. For this reason,\n",
    "the \"ITALIANO\" column is substituted by a \"CITTADINANZA\" column containing the values \"ITALIANO\" and \"STRANIERO\".\n",
    "\n",
    "First we make sure that there are no NaN values."
   ]
  },
  {
   "cell_type": "code",
   "execution_count": 10,
   "metadata": {},
   "outputs": [
    {
     "data": {
      "text/plain": [
       "[False]"
      ]
     },
     "execution_count": 10,
     "metadata": {},
     "output_type": "execute_result"
    }
   ],
   "source": [
    "activatedContracts.ITALIANO.isna().unique().tolist()"
   ]
  },
  {
   "cell_type": "code",
   "execution_count": 11,
   "metadata": {},
   "outputs": [
    {
     "data": {
      "text/plain": [
       "[False]"
      ]
     },
     "execution_count": 11,
     "metadata": {},
     "output_type": "execute_result"
    }
   ],
   "source": [
    "extendedContracts.ITALIANO.isna().unique().tolist()"
   ]
  },
  {
   "cell_type": "code",
   "execution_count": 12,
   "metadata": {},
   "outputs": [
    {
     "data": {
      "text/html": [
       "<div>\n",
       "<style scoped>\n",
       "    .dataframe tbody tr th:only-of-type {\n",
       "        vertical-align: middle;\n",
       "    }\n",
       "\n",
       "    .dataframe tbody tr th {\n",
       "        vertical-align: top;\n",
       "    }\n",
       "\n",
       "    .dataframe thead th {\n",
       "        text-align: right;\n",
       "    }\n",
       "</style>\n",
       "<table border=\"1\" class=\"dataframe\">\n",
       "  <thead>\n",
       "    <tr style=\"text-align: right;\">\n",
       "      <th></th>\n",
       "      <th>DATA</th>\n",
       "      <th>GENERE</th>\n",
       "      <th>ETA</th>\n",
       "      <th>SETTOREECONOMICODETTAGLIO</th>\n",
       "      <th>TITOLOSTUDIO</th>\n",
       "      <th>CONTRATTO</th>\n",
       "      <th>MODALITALAVORO</th>\n",
       "      <th>PROVINCIAIMPRESA</th>\n",
       "      <th>CITTADINANZA</th>\n",
       "    </tr>\n",
       "  </thead>\n",
       "  <tbody>\n",
       "    <tr>\n",
       "      <th>0</th>\n",
       "      <td>2020-09-05</td>\n",
       "      <td>F</td>\n",
       "      <td>60</td>\n",
       "      <td>Attività di famiglie e convivenze come datori ...</td>\n",
       "      <td>NESSUN TITOLO DI STUDIO</td>\n",
       "      <td>LAVORO DOMESTICO</td>\n",
       "      <td>TEMPO PIENO</td>\n",
       "      <td>BERGAMO</td>\n",
       "      <td>STRANIERO</td>\n",
       "    </tr>\n",
       "    <tr>\n",
       "      <th>1</th>\n",
       "      <td>2019-12-07</td>\n",
       "      <td>M</td>\n",
       "      <td>43</td>\n",
       "      <td>Gestioni di funicolari, ski-lift e seggiovie s...</td>\n",
       "      <td>LICENZA MEDIA</td>\n",
       "      <td>LAVORO A TEMPO DETERMINATO</td>\n",
       "      <td>TEMPO PIENO</td>\n",
       "      <td>BERGAMO</td>\n",
       "      <td>ITALIANO</td>\n",
       "    </tr>\n",
       "    <tr>\n",
       "      <th>2</th>\n",
       "      <td>2013-05-06</td>\n",
       "      <td>F</td>\n",
       "      <td>20</td>\n",
       "      <td>Fabbricazione di altre apparecchiature elettri...</td>\n",
       "      <td>LICENZA MEDIA</td>\n",
       "      <td>APPRENDISTATO PROFESSIONALIZZANTE O CONTRATTO ...</td>\n",
       "      <td>TEMPO PIENO</td>\n",
       "      <td>BERGAMO</td>\n",
       "      <td>ITALIANO</td>\n",
       "    </tr>\n",
       "    <tr>\n",
       "      <th>3</th>\n",
       "      <td>2010-12-03</td>\n",
       "      <td>F</td>\n",
       "      <td>28</td>\n",
       "      <td>Alberghi</td>\n",
       "      <td>DIPLOMA DI ISTRUZIONE SECONDARIA SUPERIORE  CH...</td>\n",
       "      <td>LAVORO INTERMITTENTE A TEMPO DETERMINATO</td>\n",
       "      <td>NON DEFINITO</td>\n",
       "      <td>BERGAMO</td>\n",
       "      <td>ITALIANO</td>\n",
       "    </tr>\n",
       "    <tr>\n",
       "      <th>4</th>\n",
       "      <td>2021-06-04</td>\n",
       "      <td>F</td>\n",
       "      <td>49</td>\n",
       "      <td>Rifugi di montagna</td>\n",
       "      <td>LICENZA MEDIA</td>\n",
       "      <td>LAVORO INTERMITTENTE</td>\n",
       "      <td>NON DEFINITO</td>\n",
       "      <td>BERGAMO</td>\n",
       "      <td>ITALIANO</td>\n",
       "    </tr>\n",
       "  </tbody>\n",
       "</table>\n",
       "</div>"
      ],
      "text/plain": [
       "        DATA GENERE  ETA                          SETTOREECONOMICODETTAGLIO  \\\n",
       "0 2020-09-05      F   60  Attività di famiglie e convivenze come datori ...   \n",
       "1 2019-12-07      M   43  Gestioni di funicolari, ski-lift e seggiovie s...   \n",
       "2 2013-05-06      F   20  Fabbricazione di altre apparecchiature elettri...   \n",
       "3 2010-12-03      F   28                                           Alberghi   \n",
       "4 2021-06-04      F   49                                 Rifugi di montagna   \n",
       "\n",
       "                                        TITOLOSTUDIO  \\\n",
       "0                            NESSUN TITOLO DI STUDIO   \n",
       "1                                      LICENZA MEDIA   \n",
       "2                                      LICENZA MEDIA   \n",
       "3  DIPLOMA DI ISTRUZIONE SECONDARIA SUPERIORE  CH...   \n",
       "4                                      LICENZA MEDIA   \n",
       "\n",
       "                                           CONTRATTO MODALITALAVORO  \\\n",
       "0                                   LAVORO DOMESTICO    TEMPO PIENO   \n",
       "1                         LAVORO A TEMPO DETERMINATO    TEMPO PIENO   \n",
       "2  APPRENDISTATO PROFESSIONALIZZANTE O CONTRATTO ...    TEMPO PIENO   \n",
       "3           LAVORO INTERMITTENTE A TEMPO DETERMINATO   NON DEFINITO   \n",
       "4                               LAVORO INTERMITTENTE   NON DEFINITO   \n",
       "\n",
       "  PROVINCIAIMPRESA CITTADINANZA  \n",
       "0          BERGAMO    STRANIERO  \n",
       "1          BERGAMO     ITALIANO  \n",
       "2          BERGAMO     ITALIANO  \n",
       "3          BERGAMO     ITALIANO  \n",
       "4          BERGAMO     ITALIANO  "
      ]
     },
     "execution_count": 12,
     "metadata": {},
     "output_type": "execute_result"
    }
   ],
   "source": [
    "activatedContracts.rename(columns={\"ITALIANO\":\"CITTADINANZA\"}, inplace=True)\n",
    "condition = activatedContracts.CITTADINANZA == \"ITALIA\"\n",
    "activatedContracts.loc[-condition, 'CITTADINANZA'] = \"STRANIERO\"\n",
    "activatedContracts.loc[condition, 'CITTADINANZA'] = \"ITALIANO\"\n",
    "activatedContracts.head()"
   ]
  },
  {
   "cell_type": "code",
   "execution_count": 13,
   "metadata": {},
   "outputs": [
    {
     "data": {
      "text/html": [
       "<div>\n",
       "<style scoped>\n",
       "    .dataframe tbody tr th:only-of-type {\n",
       "        vertical-align: middle;\n",
       "    }\n",
       "\n",
       "    .dataframe tbody tr th {\n",
       "        vertical-align: top;\n",
       "    }\n",
       "\n",
       "    .dataframe thead th {\n",
       "        text-align: right;\n",
       "    }\n",
       "</style>\n",
       "<table border=\"1\" class=\"dataframe\">\n",
       "  <thead>\n",
       "    <tr style=\"text-align: right;\">\n",
       "      <th></th>\n",
       "      <th>DATA</th>\n",
       "      <th>GENERE</th>\n",
       "      <th>ETA</th>\n",
       "      <th>SETTOREECONOMICODETTAGLIO</th>\n",
       "      <th>TITOLOSTUDIO</th>\n",
       "      <th>CONTRATTO</th>\n",
       "      <th>MODALITALAVORO</th>\n",
       "      <th>PROVINCIAIMPRESA</th>\n",
       "      <th>CITTADINANZA</th>\n",
       "    </tr>\n",
       "  </thead>\n",
       "  <tbody>\n",
       "    <tr>\n",
       "      <th>0</th>\n",
       "      <td>2020-10-01</td>\n",
       "      <td>F</td>\n",
       "      <td>48</td>\n",
       "      <td>Rifugi di montagna</td>\n",
       "      <td>LICENZA MEDIA</td>\n",
       "      <td>LAVORO INTERMITTENTE</td>\n",
       "      <td>NON DEFINITO</td>\n",
       "      <td>BERGAMO</td>\n",
       "      <td>ITALIANO</td>\n",
       "    </tr>\n",
       "    <tr>\n",
       "      <th>1</th>\n",
       "      <td>2013-01-03</td>\n",
       "      <td>M</td>\n",
       "      <td>56</td>\n",
       "      <td>Gestioni di funicolari, ski-lift e seggiovie s...</td>\n",
       "      <td>LICENZA MEDIA</td>\n",
       "      <td>LAVORO A TEMPO DETERMINATO</td>\n",
       "      <td>TEMPO PIENO</td>\n",
       "      <td>BERGAMO</td>\n",
       "      <td>ITALIANO</td>\n",
       "    </tr>\n",
       "    <tr>\n",
       "      <th>2</th>\n",
       "      <td>2018-09-10</td>\n",
       "      <td>M</td>\n",
       "      <td>58</td>\n",
       "      <td>Rifugi di montagna</td>\n",
       "      <td>LICENZA MEDIA</td>\n",
       "      <td>LAVORO A TEMPO DETERMINATO</td>\n",
       "      <td>TEMPO PARZIALE ORIZZONTALE</td>\n",
       "      <td>BERGAMO</td>\n",
       "      <td>ITALIANO</td>\n",
       "    </tr>\n",
       "    <tr>\n",
       "      <th>3</th>\n",
       "      <td>2017-10-04</td>\n",
       "      <td>M</td>\n",
       "      <td>41</td>\n",
       "      <td>Realizzazione di coperture</td>\n",
       "      <td>NESSUN TITOLO DI STUDIO</td>\n",
       "      <td>LAVORO A TEMPO DETERMINATO</td>\n",
       "      <td>TEMPO PIENO</td>\n",
       "      <td>BERGAMO</td>\n",
       "      <td>STRANIERO</td>\n",
       "    </tr>\n",
       "    <tr>\n",
       "      <th>4</th>\n",
       "      <td>2010-03-01</td>\n",
       "      <td>M</td>\n",
       "      <td>56</td>\n",
       "      <td>Gestioni di funicolari, ski-lift e seggiovie s...</td>\n",
       "      <td>LICENZA MEDIA</td>\n",
       "      <td>LAVORO A TEMPO DETERMINATO</td>\n",
       "      <td>TEMPO PIENO</td>\n",
       "      <td>BERGAMO</td>\n",
       "      <td>ITALIANO</td>\n",
       "    </tr>\n",
       "  </tbody>\n",
       "</table>\n",
       "</div>"
      ],
      "text/plain": [
       "        DATA GENERE  ETA                          SETTOREECONOMICODETTAGLIO  \\\n",
       "0 2020-10-01      F   48                                 Rifugi di montagna   \n",
       "1 2013-01-03      M   56  Gestioni di funicolari, ski-lift e seggiovie s...   \n",
       "2 2018-09-10      M   58                                 Rifugi di montagna   \n",
       "3 2017-10-04      M   41                         Realizzazione di coperture   \n",
       "4 2010-03-01      M   56  Gestioni di funicolari, ski-lift e seggiovie s...   \n",
       "\n",
       "              TITOLOSTUDIO                   CONTRATTO  \\\n",
       "0            LICENZA MEDIA        LAVORO INTERMITTENTE   \n",
       "1            LICENZA MEDIA  LAVORO A TEMPO DETERMINATO   \n",
       "2            LICENZA MEDIA  LAVORO A TEMPO DETERMINATO   \n",
       "3  NESSUN TITOLO DI STUDIO  LAVORO A TEMPO DETERMINATO   \n",
       "4            LICENZA MEDIA  LAVORO A TEMPO DETERMINATO   \n",
       "\n",
       "               MODALITALAVORO PROVINCIAIMPRESA CITTADINANZA  \n",
       "0                NON DEFINITO          BERGAMO     ITALIANO  \n",
       "1                 TEMPO PIENO          BERGAMO     ITALIANO  \n",
       "2  TEMPO PARZIALE ORIZZONTALE          BERGAMO     ITALIANO  \n",
       "3                 TEMPO PIENO          BERGAMO    STRANIERO  \n",
       "4                 TEMPO PIENO          BERGAMO     ITALIANO  "
      ]
     },
     "execution_count": 13,
     "metadata": {},
     "output_type": "execute_result"
    }
   ],
   "source": [
    "extendedContracts.rename(columns={\"ITALIANO\":\"CITTADINANZA\"},inplace=True)\n",
    "condition = extendedContracts.CITTADINANZA == \"ITALIA\"\n",
    "extendedContracts.loc[-condition, 'CITTADINANZA'] = \"STRANIERO\"\n",
    "extendedContracts.loc[condition, 'CITTADINANZA'] = \"ITALIANO\"\n",
    "extendedContracts.head()"
   ]
  },
  {
   "cell_type": "markdown",
   "metadata": {},
   "source": [
    "Now we can start looking for missing values.\n",
    "\n",
    "For TITOLOSTUDIO"
   ]
  },
  {
   "cell_type": "code",
   "execution_count": 14,
   "metadata": {},
   "outputs": [
    {
     "data": {
      "text/plain": [
       "['NESSUN TITOLO DI STUDIO',\n",
       " 'LICENZA MEDIA',\n",
       " \"DIPLOMA DI ISTRUZIONE SECONDARIA SUPERIORE  CHE PERMETTE L'ACCESSO ALL'UNIVERSITA\",\n",
       " 'LAUREA - Vecchio o nuovo ordinamento',\n",
       " \"TITOLO DI ISTRUZIONE SECONDARIA SUPERIORE (SCOLASTICA ED EXTRA-SCOLASTICA) CHE NON PERMETTE L'ACCESSO ALL'UNIVERSITÀ ()\",\n",
       " 'LICENZA ELEMENTARE',\n",
       " 'DIPLOMA DI SPECIALIZZAZIONE',\n",
       " 'DIPLOMA UNIVERSITARIO',\n",
       " 'TITOLO DI DOTTORE DI RICERCA',\n",
       " 'TITOLO DI STUDIO POST-LAUREA',\n",
       " 'MASTER UNIVERSITARIO DI PRIMO LIVELLO',\n",
       " 'DIPLOMA TERZIARIO EXTRA-UNIVERSITARIO',\n",
       " nan]"
      ]
     },
     "execution_count": 14,
     "metadata": {},
     "output_type": "execute_result"
    }
   ],
   "source": [
    "activatedContracts.TITOLOSTUDIO.unique().tolist()"
   ]
  },
  {
   "cell_type": "code",
   "execution_count": 15,
   "metadata": {},
   "outputs": [
    {
     "data": {
      "text/plain": [
       "['LICENZA MEDIA',\n",
       " 'NESSUN TITOLO DI STUDIO',\n",
       " \"DIPLOMA DI ISTRUZIONE SECONDARIA SUPERIORE  CHE PERMETTE L'ACCESSO ALL'UNIVERSITA\",\n",
       " 'LAUREA - Vecchio o nuovo ordinamento',\n",
       " \"TITOLO DI ISTRUZIONE SECONDARIA SUPERIORE (SCOLASTICA ED EXTRA-SCOLASTICA) CHE NON PERMETTE L'ACCESSO ALL'UNIVERSITÀ ()\",\n",
       " 'DIPLOMA UNIVERSITARIO',\n",
       " 'DIPLOMA DI SPECIALIZZAZIONE',\n",
       " 'LICENZA ELEMENTARE',\n",
       " 'DIPLOMA TERZIARIO EXTRA-UNIVERSITARIO',\n",
       " 'TITOLO DI DOTTORE DI RICERCA',\n",
       " 'MASTER UNIVERSITARIO DI PRIMO LIVELLO',\n",
       " 'TITOLO DI STUDIO POST-LAUREA',\n",
       " nan]"
      ]
     },
     "execution_count": 15,
     "metadata": {},
     "output_type": "execute_result"
    }
   ],
   "source": [
    "extendedContracts.TITOLOSTUDIO.unique().tolist()"
   ]
  },
  {
   "cell_type": "markdown",
   "metadata": {},
   "source": [
    "For the education degree we have the same values in both datasets, but we can see that some tuples have no value at all. I would like to delete them but they would remove more than 1% of elements from some categories, so I will give a default value 'NON DEFINITO'"
   ]
  },
  {
   "cell_type": "code",
   "execution_count": 16,
   "metadata": {},
   "outputs": [
    {
     "name": "stdout",
     "output_type": "stream",
     "text": [
      "Number of tuples without a 'TITOLOSTUDIO' value\n",
      "For activatedContracts:  580\n",
      "For extendedContracts:  160\n"
     ]
    }
   ],
   "source": [
    "conditionA = activatedContracts.TITOLOSTUDIO.isna()\n",
    "conditionE = extendedContracts.TITOLOSTUDIO.isna()\n",
    "print(\"Number of tuples without a 'TITOLOSTUDIO' value\")\n",
    "print(\"For activatedContracts: \", len(activatedContracts[conditionA]))\n",
    "print(\"For extendedContracts: \", len(extendedContracts[conditionE]))"
   ]
  },
  {
   "cell_type": "code",
   "execution_count": 17,
   "metadata": {},
   "outputs": [],
   "source": [
    "activatedContracts.loc[conditionA, 'TITOLOSTUDIO'] = 'NON DEFINITO'\n",
    "extendedContracts.loc[conditionE, 'TITOLOSTUDIO'] = 'NON DEFINITO'"
   ]
  },
  {
   "cell_type": "markdown",
   "metadata": {},
   "source": [
    "Now the same thing for GENERE, where we see that 'M' and 'F' are the only values"
   ]
  },
  {
   "cell_type": "code",
   "execution_count": 18,
   "metadata": {},
   "outputs": [
    {
     "data": {
      "text/plain": [
       "['F', 'M']"
      ]
     },
     "execution_count": 18,
     "metadata": {},
     "output_type": "execute_result"
    }
   ],
   "source": [
    "activatedContracts.GENERE.unique().tolist()"
   ]
  },
  {
   "cell_type": "code",
   "execution_count": 19,
   "metadata": {},
   "outputs": [
    {
     "data": {
      "text/plain": [
       "['F', 'M']"
      ]
     },
     "execution_count": 19,
     "metadata": {},
     "output_type": "execute_result"
    }
   ],
   "source": [
    "extendedContracts.GENERE.unique().tolist()"
   ]
  },
  {
   "cell_type": "markdown",
   "metadata": {},
   "source": [
    "For ETA, I wanted to remove all ages below 15 but this would actually cause the removal of more than 1% of some categories of data. For this reason I will change them to 0"
   ]
  },
  {
   "cell_type": "code",
   "execution_count": 20,
   "metadata": {},
   "outputs": [
    {
     "data": {
      "text/plain": [
       "[4, 8, 5, 1, 0, 12, 6, 9, 13, 7, 10, 14, 3, 11, 2]"
      ]
     },
     "execution_count": 20,
     "metadata": {},
     "output_type": "execute_result"
    }
   ],
   "source": [
    "activatedContracts[activatedContracts.ETA < 15]['ETA'].unique().tolist()"
   ]
  },
  {
   "cell_type": "code",
   "execution_count": 21,
   "metadata": {},
   "outputs": [
    {
     "data": {
      "text/plain": [
       "[11, 0, 1, 7, 9, 5, 14, 8, 13, 2, 3, 10, 6, 4, 12]"
      ]
     },
     "execution_count": 21,
     "metadata": {},
     "output_type": "execute_result"
    }
   ],
   "source": [
    "extendedContracts[extendedContracts.ETA < 15]['ETA'].unique().tolist()"
   ]
  },
  {
   "cell_type": "code",
   "execution_count": 22,
   "metadata": {},
   "outputs": [
    {
     "name": "stdout",
     "output_type": "stream",
     "text": [
      "Number of tuples without a 'ETA' value lower than 15\n",
      "For activatedContracts:  12166\n",
      "For extendedContracts:  1284\n"
     ]
    }
   ],
   "source": [
    "conditionA = activatedContracts.ETA < 15\n",
    "conditionE = extendedContracts.ETA < 15\n",
    "print(\"Number of tuples without a 'ETA' value lower than 15\")\n",
    "print(\"For activatedContracts: \", len(activatedContracts[conditionA]))\n",
    "print(\"For extendedContracts: \", len(extendedContracts[conditionE]))"
   ]
  },
  {
   "cell_type": "code",
   "execution_count": 23,
   "metadata": {},
   "outputs": [],
   "source": [
    "activatedContracts.loc[conditionA, 'ETA'] = 0\n",
    "extendedContracts.loc[conditionE, 'ETA'] = 0"
   ]
  },
  {
   "cell_type": "markdown",
   "metadata": {},
   "source": [
    "For PROVINCIAIMPRESA, a valid province is always considered"
   ]
  },
  {
   "cell_type": "code",
   "execution_count": 24,
   "metadata": {},
   "outputs": [
    {
     "data": {
      "text/plain": [
       "['BERGAMO',\n",
       " 'LECCO',\n",
       " 'BRESCIA',\n",
       " 'COMO',\n",
       " 'LODI',\n",
       " 'MANTOVA',\n",
       " 'CREMONA',\n",
       " 'PAVIA',\n",
       " 'MILANO',\n",
       " 'VARESE',\n",
       " 'SONDRIO',\n",
       " 'MONZA E BRIANZA']"
      ]
     },
     "execution_count": 24,
     "metadata": {},
     "output_type": "execute_result"
    }
   ],
   "source": [
    "activatedContracts.PROVINCIAIMPRESA.unique().tolist()"
   ]
  },
  {
   "cell_type": "code",
   "execution_count": 25,
   "metadata": {},
   "outputs": [
    {
     "data": {
      "text/plain": [
       "['BERGAMO',\n",
       " 'LECCO',\n",
       " 'BRESCIA',\n",
       " 'COMO',\n",
       " 'LODI',\n",
       " 'MANTOVA',\n",
       " 'CREMONA',\n",
       " 'PAVIA',\n",
       " 'MILANO',\n",
       " 'VARESE',\n",
       " 'SONDRIO',\n",
       " 'MONZA E BRIANZA']"
      ]
     },
     "execution_count": 25,
     "metadata": {},
     "output_type": "execute_result"
    }
   ],
   "source": [
    "extendedContracts.PROVINCIAIMPRESA.unique().tolist()"
   ]
  },
  {
   "cell_type": "markdown",
   "metadata": {},
   "source": [
    "FOR MODALITALAVORO, we have a 'NON DEFINITO' that indicates an undefined value. In the case of activatedContracts we also have NaN values. I think we can change the NaN values into 'NON DEFINITO' values. They cannot be removed because they would change the properties of the datasets (NaN values represents the ~5% of the data and 'NON DEFINITO' ~11%)"
   ]
  },
  {
   "cell_type": "code",
   "execution_count": 26,
   "metadata": {},
   "outputs": [
    {
     "data": {
      "text/plain": [
       "['TEMPO PIENO',\n",
       " 'NON DEFINITO',\n",
       " 'TEMPO PARZIALE ORIZZONTALE',\n",
       " 'TEMPO PARZIALE MISTO',\n",
       " 'TEMPO PARZIALE VERTICALE',\n",
       " nan]"
      ]
     },
     "execution_count": 26,
     "metadata": {},
     "output_type": "execute_result"
    }
   ],
   "source": [
    "activatedContracts.MODALITALAVORO.unique().tolist()"
   ]
  },
  {
   "cell_type": "code",
   "execution_count": 27,
   "metadata": {},
   "outputs": [
    {
     "data": {
      "text/plain": [
       "['NON DEFINITO',\n",
       " 'TEMPO PIENO',\n",
       " 'TEMPO PARZIALE ORIZZONTALE',\n",
       " 'TEMPO PARZIALE VERTICALE',\n",
       " 'TEMPO PARZIALE MISTO']"
      ]
     },
     "execution_count": 27,
     "metadata": {},
     "output_type": "execute_result"
    }
   ],
   "source": [
    "extendedContracts.MODALITALAVORO.unique().tolist()"
   ]
  },
  {
   "cell_type": "code",
   "execution_count": 28,
   "metadata": {},
   "outputs": [
    {
     "name": "stdout",
     "output_type": "stream",
     "text": [
      "Number of tuples without a 'MODALITALAVORO' value\n",
      "NaN for activatedContracts:  440779\n",
      "NON DEFINITO for activatedContracts:  1087460\n"
     ]
    }
   ],
   "source": [
    "conditionA = activatedContracts.MODALITALAVORO.isna()\n",
    "print(\"Number of tuples without a 'MODALITALAVORO' value\")\n",
    "print(\"NaN for activatedContracts: \", len(activatedContracts[conditionA]))\n",
    "print(\"NON DEFINITO for activatedContracts: \", len(activatedContracts[activatedContracts.MODALITALAVORO == 'NON DEFINITO']))"
   ]
  },
  {
   "cell_type": "code",
   "execution_count": 29,
   "metadata": {},
   "outputs": [
    {
     "name": "stdout",
     "output_type": "stream",
     "text": [
      "Number of tuples without a 'MODALITALAVORO' value\n",
      "NaN for activatedContracts:  0\n"
     ]
    }
   ],
   "source": [
    "activatedContracts.loc[conditionA, 'MODALITALAVORO'] = 'NON DEFINITO'\n",
    "conditionA = activatedContracts.MODALITALAVORO.isna()\n",
    "print(\"Number of tuples without a 'MODALITALAVORO' value\")\n",
    "print(\"NaN for activatedContracts: \", len(activatedContracts[conditionA]))"
   ]
  },
  {
   "cell_type": "markdown",
   "metadata": {},
   "source": [
    "For CONTRATTO, we have 'NON DEFINITO' values for activatedContracts but not for extendedContracts, but there are no NaN values. They cannot be removed as they represents ~16% of all rows"
   ]
  },
  {
   "cell_type": "code",
   "execution_count": 30,
   "metadata": {},
   "outputs": [
    {
     "data": {
      "text/plain": [
       "[False]"
      ]
     },
     "execution_count": 30,
     "metadata": {},
     "output_type": "execute_result"
    }
   ],
   "source": [
    "activatedContracts.CONTRATTO.isna().unique().tolist() "
   ]
  },
  {
   "cell_type": "code",
   "execution_count": 31,
   "metadata": {},
   "outputs": [
    {
     "data": {
      "text/plain": [
       "[False]"
      ]
     },
     "execution_count": 31,
     "metadata": {},
     "output_type": "execute_result"
    }
   ],
   "source": [
    "(activatedContracts.CONTRATTO == 'NON DEFINITO').unique().tolist()"
   ]
  },
  {
   "cell_type": "code",
   "execution_count": 32,
   "metadata": {},
   "outputs": [
    {
     "name": "stdout",
     "output_type": "stream",
     "text": [
      "Number of rows with 'NON DEFINITO' value for CONTRATTO:  1528239\n"
     ]
    }
   ],
   "source": [
    "conditionA = activatedContracts.MODALITALAVORO == 'NON DEFINITO'\n",
    "print(\"Number of rows with 'NON DEFINITO' value for CONTRATTO: \", len(activatedContracts[conditionA]))"
   ]
  },
  {
   "cell_type": "code",
   "execution_count": 33,
   "metadata": {},
   "outputs": [
    {
     "data": {
      "text/plain": [
       "[False]"
      ]
     },
     "execution_count": 33,
     "metadata": {},
     "output_type": "execute_result"
    }
   ],
   "source": [
    "extendedContracts.CONTRATTO.isna().unique().tolist() "
   ]
  },
  {
   "cell_type": "code",
   "execution_count": 34,
   "metadata": {},
   "outputs": [
    {
     "data": {
      "text/plain": [
       "[False]"
      ]
     },
     "execution_count": 34,
     "metadata": {},
     "output_type": "execute_result"
    }
   ],
   "source": [
    "(extendedContracts.CONTRATTO == 'NON DEFINITO').unique().tolist()"
   ]
  },
  {
   "cell_type": "markdown",
   "metadata": {},
   "source": [
    "For SETTOREECONOMICODETTAGLIO, we have both NaN and 'NON DEFINITO' values in activatedContracts and only NaN values in extendedContracts. Even if the number of NaN values is relatively low, I will update them into 'NON DEFINITO' to remain consistent with what I did for previous attributes"
   ]
  },
  {
   "cell_type": "code",
   "execution_count": 35,
   "metadata": {},
   "outputs": [
    {
     "data": {
      "text/plain": [
       "[False, True]"
      ]
     },
     "execution_count": 35,
     "metadata": {},
     "output_type": "execute_result"
    }
   ],
   "source": [
    "activatedContracts.SETTOREECONOMICODETTAGLIO.isna().unique().tolist() "
   ]
  },
  {
   "cell_type": "code",
   "execution_count": 36,
   "metadata": {},
   "outputs": [
    {
     "data": {
      "text/plain": [
       "[False, True]"
      ]
     },
     "execution_count": 36,
     "metadata": {},
     "output_type": "execute_result"
    }
   ],
   "source": [
    "extendedContracts.SETTOREECONOMICODETTAGLIO.isna().unique().tolist() "
   ]
  },
  {
   "cell_type": "code",
   "execution_count": 37,
   "metadata": {},
   "outputs": [
    {
     "data": {
      "text/plain": [
       "[False]"
      ]
     },
     "execution_count": 37,
     "metadata": {},
     "output_type": "execute_result"
    }
   ],
   "source": [
    "(activatedContracts.SETTOREECONOMICODETTAGLIO == 'NON DEFINITO').unique().tolist()"
   ]
  },
  {
   "cell_type": "code",
   "execution_count": 38,
   "metadata": {},
   "outputs": [
    {
     "data": {
      "text/plain": [
       "[False]"
      ]
     },
     "execution_count": 38,
     "metadata": {},
     "output_type": "execute_result"
    }
   ],
   "source": [
    "(extendedContracts.SETTOREECONOMICODETTAGLIO == 'NON DEFINITO').unique().tolist()"
   ]
  },
  {
   "cell_type": "code",
   "execution_count": 39,
   "metadata": {},
   "outputs": [
    {
     "name": "stdout",
     "output_type": "stream",
     "text": [
      "Number of tuples without a 'SETTOREECONOMICODETTAGLIO' value\n",
      "NaN for activatedContracts:  2888\n",
      "NON DEFINITO for activatedContracts:  0\n"
     ]
    }
   ],
   "source": [
    "conditionA = activatedContracts.SETTOREECONOMICODETTAGLIO.isna()\n",
    "print(\"Number of tuples without a 'SETTOREECONOMICODETTAGLIO' value\")\n",
    "print(\"NaN for activatedContracts: \", len(activatedContracts[conditionA]))\n",
    "print(\"NON DEFINITO for activatedContracts: \", len(activatedContracts[activatedContracts.SETTOREECONOMICODETTAGLIO == 'NON DEFINITO']))"
   ]
  },
  {
   "cell_type": "code",
   "execution_count": 40,
   "metadata": {},
   "outputs": [
    {
     "name": "stdout",
     "output_type": "stream",
     "text": [
      "Number of tuples without a 'SETTOREECONOMICODETTAGLIO' value\n",
      "NaN for extendedContracts:  2291\n",
      "NON DEFINITO for extendedContracts:  0\n"
     ]
    }
   ],
   "source": [
    "conditionE = extendedContracts.SETTOREECONOMICODETTAGLIO.isna()\n",
    "print(\"Number of tuples without a 'SETTOREECONOMICODETTAGLIO' value\")\n",
    "print(\"NaN for extendedContracts: \", len(extendedContracts[conditionE]))\n",
    "print(\"NON DEFINITO for extendedContracts: \", len(extendedContracts[extendedContracts.SETTOREECONOMICODETTAGLIO == 'NON DEFINITO']))"
   ]
  },
  {
   "cell_type": "code",
   "execution_count": 41,
   "metadata": {},
   "outputs": [
    {
     "name": "stdout",
     "output_type": "stream",
     "text": [
      "Number of tuples without a 'SETTOREECONOMICODETTAGLIO' value\n",
      "NaN for activatedContracts:  0\n"
     ]
    }
   ],
   "source": [
    "activatedContracts.loc[conditionA, 'SETTOREECONOMICODETTAGLIO'] = 'NON DEFINITO'\n",
    "conditionA = activatedContracts.SETTOREECONOMICODETTAGLIO.isna()\n",
    "print(\"Number of tuples without a 'SETTOREECONOMICODETTAGLIO' value\")\n",
    "print(\"NaN for activatedContracts: \", len(activatedContracts[conditionA]))"
   ]
  },
  {
   "cell_type": "code",
   "execution_count": 42,
   "metadata": {},
   "outputs": [
    {
     "name": "stdout",
     "output_type": "stream",
     "text": [
      "Number of tuples without a 'SETTOREECONOMICODETTAGLIO' value\n",
      "NaN for extendedContracts:  0\n"
     ]
    }
   ],
   "source": [
    "extendedContracts.loc[conditionE, 'SETTOREECONOMICODETTAGLIO'] = 'NON DEFINITO'\n",
    "conditionE = extendedContracts.SETTOREECONOMICODETTAGLIO.isna()\n",
    "print(\"Number of tuples without a 'SETTOREECONOMICODETTAGLIO' value\")\n",
    "print(\"NaN for extendedContracts: \", len(extendedContracts[conditionE]))"
   ]
  },
  {
   "cell_type": "markdown",
   "metadata": {},
   "source": [
    "In order to do analysis on labor market, I want to combine the datasets activated contracts and extended contracts, since an extended contract can be seen as the activation of a new contract"
   ]
  },
  {
   "cell_type": "code",
   "execution_count": 43,
   "metadata": {},
   "outputs": [
    {
     "data": {
      "text/html": [
       "<div>\n",
       "<style scoped>\n",
       "    .dataframe tbody tr th:only-of-type {\n",
       "        vertical-align: middle;\n",
       "    }\n",
       "\n",
       "    .dataframe tbody tr th {\n",
       "        vertical-align: top;\n",
       "    }\n",
       "\n",
       "    .dataframe thead th {\n",
       "        text-align: right;\n",
       "    }\n",
       "</style>\n",
       "<table border=\"1\" class=\"dataframe\">\n",
       "  <thead>\n",
       "    <tr style=\"text-align: right;\">\n",
       "      <th></th>\n",
       "      <th>GENERE</th>\n",
       "      <th>ETA</th>\n",
       "      <th>SETTOREECONOMICODETTAGLIO</th>\n",
       "      <th>TITOLOSTUDIO</th>\n",
       "      <th>CONTRATTO</th>\n",
       "      <th>MODALITALAVORO</th>\n",
       "      <th>PROVINCIAIMPRESA</th>\n",
       "      <th>CITTADINANZA</th>\n",
       "    </tr>\n",
       "    <tr>\n",
       "      <th>DATA</th>\n",
       "      <th></th>\n",
       "      <th></th>\n",
       "      <th></th>\n",
       "      <th></th>\n",
       "      <th></th>\n",
       "      <th></th>\n",
       "      <th></th>\n",
       "      <th></th>\n",
       "    </tr>\n",
       "  </thead>\n",
       "  <tbody>\n",
       "    <tr>\n",
       "      <th>2020-09-05</th>\n",
       "      <td>F</td>\n",
       "      <td>60</td>\n",
       "      <td>Attività di famiglie e convivenze come datori ...</td>\n",
       "      <td>NESSUN TITOLO DI STUDIO</td>\n",
       "      <td>LAVORO DOMESTICO</td>\n",
       "      <td>TEMPO PIENO</td>\n",
       "      <td>BERGAMO</td>\n",
       "      <td>STRANIERO</td>\n",
       "    </tr>\n",
       "    <tr>\n",
       "      <th>2019-12-07</th>\n",
       "      <td>M</td>\n",
       "      <td>43</td>\n",
       "      <td>Gestioni di funicolari, ski-lift e seggiovie s...</td>\n",
       "      <td>LICENZA MEDIA</td>\n",
       "      <td>LAVORO A TEMPO DETERMINATO</td>\n",
       "      <td>TEMPO PIENO</td>\n",
       "      <td>BERGAMO</td>\n",
       "      <td>ITALIANO</td>\n",
       "    </tr>\n",
       "    <tr>\n",
       "      <th>2013-05-06</th>\n",
       "      <td>F</td>\n",
       "      <td>20</td>\n",
       "      <td>Fabbricazione di altre apparecchiature elettri...</td>\n",
       "      <td>LICENZA MEDIA</td>\n",
       "      <td>APPRENDISTATO PROFESSIONALIZZANTE O CONTRATTO ...</td>\n",
       "      <td>TEMPO PIENO</td>\n",
       "      <td>BERGAMO</td>\n",
       "      <td>ITALIANO</td>\n",
       "    </tr>\n",
       "    <tr>\n",
       "      <th>2010-12-03</th>\n",
       "      <td>F</td>\n",
       "      <td>28</td>\n",
       "      <td>Alberghi</td>\n",
       "      <td>DIPLOMA DI ISTRUZIONE SECONDARIA SUPERIORE  CH...</td>\n",
       "      <td>LAVORO INTERMITTENTE A TEMPO DETERMINATO</td>\n",
       "      <td>NON DEFINITO</td>\n",
       "      <td>BERGAMO</td>\n",
       "      <td>ITALIANO</td>\n",
       "    </tr>\n",
       "    <tr>\n",
       "      <th>2021-06-04</th>\n",
       "      <td>F</td>\n",
       "      <td>49</td>\n",
       "      <td>Rifugi di montagna</td>\n",
       "      <td>LICENZA MEDIA</td>\n",
       "      <td>LAVORO INTERMITTENTE</td>\n",
       "      <td>NON DEFINITO</td>\n",
       "      <td>BERGAMO</td>\n",
       "      <td>ITALIANO</td>\n",
       "    </tr>\n",
       "    <tr>\n",
       "      <th>...</th>\n",
       "      <td>...</td>\n",
       "      <td>...</td>\n",
       "      <td>...</td>\n",
       "      <td>...</td>\n",
       "      <td>...</td>\n",
       "      <td>...</td>\n",
       "      <td>...</td>\n",
       "      <td>...</td>\n",
       "    </tr>\n",
       "    <tr>\n",
       "      <th>2018-04-09</th>\n",
       "      <td>F</td>\n",
       "      <td>50</td>\n",
       "      <td>Installazione di altre macchine ed apparecchia...</td>\n",
       "      <td>LICENZA ELEMENTARE</td>\n",
       "      <td>LAVORO A TEMPO DETERMINATO</td>\n",
       "      <td>TEMPO PARZIALE ORIZZONTALE</td>\n",
       "      <td>MONZA E BRIANZA</td>\n",
       "      <td>ITALIANO</td>\n",
       "    </tr>\n",
       "    <tr>\n",
       "      <th>2018-12-10</th>\n",
       "      <td>F</td>\n",
       "      <td>52</td>\n",
       "      <td>Mense</td>\n",
       "      <td>LICENZA MEDIA</td>\n",
       "      <td>LAVORO A TEMPO DETERMINATO</td>\n",
       "      <td>TEMPO PARZIALE ORIZZONTALE</td>\n",
       "      <td>MONZA E BRIANZA</td>\n",
       "      <td>ITALIANO</td>\n",
       "    </tr>\n",
       "    <tr>\n",
       "      <th>2017-01-10</th>\n",
       "      <td>F</td>\n",
       "      <td>37</td>\n",
       "      <td>Servizi integrati di gestione agli edifici</td>\n",
       "      <td>LICENZA MEDIA</td>\n",
       "      <td>LAVORO A TEMPO DETERMINATO</td>\n",
       "      <td>TEMPO PARZIALE ORIZZONTALE</td>\n",
       "      <td>BRESCIA</td>\n",
       "      <td>ITALIANO</td>\n",
       "    </tr>\n",
       "    <tr>\n",
       "      <th>2019-11-07</th>\n",
       "      <td>M</td>\n",
       "      <td>36</td>\n",
       "      <td>Installazione di impianti elettrici in edifici...</td>\n",
       "      <td>NESSUN TITOLO DI STUDIO</td>\n",
       "      <td>LAVORO A TEMPO DETERMINATO</td>\n",
       "      <td>TEMPO PIENO</td>\n",
       "      <td>BRESCIA</td>\n",
       "      <td>ITALIANO</td>\n",
       "    </tr>\n",
       "    <tr>\n",
       "      <th>2021-04-07</th>\n",
       "      <td>M</td>\n",
       "      <td>40</td>\n",
       "      <td>Fabbricazione e montaggio di biciclette (inclu...</td>\n",
       "      <td>NESSUN TITOLO DI STUDIO</td>\n",
       "      <td>LAVORO A TEMPO DETERMINATO</td>\n",
       "      <td>TEMPO PIENO</td>\n",
       "      <td>BERGAMO</td>\n",
       "      <td>STRANIERO</td>\n",
       "    </tr>\n",
       "  </tbody>\n",
       "</table>\n",
       "<p>12993411 rows × 8 columns</p>\n",
       "</div>"
      ],
      "text/plain": [
       "           GENERE  ETA                          SETTOREECONOMICODETTAGLIO  \\\n",
       "DATA                                                                        \n",
       "2020-09-05      F   60  Attività di famiglie e convivenze come datori ...   \n",
       "2019-12-07      M   43  Gestioni di funicolari, ski-lift e seggiovie s...   \n",
       "2013-05-06      F   20  Fabbricazione di altre apparecchiature elettri...   \n",
       "2010-12-03      F   28                                           Alberghi   \n",
       "2021-06-04      F   49                                 Rifugi di montagna   \n",
       "...           ...  ...                                                ...   \n",
       "2018-04-09      F   50  Installazione di altre macchine ed apparecchia...   \n",
       "2018-12-10      F   52                                              Mense   \n",
       "2017-01-10      F   37         Servizi integrati di gestione agli edifici   \n",
       "2019-11-07      M   36  Installazione di impianti elettrici in edifici...   \n",
       "2021-04-07      M   40  Fabbricazione e montaggio di biciclette (inclu...   \n",
       "\n",
       "                                                 TITOLOSTUDIO  \\\n",
       "DATA                                                            \n",
       "2020-09-05                            NESSUN TITOLO DI STUDIO   \n",
       "2019-12-07                                      LICENZA MEDIA   \n",
       "2013-05-06                                      LICENZA MEDIA   \n",
       "2010-12-03  DIPLOMA DI ISTRUZIONE SECONDARIA SUPERIORE  CH...   \n",
       "2021-06-04                                      LICENZA MEDIA   \n",
       "...                                                       ...   \n",
       "2018-04-09                                 LICENZA ELEMENTARE   \n",
       "2018-12-10                                      LICENZA MEDIA   \n",
       "2017-01-10                                      LICENZA MEDIA   \n",
       "2019-11-07                            NESSUN TITOLO DI STUDIO   \n",
       "2021-04-07                            NESSUN TITOLO DI STUDIO   \n",
       "\n",
       "                                                    CONTRATTO  \\\n",
       "DATA                                                            \n",
       "2020-09-05                                   LAVORO DOMESTICO   \n",
       "2019-12-07                         LAVORO A TEMPO DETERMINATO   \n",
       "2013-05-06  APPRENDISTATO PROFESSIONALIZZANTE O CONTRATTO ...   \n",
       "2010-12-03           LAVORO INTERMITTENTE A TEMPO DETERMINATO   \n",
       "2021-06-04                               LAVORO INTERMITTENTE   \n",
       "...                                                       ...   \n",
       "2018-04-09                         LAVORO A TEMPO DETERMINATO   \n",
       "2018-12-10                         LAVORO A TEMPO DETERMINATO   \n",
       "2017-01-10                         LAVORO A TEMPO DETERMINATO   \n",
       "2019-11-07                         LAVORO A TEMPO DETERMINATO   \n",
       "2021-04-07                         LAVORO A TEMPO DETERMINATO   \n",
       "\n",
       "                        MODALITALAVORO PROVINCIAIMPRESA CITTADINANZA  \n",
       "DATA                                                                  \n",
       "2020-09-05                 TEMPO PIENO          BERGAMO    STRANIERO  \n",
       "2019-12-07                 TEMPO PIENO          BERGAMO     ITALIANO  \n",
       "2013-05-06                 TEMPO PIENO          BERGAMO     ITALIANO  \n",
       "2010-12-03                NON DEFINITO          BERGAMO     ITALIANO  \n",
       "2021-06-04                NON DEFINITO          BERGAMO     ITALIANO  \n",
       "...                                ...              ...          ...  \n",
       "2018-04-09  TEMPO PARZIALE ORIZZONTALE  MONZA E BRIANZA     ITALIANO  \n",
       "2018-12-10  TEMPO PARZIALE ORIZZONTALE  MONZA E BRIANZA     ITALIANO  \n",
       "2017-01-10  TEMPO PARZIALE ORIZZONTALE          BRESCIA     ITALIANO  \n",
       "2019-11-07                 TEMPO PIENO          BRESCIA     ITALIANO  \n",
       "2021-04-07                 TEMPO PIENO          BERGAMO    STRANIERO  \n",
       "\n",
       "[12993411 rows x 8 columns]"
      ]
     },
     "execution_count": 43,
     "metadata": {},
     "output_type": "execute_result"
    }
   ],
   "source": [
    "finalDataset = pd.concat([activatedContracts, extendedContracts], ignore_index=True)\n",
    "'''Make the Date the index'''\n",
    "finalDataset.index = finalDataset.DATA\n",
    "finalDataset.drop(columns=['DATA'], inplace=True)\n",
    "finalDataset"
   ]
  },
  {
   "cell_type": "markdown",
   "metadata": {},
   "source": [
    "Finally, I would change the content of the ETA column by grouping the age values into four main categories:\n",
    "- 15-24\n",
    "- 25-49\n",
    "- 50-64\n",
    "- 65 o piu'\n",
    "\n",
    "It is common when talking about labour market to consider age groups instead of the actual age."
   ]
  },
  {
   "cell_type": "code",
   "execution_count": 44,
   "metadata": {},
   "outputs": [
    {
     "data": {
      "text/html": [
       "<div>\n",
       "<style scoped>\n",
       "    .dataframe tbody tr th:only-of-type {\n",
       "        vertical-align: middle;\n",
       "    }\n",
       "\n",
       "    .dataframe tbody tr th {\n",
       "        vertical-align: top;\n",
       "    }\n",
       "\n",
       "    .dataframe thead th {\n",
       "        text-align: right;\n",
       "    }\n",
       "</style>\n",
       "<table border=\"1\" class=\"dataframe\">\n",
       "  <thead>\n",
       "    <tr style=\"text-align: right;\">\n",
       "      <th></th>\n",
       "      <th>GENERE</th>\n",
       "      <th>ETA</th>\n",
       "      <th>SETTOREECONOMICODETTAGLIO</th>\n",
       "      <th>TITOLOSTUDIO</th>\n",
       "      <th>CONTRATTO</th>\n",
       "      <th>MODALITALAVORO</th>\n",
       "      <th>PROVINCIAIMPRESA</th>\n",
       "      <th>CITTADINANZA</th>\n",
       "    </tr>\n",
       "    <tr>\n",
       "      <th>DATA</th>\n",
       "      <th></th>\n",
       "      <th></th>\n",
       "      <th></th>\n",
       "      <th></th>\n",
       "      <th></th>\n",
       "      <th></th>\n",
       "      <th></th>\n",
       "      <th></th>\n",
       "    </tr>\n",
       "  </thead>\n",
       "  <tbody>\n",
       "    <tr>\n",
       "      <th>2020-09-05</th>\n",
       "      <td>F</td>\n",
       "      <td>50-64</td>\n",
       "      <td>Attività di famiglie e convivenze come datori ...</td>\n",
       "      <td>NESSUN TITOLO DI STUDIO</td>\n",
       "      <td>LAVORO DOMESTICO</td>\n",
       "      <td>TEMPO PIENO</td>\n",
       "      <td>BERGAMO</td>\n",
       "      <td>STRANIERO</td>\n",
       "    </tr>\n",
       "    <tr>\n",
       "      <th>2019-12-07</th>\n",
       "      <td>M</td>\n",
       "      <td>25-49</td>\n",
       "      <td>Gestioni di funicolari, ski-lift e seggiovie s...</td>\n",
       "      <td>LICENZA MEDIA</td>\n",
       "      <td>LAVORO A TEMPO DETERMINATO</td>\n",
       "      <td>TEMPO PIENO</td>\n",
       "      <td>BERGAMO</td>\n",
       "      <td>ITALIANO</td>\n",
       "    </tr>\n",
       "    <tr>\n",
       "      <th>2013-05-06</th>\n",
       "      <td>F</td>\n",
       "      <td>15-24</td>\n",
       "      <td>Fabbricazione di altre apparecchiature elettri...</td>\n",
       "      <td>LICENZA MEDIA</td>\n",
       "      <td>APPRENDISTATO PROFESSIONALIZZANTE O CONTRATTO ...</td>\n",
       "      <td>TEMPO PIENO</td>\n",
       "      <td>BERGAMO</td>\n",
       "      <td>ITALIANO</td>\n",
       "    </tr>\n",
       "    <tr>\n",
       "      <th>2010-12-03</th>\n",
       "      <td>F</td>\n",
       "      <td>25-49</td>\n",
       "      <td>Alberghi</td>\n",
       "      <td>DIPLOMA DI ISTRUZIONE SECONDARIA SUPERIORE  CH...</td>\n",
       "      <td>LAVORO INTERMITTENTE A TEMPO DETERMINATO</td>\n",
       "      <td>NON DEFINITO</td>\n",
       "      <td>BERGAMO</td>\n",
       "      <td>ITALIANO</td>\n",
       "    </tr>\n",
       "    <tr>\n",
       "      <th>2021-06-04</th>\n",
       "      <td>F</td>\n",
       "      <td>25-49</td>\n",
       "      <td>Rifugi di montagna</td>\n",
       "      <td>LICENZA MEDIA</td>\n",
       "      <td>LAVORO INTERMITTENTE</td>\n",
       "      <td>NON DEFINITO</td>\n",
       "      <td>BERGAMO</td>\n",
       "      <td>ITALIANO</td>\n",
       "    </tr>\n",
       "    <tr>\n",
       "      <th>...</th>\n",
       "      <td>...</td>\n",
       "      <td>...</td>\n",
       "      <td>...</td>\n",
       "      <td>...</td>\n",
       "      <td>...</td>\n",
       "      <td>...</td>\n",
       "      <td>...</td>\n",
       "      <td>...</td>\n",
       "    </tr>\n",
       "    <tr>\n",
       "      <th>2018-04-09</th>\n",
       "      <td>F</td>\n",
       "      <td>50-64</td>\n",
       "      <td>Installazione di altre macchine ed apparecchia...</td>\n",
       "      <td>LICENZA ELEMENTARE</td>\n",
       "      <td>LAVORO A TEMPO DETERMINATO</td>\n",
       "      <td>TEMPO PARZIALE ORIZZONTALE</td>\n",
       "      <td>MONZA E BRIANZA</td>\n",
       "      <td>ITALIANO</td>\n",
       "    </tr>\n",
       "    <tr>\n",
       "      <th>2018-12-10</th>\n",
       "      <td>F</td>\n",
       "      <td>50-64</td>\n",
       "      <td>Mense</td>\n",
       "      <td>LICENZA MEDIA</td>\n",
       "      <td>LAVORO A TEMPO DETERMINATO</td>\n",
       "      <td>TEMPO PARZIALE ORIZZONTALE</td>\n",
       "      <td>MONZA E BRIANZA</td>\n",
       "      <td>ITALIANO</td>\n",
       "    </tr>\n",
       "    <tr>\n",
       "      <th>2017-01-10</th>\n",
       "      <td>F</td>\n",
       "      <td>25-49</td>\n",
       "      <td>Servizi integrati di gestione agli edifici</td>\n",
       "      <td>LICENZA MEDIA</td>\n",
       "      <td>LAVORO A TEMPO DETERMINATO</td>\n",
       "      <td>TEMPO PARZIALE ORIZZONTALE</td>\n",
       "      <td>BRESCIA</td>\n",
       "      <td>ITALIANO</td>\n",
       "    </tr>\n",
       "    <tr>\n",
       "      <th>2019-11-07</th>\n",
       "      <td>M</td>\n",
       "      <td>25-49</td>\n",
       "      <td>Installazione di impianti elettrici in edifici...</td>\n",
       "      <td>NESSUN TITOLO DI STUDIO</td>\n",
       "      <td>LAVORO A TEMPO DETERMINATO</td>\n",
       "      <td>TEMPO PIENO</td>\n",
       "      <td>BRESCIA</td>\n",
       "      <td>ITALIANO</td>\n",
       "    </tr>\n",
       "    <tr>\n",
       "      <th>2021-04-07</th>\n",
       "      <td>M</td>\n",
       "      <td>25-49</td>\n",
       "      <td>Fabbricazione e montaggio di biciclette (inclu...</td>\n",
       "      <td>NESSUN TITOLO DI STUDIO</td>\n",
       "      <td>LAVORO A TEMPO DETERMINATO</td>\n",
       "      <td>TEMPO PIENO</td>\n",
       "      <td>BERGAMO</td>\n",
       "      <td>STRANIERO</td>\n",
       "    </tr>\n",
       "  </tbody>\n",
       "</table>\n",
       "<p>12993411 rows × 8 columns</p>\n",
       "</div>"
      ],
      "text/plain": [
       "           GENERE    ETA                          SETTOREECONOMICODETTAGLIO  \\\n",
       "DATA                                                                          \n",
       "2020-09-05      F  50-64  Attività di famiglie e convivenze come datori ...   \n",
       "2019-12-07      M  25-49  Gestioni di funicolari, ski-lift e seggiovie s...   \n",
       "2013-05-06      F  15-24  Fabbricazione di altre apparecchiature elettri...   \n",
       "2010-12-03      F  25-49                                           Alberghi   \n",
       "2021-06-04      F  25-49                                 Rifugi di montagna   \n",
       "...           ...    ...                                                ...   \n",
       "2018-04-09      F  50-64  Installazione di altre macchine ed apparecchia...   \n",
       "2018-12-10      F  50-64                                              Mense   \n",
       "2017-01-10      F  25-49         Servizi integrati di gestione agli edifici   \n",
       "2019-11-07      M  25-49  Installazione di impianti elettrici in edifici...   \n",
       "2021-04-07      M  25-49  Fabbricazione e montaggio di biciclette (inclu...   \n",
       "\n",
       "                                                 TITOLOSTUDIO  \\\n",
       "DATA                                                            \n",
       "2020-09-05                            NESSUN TITOLO DI STUDIO   \n",
       "2019-12-07                                      LICENZA MEDIA   \n",
       "2013-05-06                                      LICENZA MEDIA   \n",
       "2010-12-03  DIPLOMA DI ISTRUZIONE SECONDARIA SUPERIORE  CH...   \n",
       "2021-06-04                                      LICENZA MEDIA   \n",
       "...                                                       ...   \n",
       "2018-04-09                                 LICENZA ELEMENTARE   \n",
       "2018-12-10                                      LICENZA MEDIA   \n",
       "2017-01-10                                      LICENZA MEDIA   \n",
       "2019-11-07                            NESSUN TITOLO DI STUDIO   \n",
       "2021-04-07                            NESSUN TITOLO DI STUDIO   \n",
       "\n",
       "                                                    CONTRATTO  \\\n",
       "DATA                                                            \n",
       "2020-09-05                                   LAVORO DOMESTICO   \n",
       "2019-12-07                         LAVORO A TEMPO DETERMINATO   \n",
       "2013-05-06  APPRENDISTATO PROFESSIONALIZZANTE O CONTRATTO ...   \n",
       "2010-12-03           LAVORO INTERMITTENTE A TEMPO DETERMINATO   \n",
       "2021-06-04                               LAVORO INTERMITTENTE   \n",
       "...                                                       ...   \n",
       "2018-04-09                         LAVORO A TEMPO DETERMINATO   \n",
       "2018-12-10                         LAVORO A TEMPO DETERMINATO   \n",
       "2017-01-10                         LAVORO A TEMPO DETERMINATO   \n",
       "2019-11-07                         LAVORO A TEMPO DETERMINATO   \n",
       "2021-04-07                         LAVORO A TEMPO DETERMINATO   \n",
       "\n",
       "                        MODALITALAVORO PROVINCIAIMPRESA CITTADINANZA  \n",
       "DATA                                                                  \n",
       "2020-09-05                 TEMPO PIENO          BERGAMO    STRANIERO  \n",
       "2019-12-07                 TEMPO PIENO          BERGAMO     ITALIANO  \n",
       "2013-05-06                 TEMPO PIENO          BERGAMO     ITALIANO  \n",
       "2010-12-03                NON DEFINITO          BERGAMO     ITALIANO  \n",
       "2021-06-04                NON DEFINITO          BERGAMO     ITALIANO  \n",
       "...                                ...              ...          ...  \n",
       "2018-04-09  TEMPO PARZIALE ORIZZONTALE  MONZA E BRIANZA     ITALIANO  \n",
       "2018-12-10  TEMPO PARZIALE ORIZZONTALE  MONZA E BRIANZA     ITALIANO  \n",
       "2017-01-10  TEMPO PARZIALE ORIZZONTALE          BRESCIA     ITALIANO  \n",
       "2019-11-07                 TEMPO PIENO          BRESCIA     ITALIANO  \n",
       "2021-04-07                 TEMPO PIENO          BERGAMO    STRANIERO  \n",
       "\n",
       "[12993411 rows x 8 columns]"
      ]
     },
     "execution_count": 44,
     "metadata": {},
     "output_type": "execute_result"
    }
   ],
   "source": [
    "'''First the age values are substituted with values 0,1,2,3,4 (from \"ND\", \"15-24\" to \"65 o piu'\"), then they are changed with the\n",
    "actual names'''\n",
    "finalDataset.loc[finalDataset.ETA < 15, 'ETA'] = 0\n",
    "finalDataset.loc[(finalDataset.ETA > 14) & (finalDataset.ETA < 25), 'ETA'] = 1\n",
    "finalDataset.loc[(finalDataset.ETA > 24) & (finalDataset.ETA < 50), 'ETA'] = 2\n",
    "finalDataset.loc[(finalDataset.ETA > 49) & (finalDataset.ETA < 65), 'ETA'] = 3\n",
    "finalDataset.loc[finalDataset.ETA > 64, 'ETA'] = 4\n",
    "\n",
    "finalDataset = finalDataset.replace({0:\"NON DEFINITO\", 1:\"15-24\", 2:\"25-49\", 3:\"50-64\", 4:\"65 o piu'\"})\n",
    "finalDataset"
   ]
  },
  {
   "cell_type": "code",
   "execution_count": 45,
   "metadata": {},
   "outputs": [
    {
     "name": "stdout",
     "output_type": "stream",
     "text": [
      "done\n"
     ]
    }
   ],
   "source": [
    "finalDataset.to_csv(outputPath, index=True)\n",
    "print(\"done\")"
   ]
  }
 ],
 "metadata": {
  "kernelspec": {
   "display_name": "Python 3 (ipykernel)",
   "language": "python",
   "name": "python3"
  },
  "language_info": {
   "codemirror_mode": {
    "name": "ipython",
    "version": 3
   },
   "file_extension": ".py",
   "mimetype": "text/x-python",
   "name": "python",
   "nbconvert_exporter": "python",
   "pygments_lexer": "ipython3",
   "version": "3.8.12"
  }
 },
 "nbformat": 4,
 "nbformat_minor": 4
}
