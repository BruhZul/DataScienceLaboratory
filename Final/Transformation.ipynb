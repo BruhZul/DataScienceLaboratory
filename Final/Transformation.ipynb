{
 "cells": [
  {
   "cell_type": "markdown",
   "metadata": {},
   "source": [
    "# Data Transformation\n",
    "\n",
    "### The starting datasets are combined and transformed for analysis and machine learning"
   ]
  },
  {
   "cell_type": "markdown",
   "metadata": {},
   "source": [
    "#### This first section will transform the original datasets for a first analysis. \n",
    "The starting sets are `Rapporti_di_lavoro_attivati.csv` and `Rapporti_di_lavoro_prorogati.csv`. The two datasets are concatenated, since extended contracts can be seen as activated contracts, and then we consider two separated datasets, one for 2018-2019 and one for 2020-2021.\n",
    "The data are concatenated, divided and cleaned up"
   ]
  },
  {
   "cell_type": "code",
   "execution_count": 1,
   "metadata": {},
   "outputs": [],
   "source": [
    "import pandas as pd\n",
    "import numpy as np\n",
    "import matplotlib.pyplot as plt\n",
    "import datetime as dt\n",
    "from sklearn import preprocessing\n",
    "from math import isnan"
   ]
  },
  {
   "cell_type": "markdown",
   "metadata": {},
   "source": [
    "Import the two datasets"
   ]
  },
  {
   "cell_type": "code",
   "execution_count": 2,
   "metadata": {},
   "outputs": [],
   "source": [
    "activatedContractsPath = \"C:\\\\Users\\\\rotol\\\\Downloads\\\\csvs\\\\Rapporti_di_lavoro_attivati.csv\"\n",
    "extendedContractsPath = \"C:\\\\Users\\\\rotol\\\\Downloads\\\\csvs\\\\Rapporti_di_lavoro_prorogati.csv\""
   ]
  },
  {
   "cell_type": "code",
   "execution_count": 3,
   "metadata": {},
   "outputs": [
    {
     "data": {
      "text/html": [
       "<div>\n",
       "<style scoped>\n",
       "    .dataframe tbody tr th:only-of-type {\n",
       "        vertical-align: middle;\n",
       "    }\n",
       "\n",
       "    .dataframe tbody tr th {\n",
       "        vertical-align: top;\n",
       "    }\n",
       "\n",
       "    .dataframe thead th {\n",
       "        text-align: right;\n",
       "    }\n",
       "</style>\n",
       "<table border=\"1\" class=\"dataframe\">\n",
       "  <thead>\n",
       "    <tr style=\"text-align: right;\">\n",
       "      <th></th>\n",
       "      <th>DATA</th>\n",
       "      <th>GENERE</th>\n",
       "      <th>ETA</th>\n",
       "      <th>SETTOREECONOMICODETTAGLIO</th>\n",
       "      <th>TITOLOSTUDIO</th>\n",
       "      <th>CONTRATTO</th>\n",
       "      <th>MODALITALAVORO</th>\n",
       "      <th>PROVINCIAIMPRESA</th>\n",
       "      <th>ITALIANO</th>\n",
       "    </tr>\n",
       "  </thead>\n",
       "  <tbody>\n",
       "    <tr>\n",
       "      <th>0</th>\n",
       "      <td>09/05/2020</td>\n",
       "      <td>F</td>\n",
       "      <td>60</td>\n",
       "      <td>Attività di famiglie e convivenze come datori ...</td>\n",
       "      <td>NESSUN TITOLO DI STUDIO</td>\n",
       "      <td>LAVORO DOMESTICO</td>\n",
       "      <td>TEMPO PIENO</td>\n",
       "      <td>BERGAMO</td>\n",
       "      <td>UCRAINA</td>\n",
       "    </tr>\n",
       "    <tr>\n",
       "      <th>1</th>\n",
       "      <td>12/07/2019</td>\n",
       "      <td>M</td>\n",
       "      <td>43</td>\n",
       "      <td>Gestioni di funicolari, ski-lift e seggiovie s...</td>\n",
       "      <td>LICENZA MEDIA</td>\n",
       "      <td>LAVORO A TEMPO DETERMINATO</td>\n",
       "      <td>TEMPO PIENO</td>\n",
       "      <td>BERGAMO</td>\n",
       "      <td>ITALIA</td>\n",
       "    </tr>\n",
       "    <tr>\n",
       "      <th>2</th>\n",
       "      <td>05/06/2013</td>\n",
       "      <td>F</td>\n",
       "      <td>20</td>\n",
       "      <td>Fabbricazione di altre apparecchiature elettri...</td>\n",
       "      <td>LICENZA MEDIA</td>\n",
       "      <td>APPRENDISTATO PROFESSIONALIZZANTE O CONTRATTO ...</td>\n",
       "      <td>TEMPO PIENO</td>\n",
       "      <td>BERGAMO</td>\n",
       "      <td>ITALIA</td>\n",
       "    </tr>\n",
       "    <tr>\n",
       "      <th>3</th>\n",
       "      <td>12/03/2010</td>\n",
       "      <td>F</td>\n",
       "      <td>28</td>\n",
       "      <td>Alberghi</td>\n",
       "      <td>DIPLOMA DI ISTRUZIONE SECONDARIA SUPERIORE  CH...</td>\n",
       "      <td>LAVORO INTERMITTENTE A TEMPO DETERMINATO</td>\n",
       "      <td>NON DEFINITO</td>\n",
       "      <td>BERGAMO</td>\n",
       "      <td>ITALIA</td>\n",
       "    </tr>\n",
       "    <tr>\n",
       "      <th>4</th>\n",
       "      <td>06/04/2021</td>\n",
       "      <td>F</td>\n",
       "      <td>49</td>\n",
       "      <td>Rifugi di montagna</td>\n",
       "      <td>LICENZA MEDIA</td>\n",
       "      <td>LAVORO INTERMITTENTE</td>\n",
       "      <td>NON DEFINITO</td>\n",
       "      <td>BERGAMO</td>\n",
       "      <td>ITALIA</td>\n",
       "    </tr>\n",
       "    <tr>\n",
       "      <th>...</th>\n",
       "      <td>...</td>\n",
       "      <td>...</td>\n",
       "      <td>...</td>\n",
       "      <td>...</td>\n",
       "      <td>...</td>\n",
       "      <td>...</td>\n",
       "      <td>...</td>\n",
       "      <td>...</td>\n",
       "      <td>...</td>\n",
       "    </tr>\n",
       "    <tr>\n",
       "      <th>9579789</th>\n",
       "      <td>01/03/2020</td>\n",
       "      <td>M</td>\n",
       "      <td>52</td>\n",
       "      <td>Lavori di meccanica generale</td>\n",
       "      <td>LICENZA MEDIA</td>\n",
       "      <td>LAVORO A TEMPO DETERMINATO</td>\n",
       "      <td>TEMPO PIENO</td>\n",
       "      <td>BERGAMO</td>\n",
       "      <td>ITALIA</td>\n",
       "    </tr>\n",
       "    <tr>\n",
       "      <th>9579790</th>\n",
       "      <td>06/09/2010</td>\n",
       "      <td>M</td>\n",
       "      <td>61</td>\n",
       "      <td>Lavori di meccanica generale</td>\n",
       "      <td>NESSUN TITOLO DI STUDIO</td>\n",
       "      <td>LAVORO A TEMPO INDETERMINATO</td>\n",
       "      <td>TEMPO PIENO</td>\n",
       "      <td>BERGAMO</td>\n",
       "      <td>ALBANIA</td>\n",
       "    </tr>\n",
       "    <tr>\n",
       "      <th>9579791</th>\n",
       "      <td>06/11/2021</td>\n",
       "      <td>M</td>\n",
       "      <td>37</td>\n",
       "      <td>Fabbricazione di parti ed accessori per bicicl...</td>\n",
       "      <td>NESSUN TITOLO DI STUDIO</td>\n",
       "      <td>LAVORO A TEMPO DETERMINATO</td>\n",
       "      <td>TEMPO PIENO</td>\n",
       "      <td>BERGAMO</td>\n",
       "      <td>SENEGAL</td>\n",
       "    </tr>\n",
       "    <tr>\n",
       "      <th>9579792</th>\n",
       "      <td>02/02/2010</td>\n",
       "      <td>M</td>\n",
       "      <td>35</td>\n",
       "      <td>Fabbricazione di parti ed accessori per bicicl...</td>\n",
       "      <td>LICENZA MEDIA</td>\n",
       "      <td>LAVORO INTERINALE (O A SCOPO DI SOMMINISTRAZIO...</td>\n",
       "      <td>TEMPO PIENO</td>\n",
       "      <td>BERGAMO</td>\n",
       "      <td>SENEGAL</td>\n",
       "    </tr>\n",
       "    <tr>\n",
       "      <th>9579793</th>\n",
       "      <td>05/07/2012</td>\n",
       "      <td>F</td>\n",
       "      <td>39</td>\n",
       "      <td>Commercio all'ingrosso di abbigliamento e acce...</td>\n",
       "      <td>LICENZA MEDIA</td>\n",
       "      <td>LAVORO INTERINALE (O A SCOPO DI SOMMINISTRAZIO...</td>\n",
       "      <td>NaN</td>\n",
       "      <td>BERGAMO</td>\n",
       "      <td>ITALIA</td>\n",
       "    </tr>\n",
       "  </tbody>\n",
       "</table>\n",
       "<p>9579794 rows × 9 columns</p>\n",
       "</div>"
      ],
      "text/plain": [
       "               DATA GENERE  ETA  \\\n",
       "0        09/05/2020      F   60   \n",
       "1        12/07/2019      M   43   \n",
       "2        05/06/2013      F   20   \n",
       "3        12/03/2010      F   28   \n",
       "4        06/04/2021      F   49   \n",
       "...             ...    ...  ...   \n",
       "9579789  01/03/2020      M   52   \n",
       "9579790  06/09/2010      M   61   \n",
       "9579791  06/11/2021      M   37   \n",
       "9579792  02/02/2010      M   35   \n",
       "9579793  05/07/2012      F   39   \n",
       "\n",
       "                                 SETTOREECONOMICODETTAGLIO  \\\n",
       "0        Attività di famiglie e convivenze come datori ...   \n",
       "1        Gestioni di funicolari, ski-lift e seggiovie s...   \n",
       "2        Fabbricazione di altre apparecchiature elettri...   \n",
       "3                                                 Alberghi   \n",
       "4                                       Rifugi di montagna   \n",
       "...                                                    ...   \n",
       "9579789                       Lavori di meccanica generale   \n",
       "9579790                       Lavori di meccanica generale   \n",
       "9579791  Fabbricazione di parti ed accessori per bicicl...   \n",
       "9579792  Fabbricazione di parti ed accessori per bicicl...   \n",
       "9579793  Commercio all'ingrosso di abbigliamento e acce...   \n",
       "\n",
       "                                              TITOLOSTUDIO  \\\n",
       "0                                  NESSUN TITOLO DI STUDIO   \n",
       "1                                            LICENZA MEDIA   \n",
       "2                                            LICENZA MEDIA   \n",
       "3        DIPLOMA DI ISTRUZIONE SECONDARIA SUPERIORE  CH...   \n",
       "4                                            LICENZA MEDIA   \n",
       "...                                                    ...   \n",
       "9579789                                      LICENZA MEDIA   \n",
       "9579790                            NESSUN TITOLO DI STUDIO   \n",
       "9579791                            NESSUN TITOLO DI STUDIO   \n",
       "9579792                                      LICENZA MEDIA   \n",
       "9579793                                      LICENZA MEDIA   \n",
       "\n",
       "                                                 CONTRATTO MODALITALAVORO  \\\n",
       "0                                         LAVORO DOMESTICO    TEMPO PIENO   \n",
       "1                               LAVORO A TEMPO DETERMINATO    TEMPO PIENO   \n",
       "2        APPRENDISTATO PROFESSIONALIZZANTE O CONTRATTO ...    TEMPO PIENO   \n",
       "3                 LAVORO INTERMITTENTE A TEMPO DETERMINATO   NON DEFINITO   \n",
       "4                                     LAVORO INTERMITTENTE   NON DEFINITO   \n",
       "...                                                    ...            ...   \n",
       "9579789                         LAVORO A TEMPO DETERMINATO    TEMPO PIENO   \n",
       "9579790                       LAVORO A TEMPO INDETERMINATO    TEMPO PIENO   \n",
       "9579791                         LAVORO A TEMPO DETERMINATO    TEMPO PIENO   \n",
       "9579792  LAVORO INTERINALE (O A SCOPO DI SOMMINISTRAZIO...    TEMPO PIENO   \n",
       "9579793  LAVORO INTERINALE (O A SCOPO DI SOMMINISTRAZIO...            NaN   \n",
       "\n",
       "        PROVINCIAIMPRESA ITALIANO  \n",
       "0                BERGAMO  UCRAINA  \n",
       "1                BERGAMO   ITALIA  \n",
       "2                BERGAMO   ITALIA  \n",
       "3                BERGAMO   ITALIA  \n",
       "4                BERGAMO   ITALIA  \n",
       "...                  ...      ...  \n",
       "9579789          BERGAMO   ITALIA  \n",
       "9579790          BERGAMO  ALBANIA  \n",
       "9579791          BERGAMO  SENEGAL  \n",
       "9579792          BERGAMO  SENEGAL  \n",
       "9579793          BERGAMO   ITALIA  \n",
       "\n",
       "[9579794 rows x 9 columns]"
      ]
     },
     "execution_count": 3,
     "metadata": {},
     "output_type": "execute_result"
    }
   ],
   "source": [
    "activatedContracts = pd.read_csv(activatedContractsPath)\n",
    "activatedContracts"
   ]
  },
  {
   "cell_type": "code",
   "execution_count": 4,
   "metadata": {},
   "outputs": [
    {
     "data": {
      "text/html": [
       "<div>\n",
       "<style scoped>\n",
       "    .dataframe tbody tr th:only-of-type {\n",
       "        vertical-align: middle;\n",
       "    }\n",
       "\n",
       "    .dataframe tbody tr th {\n",
       "        vertical-align: top;\n",
       "    }\n",
       "\n",
       "    .dataframe thead th {\n",
       "        text-align: right;\n",
       "    }\n",
       "</style>\n",
       "<table border=\"1\" class=\"dataframe\">\n",
       "  <thead>\n",
       "    <tr style=\"text-align: right;\">\n",
       "      <th></th>\n",
       "      <th>DATA</th>\n",
       "      <th>GENERE</th>\n",
       "      <th>ETA</th>\n",
       "      <th>SETTOREECONOMICODETTAGLIO</th>\n",
       "      <th>TITOLOSTUDIO</th>\n",
       "      <th>CONTRATTO</th>\n",
       "      <th>MODALITALAVORO</th>\n",
       "      <th>PROVINCIAIMPRESA</th>\n",
       "      <th>ITALIANO</th>\n",
       "    </tr>\n",
       "  </thead>\n",
       "  <tbody>\n",
       "    <tr>\n",
       "      <th>0</th>\n",
       "      <td>10/01/2020</td>\n",
       "      <td>F</td>\n",
       "      <td>48</td>\n",
       "      <td>Rifugi di montagna</td>\n",
       "      <td>LICENZA MEDIA</td>\n",
       "      <td>LAVORO INTERMITTENTE</td>\n",
       "      <td>NON DEFINITO</td>\n",
       "      <td>BERGAMO</td>\n",
       "      <td>ITALIA</td>\n",
       "    </tr>\n",
       "    <tr>\n",
       "      <th>1</th>\n",
       "      <td>01/03/2013</td>\n",
       "      <td>M</td>\n",
       "      <td>56</td>\n",
       "      <td>Gestioni di funicolari, ski-lift e seggiovie s...</td>\n",
       "      <td>LICENZA MEDIA</td>\n",
       "      <td>LAVORO A TEMPO DETERMINATO</td>\n",
       "      <td>TEMPO PIENO</td>\n",
       "      <td>BERGAMO</td>\n",
       "      <td>ITALIA</td>\n",
       "    </tr>\n",
       "    <tr>\n",
       "      <th>2</th>\n",
       "      <td>09/10/2018</td>\n",
       "      <td>M</td>\n",
       "      <td>58</td>\n",
       "      <td>Rifugi di montagna</td>\n",
       "      <td>LICENZA MEDIA</td>\n",
       "      <td>LAVORO A TEMPO DETERMINATO</td>\n",
       "      <td>TEMPO PARZIALE ORIZZONTALE</td>\n",
       "      <td>BERGAMO</td>\n",
       "      <td>ITALIA</td>\n",
       "    </tr>\n",
       "    <tr>\n",
       "      <th>3</th>\n",
       "      <td>10/04/2017</td>\n",
       "      <td>M</td>\n",
       "      <td>41</td>\n",
       "      <td>Realizzazione di coperture</td>\n",
       "      <td>NESSUN TITOLO DI STUDIO</td>\n",
       "      <td>LAVORO A TEMPO DETERMINATO</td>\n",
       "      <td>TEMPO PIENO</td>\n",
       "      <td>BERGAMO</td>\n",
       "      <td>MAROCCO</td>\n",
       "    </tr>\n",
       "    <tr>\n",
       "      <th>4</th>\n",
       "      <td>03/01/2010</td>\n",
       "      <td>M</td>\n",
       "      <td>56</td>\n",
       "      <td>Gestioni di funicolari, ski-lift e seggiovie s...</td>\n",
       "      <td>LICENZA MEDIA</td>\n",
       "      <td>LAVORO A TEMPO DETERMINATO</td>\n",
       "      <td>TEMPO PIENO</td>\n",
       "      <td>BERGAMO</td>\n",
       "      <td>ITALIA</td>\n",
       "    </tr>\n",
       "    <tr>\n",
       "      <th>...</th>\n",
       "      <td>...</td>\n",
       "      <td>...</td>\n",
       "      <td>...</td>\n",
       "      <td>...</td>\n",
       "      <td>...</td>\n",
       "      <td>...</td>\n",
       "      <td>...</td>\n",
       "      <td>...</td>\n",
       "      <td>...</td>\n",
       "    </tr>\n",
       "    <tr>\n",
       "      <th>3413612</th>\n",
       "      <td>04/09/2018</td>\n",
       "      <td>F</td>\n",
       "      <td>50</td>\n",
       "      <td>Installazione di altre macchine ed apparecchia...</td>\n",
       "      <td>LICENZA ELEMENTARE</td>\n",
       "      <td>LAVORO A TEMPO DETERMINATO</td>\n",
       "      <td>TEMPO PARZIALE ORIZZONTALE</td>\n",
       "      <td>MONZA E BRIANZA</td>\n",
       "      <td>ITALIA</td>\n",
       "    </tr>\n",
       "    <tr>\n",
       "      <th>3413613</th>\n",
       "      <td>12/10/2018</td>\n",
       "      <td>F</td>\n",
       "      <td>52</td>\n",
       "      <td>Mense</td>\n",
       "      <td>LICENZA MEDIA</td>\n",
       "      <td>LAVORO A TEMPO DETERMINATO</td>\n",
       "      <td>TEMPO PARZIALE ORIZZONTALE</td>\n",
       "      <td>MONZA E BRIANZA</td>\n",
       "      <td>ITALIA</td>\n",
       "    </tr>\n",
       "    <tr>\n",
       "      <th>3413614</th>\n",
       "      <td>01/10/2017</td>\n",
       "      <td>F</td>\n",
       "      <td>37</td>\n",
       "      <td>Servizi integrati di gestione agli edifici</td>\n",
       "      <td>LICENZA MEDIA</td>\n",
       "      <td>LAVORO A TEMPO DETERMINATO</td>\n",
       "      <td>TEMPO PARZIALE ORIZZONTALE</td>\n",
       "      <td>BRESCIA</td>\n",
       "      <td>ITALIA</td>\n",
       "    </tr>\n",
       "    <tr>\n",
       "      <th>3413615</th>\n",
       "      <td>11/07/2019</td>\n",
       "      <td>M</td>\n",
       "      <td>36</td>\n",
       "      <td>Installazione di impianti elettrici in edifici...</td>\n",
       "      <td>NESSUN TITOLO DI STUDIO</td>\n",
       "      <td>LAVORO A TEMPO DETERMINATO</td>\n",
       "      <td>TEMPO PIENO</td>\n",
       "      <td>BRESCIA</td>\n",
       "      <td>ITALIA</td>\n",
       "    </tr>\n",
       "    <tr>\n",
       "      <th>3413616</th>\n",
       "      <td>04/07/2021</td>\n",
       "      <td>M</td>\n",
       "      <td>40</td>\n",
       "      <td>Fabbricazione e montaggio di biciclette (inclu...</td>\n",
       "      <td>NESSUN TITOLO DI STUDIO</td>\n",
       "      <td>LAVORO A TEMPO DETERMINATO</td>\n",
       "      <td>TEMPO PIENO</td>\n",
       "      <td>BERGAMO</td>\n",
       "      <td>MAROCCO</td>\n",
       "    </tr>\n",
       "  </tbody>\n",
       "</table>\n",
       "<p>3413617 rows × 9 columns</p>\n",
       "</div>"
      ],
      "text/plain": [
       "               DATA GENERE  ETA  \\\n",
       "0        10/01/2020      F   48   \n",
       "1        01/03/2013      M   56   \n",
       "2        09/10/2018      M   58   \n",
       "3        10/04/2017      M   41   \n",
       "4        03/01/2010      M   56   \n",
       "...             ...    ...  ...   \n",
       "3413612  04/09/2018      F   50   \n",
       "3413613  12/10/2018      F   52   \n",
       "3413614  01/10/2017      F   37   \n",
       "3413615  11/07/2019      M   36   \n",
       "3413616  04/07/2021      M   40   \n",
       "\n",
       "                                 SETTOREECONOMICODETTAGLIO  \\\n",
       "0                                       Rifugi di montagna   \n",
       "1        Gestioni di funicolari, ski-lift e seggiovie s...   \n",
       "2                                       Rifugi di montagna   \n",
       "3                               Realizzazione di coperture   \n",
       "4        Gestioni di funicolari, ski-lift e seggiovie s...   \n",
       "...                                                    ...   \n",
       "3413612  Installazione di altre macchine ed apparecchia...   \n",
       "3413613                                              Mense   \n",
       "3413614         Servizi integrati di gestione agli edifici   \n",
       "3413615  Installazione di impianti elettrici in edifici...   \n",
       "3413616  Fabbricazione e montaggio di biciclette (inclu...   \n",
       "\n",
       "                    TITOLOSTUDIO                   CONTRATTO  \\\n",
       "0                  LICENZA MEDIA        LAVORO INTERMITTENTE   \n",
       "1                  LICENZA MEDIA  LAVORO A TEMPO DETERMINATO   \n",
       "2                  LICENZA MEDIA  LAVORO A TEMPO DETERMINATO   \n",
       "3        NESSUN TITOLO DI STUDIO  LAVORO A TEMPO DETERMINATO   \n",
       "4                  LICENZA MEDIA  LAVORO A TEMPO DETERMINATO   \n",
       "...                          ...                         ...   \n",
       "3413612       LICENZA ELEMENTARE  LAVORO A TEMPO DETERMINATO   \n",
       "3413613            LICENZA MEDIA  LAVORO A TEMPO DETERMINATO   \n",
       "3413614            LICENZA MEDIA  LAVORO A TEMPO DETERMINATO   \n",
       "3413615  NESSUN TITOLO DI STUDIO  LAVORO A TEMPO DETERMINATO   \n",
       "3413616  NESSUN TITOLO DI STUDIO  LAVORO A TEMPO DETERMINATO   \n",
       "\n",
       "                     MODALITALAVORO PROVINCIAIMPRESA ITALIANO  \n",
       "0                      NON DEFINITO          BERGAMO   ITALIA  \n",
       "1                       TEMPO PIENO          BERGAMO   ITALIA  \n",
       "2        TEMPO PARZIALE ORIZZONTALE          BERGAMO   ITALIA  \n",
       "3                       TEMPO PIENO          BERGAMO  MAROCCO  \n",
       "4                       TEMPO PIENO          BERGAMO   ITALIA  \n",
       "...                             ...              ...      ...  \n",
       "3413612  TEMPO PARZIALE ORIZZONTALE  MONZA E BRIANZA   ITALIA  \n",
       "3413613  TEMPO PARZIALE ORIZZONTALE  MONZA E BRIANZA   ITALIA  \n",
       "3413614  TEMPO PARZIALE ORIZZONTALE          BRESCIA   ITALIA  \n",
       "3413615                 TEMPO PIENO          BRESCIA   ITALIA  \n",
       "3413616                 TEMPO PIENO          BERGAMO  MAROCCO  \n",
       "\n",
       "[3413617 rows x 9 columns]"
      ]
     },
     "execution_count": 4,
     "metadata": {},
     "output_type": "execute_result"
    }
   ],
   "source": [
    "extendedContracts = pd.read_csv(extendedContractsPath)\n",
    "extendedContracts"
   ]
  },
  {
   "cell_type": "markdown",
   "metadata": {},
   "source": [
    "Concatenate the two sets"
   ]
  },
  {
   "cell_type": "code",
   "execution_count": 5,
   "metadata": {},
   "outputs": [
    {
     "data": {
      "text/html": [
       "<div>\n",
       "<style scoped>\n",
       "    .dataframe tbody tr th:only-of-type {\n",
       "        vertical-align: middle;\n",
       "    }\n",
       "\n",
       "    .dataframe tbody tr th {\n",
       "        vertical-align: top;\n",
       "    }\n",
       "\n",
       "    .dataframe thead th {\n",
       "        text-align: right;\n",
       "    }\n",
       "</style>\n",
       "<table border=\"1\" class=\"dataframe\">\n",
       "  <thead>\n",
       "    <tr style=\"text-align: right;\">\n",
       "      <th></th>\n",
       "      <th>DATA</th>\n",
       "      <th>GENERE</th>\n",
       "      <th>ETA</th>\n",
       "      <th>SETTOREECONOMICODETTAGLIO</th>\n",
       "      <th>TITOLOSTUDIO</th>\n",
       "      <th>CONTRATTO</th>\n",
       "      <th>MODALITALAVORO</th>\n",
       "      <th>PROVINCIAIMPRESA</th>\n",
       "      <th>ITALIANO</th>\n",
       "    </tr>\n",
       "  </thead>\n",
       "  <tbody>\n",
       "    <tr>\n",
       "      <th>0</th>\n",
       "      <td>09/05/2020</td>\n",
       "      <td>F</td>\n",
       "      <td>60</td>\n",
       "      <td>Attività di famiglie e convivenze come datori ...</td>\n",
       "      <td>NESSUN TITOLO DI STUDIO</td>\n",
       "      <td>LAVORO DOMESTICO</td>\n",
       "      <td>TEMPO PIENO</td>\n",
       "      <td>BERGAMO</td>\n",
       "      <td>UCRAINA</td>\n",
       "    </tr>\n",
       "    <tr>\n",
       "      <th>1</th>\n",
       "      <td>12/07/2019</td>\n",
       "      <td>M</td>\n",
       "      <td>43</td>\n",
       "      <td>Gestioni di funicolari, ski-lift e seggiovie s...</td>\n",
       "      <td>LICENZA MEDIA</td>\n",
       "      <td>LAVORO A TEMPO DETERMINATO</td>\n",
       "      <td>TEMPO PIENO</td>\n",
       "      <td>BERGAMO</td>\n",
       "      <td>ITALIA</td>\n",
       "    </tr>\n",
       "    <tr>\n",
       "      <th>2</th>\n",
       "      <td>05/06/2013</td>\n",
       "      <td>F</td>\n",
       "      <td>20</td>\n",
       "      <td>Fabbricazione di altre apparecchiature elettri...</td>\n",
       "      <td>LICENZA MEDIA</td>\n",
       "      <td>APPRENDISTATO PROFESSIONALIZZANTE O CONTRATTO ...</td>\n",
       "      <td>TEMPO PIENO</td>\n",
       "      <td>BERGAMO</td>\n",
       "      <td>ITALIA</td>\n",
       "    </tr>\n",
       "    <tr>\n",
       "      <th>3</th>\n",
       "      <td>12/03/2010</td>\n",
       "      <td>F</td>\n",
       "      <td>28</td>\n",
       "      <td>Alberghi</td>\n",
       "      <td>DIPLOMA DI ISTRUZIONE SECONDARIA SUPERIORE  CH...</td>\n",
       "      <td>LAVORO INTERMITTENTE A TEMPO DETERMINATO</td>\n",
       "      <td>NON DEFINITO</td>\n",
       "      <td>BERGAMO</td>\n",
       "      <td>ITALIA</td>\n",
       "    </tr>\n",
       "    <tr>\n",
       "      <th>4</th>\n",
       "      <td>06/04/2021</td>\n",
       "      <td>F</td>\n",
       "      <td>49</td>\n",
       "      <td>Rifugi di montagna</td>\n",
       "      <td>LICENZA MEDIA</td>\n",
       "      <td>LAVORO INTERMITTENTE</td>\n",
       "      <td>NON DEFINITO</td>\n",
       "      <td>BERGAMO</td>\n",
       "      <td>ITALIA</td>\n",
       "    </tr>\n",
       "    <tr>\n",
       "      <th>...</th>\n",
       "      <td>...</td>\n",
       "      <td>...</td>\n",
       "      <td>...</td>\n",
       "      <td>...</td>\n",
       "      <td>...</td>\n",
       "      <td>...</td>\n",
       "      <td>...</td>\n",
       "      <td>...</td>\n",
       "      <td>...</td>\n",
       "    </tr>\n",
       "    <tr>\n",
       "      <th>12993406</th>\n",
       "      <td>04/09/2018</td>\n",
       "      <td>F</td>\n",
       "      <td>50</td>\n",
       "      <td>Installazione di altre macchine ed apparecchia...</td>\n",
       "      <td>LICENZA ELEMENTARE</td>\n",
       "      <td>LAVORO A TEMPO DETERMINATO</td>\n",
       "      <td>TEMPO PARZIALE ORIZZONTALE</td>\n",
       "      <td>MONZA E BRIANZA</td>\n",
       "      <td>ITALIA</td>\n",
       "    </tr>\n",
       "    <tr>\n",
       "      <th>12993407</th>\n",
       "      <td>12/10/2018</td>\n",
       "      <td>F</td>\n",
       "      <td>52</td>\n",
       "      <td>Mense</td>\n",
       "      <td>LICENZA MEDIA</td>\n",
       "      <td>LAVORO A TEMPO DETERMINATO</td>\n",
       "      <td>TEMPO PARZIALE ORIZZONTALE</td>\n",
       "      <td>MONZA E BRIANZA</td>\n",
       "      <td>ITALIA</td>\n",
       "    </tr>\n",
       "    <tr>\n",
       "      <th>12993408</th>\n",
       "      <td>01/10/2017</td>\n",
       "      <td>F</td>\n",
       "      <td>37</td>\n",
       "      <td>Servizi integrati di gestione agli edifici</td>\n",
       "      <td>LICENZA MEDIA</td>\n",
       "      <td>LAVORO A TEMPO DETERMINATO</td>\n",
       "      <td>TEMPO PARZIALE ORIZZONTALE</td>\n",
       "      <td>BRESCIA</td>\n",
       "      <td>ITALIA</td>\n",
       "    </tr>\n",
       "    <tr>\n",
       "      <th>12993409</th>\n",
       "      <td>11/07/2019</td>\n",
       "      <td>M</td>\n",
       "      <td>36</td>\n",
       "      <td>Installazione di impianti elettrici in edifici...</td>\n",
       "      <td>NESSUN TITOLO DI STUDIO</td>\n",
       "      <td>LAVORO A TEMPO DETERMINATO</td>\n",
       "      <td>TEMPO PIENO</td>\n",
       "      <td>BRESCIA</td>\n",
       "      <td>ITALIA</td>\n",
       "    </tr>\n",
       "    <tr>\n",
       "      <th>12993410</th>\n",
       "      <td>04/07/2021</td>\n",
       "      <td>M</td>\n",
       "      <td>40</td>\n",
       "      <td>Fabbricazione e montaggio di biciclette (inclu...</td>\n",
       "      <td>NESSUN TITOLO DI STUDIO</td>\n",
       "      <td>LAVORO A TEMPO DETERMINATO</td>\n",
       "      <td>TEMPO PIENO</td>\n",
       "      <td>BERGAMO</td>\n",
       "      <td>MAROCCO</td>\n",
       "    </tr>\n",
       "  </tbody>\n",
       "</table>\n",
       "<p>12993411 rows × 9 columns</p>\n",
       "</div>"
      ],
      "text/plain": [
       "                DATA GENERE  ETA  \\\n",
       "0         09/05/2020      F   60   \n",
       "1         12/07/2019      M   43   \n",
       "2         05/06/2013      F   20   \n",
       "3         12/03/2010      F   28   \n",
       "4         06/04/2021      F   49   \n",
       "...              ...    ...  ...   \n",
       "12993406  04/09/2018      F   50   \n",
       "12993407  12/10/2018      F   52   \n",
       "12993408  01/10/2017      F   37   \n",
       "12993409  11/07/2019      M   36   \n",
       "12993410  04/07/2021      M   40   \n",
       "\n",
       "                                  SETTOREECONOMICODETTAGLIO  \\\n",
       "0         Attività di famiglie e convivenze come datori ...   \n",
       "1         Gestioni di funicolari, ski-lift e seggiovie s...   \n",
       "2         Fabbricazione di altre apparecchiature elettri...   \n",
       "3                                                  Alberghi   \n",
       "4                                        Rifugi di montagna   \n",
       "...                                                     ...   \n",
       "12993406  Installazione di altre macchine ed apparecchia...   \n",
       "12993407                                              Mense   \n",
       "12993408         Servizi integrati di gestione agli edifici   \n",
       "12993409  Installazione di impianti elettrici in edifici...   \n",
       "12993410  Fabbricazione e montaggio di biciclette (inclu...   \n",
       "\n",
       "                                               TITOLOSTUDIO  \\\n",
       "0                                   NESSUN TITOLO DI STUDIO   \n",
       "1                                             LICENZA MEDIA   \n",
       "2                                             LICENZA MEDIA   \n",
       "3         DIPLOMA DI ISTRUZIONE SECONDARIA SUPERIORE  CH...   \n",
       "4                                             LICENZA MEDIA   \n",
       "...                                                     ...   \n",
       "12993406                                 LICENZA ELEMENTARE   \n",
       "12993407                                      LICENZA MEDIA   \n",
       "12993408                                      LICENZA MEDIA   \n",
       "12993409                            NESSUN TITOLO DI STUDIO   \n",
       "12993410                            NESSUN TITOLO DI STUDIO   \n",
       "\n",
       "                                                  CONTRATTO  \\\n",
       "0                                          LAVORO DOMESTICO   \n",
       "1                                LAVORO A TEMPO DETERMINATO   \n",
       "2         APPRENDISTATO PROFESSIONALIZZANTE O CONTRATTO ...   \n",
       "3                  LAVORO INTERMITTENTE A TEMPO DETERMINATO   \n",
       "4                                      LAVORO INTERMITTENTE   \n",
       "...                                                     ...   \n",
       "12993406                         LAVORO A TEMPO DETERMINATO   \n",
       "12993407                         LAVORO A TEMPO DETERMINATO   \n",
       "12993408                         LAVORO A TEMPO DETERMINATO   \n",
       "12993409                         LAVORO A TEMPO DETERMINATO   \n",
       "12993410                         LAVORO A TEMPO DETERMINATO   \n",
       "\n",
       "                      MODALITALAVORO PROVINCIAIMPRESA ITALIANO  \n",
       "0                        TEMPO PIENO          BERGAMO  UCRAINA  \n",
       "1                        TEMPO PIENO          BERGAMO   ITALIA  \n",
       "2                        TEMPO PIENO          BERGAMO   ITALIA  \n",
       "3                       NON DEFINITO          BERGAMO   ITALIA  \n",
       "4                       NON DEFINITO          BERGAMO   ITALIA  \n",
       "...                              ...              ...      ...  \n",
       "12993406  TEMPO PARZIALE ORIZZONTALE  MONZA E BRIANZA   ITALIA  \n",
       "12993407  TEMPO PARZIALE ORIZZONTALE  MONZA E BRIANZA   ITALIA  \n",
       "12993408  TEMPO PARZIALE ORIZZONTALE          BRESCIA   ITALIA  \n",
       "12993409                 TEMPO PIENO          BRESCIA   ITALIA  \n",
       "12993410                 TEMPO PIENO          BERGAMO  MAROCCO  \n",
       "\n",
       "[12993411 rows x 9 columns]"
      ]
     },
     "execution_count": 5,
     "metadata": {},
     "output_type": "execute_result"
    }
   ],
   "source": [
    "concatDataset = pd.concat([activatedContracts, extendedContracts], ignore_index=True)\n",
    "concatDataset"
   ]
  },
  {
   "cell_type": "markdown",
   "metadata": {},
   "source": [
    "When talking about italian labour market, we are usually interested only in dividing italians from foreigners. For this reason,\n",
    "the \"ITALIANO\" column is substituted by a \"CITTADINANZA\" column containing the values \"ITALIANO\" and \"STRANIERO\".\n",
    "\n",
    "First we make sure that there are no NaN values."
   ]
  },
  {
   "cell_type": "code",
   "execution_count": 6,
   "metadata": {},
   "outputs": [
    {
     "data": {
      "text/plain": [
       "[False]"
      ]
     },
     "execution_count": 6,
     "metadata": {},
     "output_type": "execute_result"
    }
   ],
   "source": [
    "concatDataset.ITALIANO.isna().unique().tolist()"
   ]
  },
  {
   "cell_type": "code",
   "execution_count": 7,
   "metadata": {},
   "outputs": [
    {
     "data": {
      "text/plain": [
       "[]"
      ]
     },
     "execution_count": 7,
     "metadata": {},
     "output_type": "execute_result"
    }
   ],
   "source": [
    "concatDataset.ITALIANO[concatDataset.ITALIANO == 'NON DEFINITO'].unique().tolist()"
   ]
  },
  {
   "cell_type": "markdown",
   "metadata": {},
   "source": [
    "Then we change the value"
   ]
  },
  {
   "cell_type": "code",
   "execution_count": 8,
   "metadata": {},
   "outputs": [
    {
     "data": {
      "text/html": [
       "<div>\n",
       "<style scoped>\n",
       "    .dataframe tbody tr th:only-of-type {\n",
       "        vertical-align: middle;\n",
       "    }\n",
       "\n",
       "    .dataframe tbody tr th {\n",
       "        vertical-align: top;\n",
       "    }\n",
       "\n",
       "    .dataframe thead th {\n",
       "        text-align: right;\n",
       "    }\n",
       "</style>\n",
       "<table border=\"1\" class=\"dataframe\">\n",
       "  <thead>\n",
       "    <tr style=\"text-align: right;\">\n",
       "      <th></th>\n",
       "      <th>DATA</th>\n",
       "      <th>GENERE</th>\n",
       "      <th>ETA</th>\n",
       "      <th>SETTOREECONOMICODETTAGLIO</th>\n",
       "      <th>TITOLOSTUDIO</th>\n",
       "      <th>CONTRATTO</th>\n",
       "      <th>MODALITALAVORO</th>\n",
       "      <th>PROVINCIAIMPRESA</th>\n",
       "      <th>CITTADINANZA</th>\n",
       "    </tr>\n",
       "  </thead>\n",
       "  <tbody>\n",
       "    <tr>\n",
       "      <th>0</th>\n",
       "      <td>09/05/2020</td>\n",
       "      <td>F</td>\n",
       "      <td>60</td>\n",
       "      <td>Attività di famiglie e convivenze come datori ...</td>\n",
       "      <td>NESSUN TITOLO DI STUDIO</td>\n",
       "      <td>LAVORO DOMESTICO</td>\n",
       "      <td>TEMPO PIENO</td>\n",
       "      <td>BERGAMO</td>\n",
       "      <td>STRANIERO</td>\n",
       "    </tr>\n",
       "    <tr>\n",
       "      <th>1</th>\n",
       "      <td>12/07/2019</td>\n",
       "      <td>M</td>\n",
       "      <td>43</td>\n",
       "      <td>Gestioni di funicolari, ski-lift e seggiovie s...</td>\n",
       "      <td>LICENZA MEDIA</td>\n",
       "      <td>LAVORO A TEMPO DETERMINATO</td>\n",
       "      <td>TEMPO PIENO</td>\n",
       "      <td>BERGAMO</td>\n",
       "      <td>ITALIANO</td>\n",
       "    </tr>\n",
       "    <tr>\n",
       "      <th>2</th>\n",
       "      <td>05/06/2013</td>\n",
       "      <td>F</td>\n",
       "      <td>20</td>\n",
       "      <td>Fabbricazione di altre apparecchiature elettri...</td>\n",
       "      <td>LICENZA MEDIA</td>\n",
       "      <td>APPRENDISTATO PROFESSIONALIZZANTE O CONTRATTO ...</td>\n",
       "      <td>TEMPO PIENO</td>\n",
       "      <td>BERGAMO</td>\n",
       "      <td>ITALIANO</td>\n",
       "    </tr>\n",
       "    <tr>\n",
       "      <th>3</th>\n",
       "      <td>12/03/2010</td>\n",
       "      <td>F</td>\n",
       "      <td>28</td>\n",
       "      <td>Alberghi</td>\n",
       "      <td>DIPLOMA DI ISTRUZIONE SECONDARIA SUPERIORE  CH...</td>\n",
       "      <td>LAVORO INTERMITTENTE A TEMPO DETERMINATO</td>\n",
       "      <td>NON DEFINITO</td>\n",
       "      <td>BERGAMO</td>\n",
       "      <td>ITALIANO</td>\n",
       "    </tr>\n",
       "    <tr>\n",
       "      <th>4</th>\n",
       "      <td>06/04/2021</td>\n",
       "      <td>F</td>\n",
       "      <td>49</td>\n",
       "      <td>Rifugi di montagna</td>\n",
       "      <td>LICENZA MEDIA</td>\n",
       "      <td>LAVORO INTERMITTENTE</td>\n",
       "      <td>NON DEFINITO</td>\n",
       "      <td>BERGAMO</td>\n",
       "      <td>ITALIANO</td>\n",
       "    </tr>\n",
       "  </tbody>\n",
       "</table>\n",
       "</div>"
      ],
      "text/plain": [
       "         DATA GENERE  ETA                          SETTOREECONOMICODETTAGLIO  \\\n",
       "0  09/05/2020      F   60  Attività di famiglie e convivenze come datori ...   \n",
       "1  12/07/2019      M   43  Gestioni di funicolari, ski-lift e seggiovie s...   \n",
       "2  05/06/2013      F   20  Fabbricazione di altre apparecchiature elettri...   \n",
       "3  12/03/2010      F   28                                           Alberghi   \n",
       "4  06/04/2021      F   49                                 Rifugi di montagna   \n",
       "\n",
       "                                        TITOLOSTUDIO  \\\n",
       "0                            NESSUN TITOLO DI STUDIO   \n",
       "1                                      LICENZA MEDIA   \n",
       "2                                      LICENZA MEDIA   \n",
       "3  DIPLOMA DI ISTRUZIONE SECONDARIA SUPERIORE  CH...   \n",
       "4                                      LICENZA MEDIA   \n",
       "\n",
       "                                           CONTRATTO MODALITALAVORO  \\\n",
       "0                                   LAVORO DOMESTICO    TEMPO PIENO   \n",
       "1                         LAVORO A TEMPO DETERMINATO    TEMPO PIENO   \n",
       "2  APPRENDISTATO PROFESSIONALIZZANTE O CONTRATTO ...    TEMPO PIENO   \n",
       "3           LAVORO INTERMITTENTE A TEMPO DETERMINATO   NON DEFINITO   \n",
       "4                               LAVORO INTERMITTENTE   NON DEFINITO   \n",
       "\n",
       "  PROVINCIAIMPRESA CITTADINANZA  \n",
       "0          BERGAMO    STRANIERO  \n",
       "1          BERGAMO     ITALIANO  \n",
       "2          BERGAMO     ITALIANO  \n",
       "3          BERGAMO     ITALIANO  \n",
       "4          BERGAMO     ITALIANO  "
      ]
     },
     "execution_count": 8,
     "metadata": {},
     "output_type": "execute_result"
    }
   ],
   "source": [
    "concatDataset.rename(columns={\"ITALIANO\":\"CITTADINANZA\"}, inplace=True)\n",
    "condition = concatDataset.CITTADINANZA == \"ITALIA\"\n",
    "concatDataset.loc[-condition, 'CITTADINANZA'] = \"STRANIERO\"\n",
    "concatDataset.loc[condition, 'CITTADINANZA'] = \"ITALIANO\"\n",
    "concatDataset.head()"
   ]
  },
  {
   "cell_type": "markdown",
   "metadata": {},
   "source": [
    "In order to obtain the two final sets we need to transform the DATA attribute into date type."
   ]
  },
  {
   "cell_type": "code",
   "execution_count": 9,
   "metadata": {},
   "outputs": [
    {
     "data": {
      "text/plain": [
       "0          2020-09-05\n",
       "1          2019-12-07\n",
       "2          2013-05-06\n",
       "3          2010-12-03\n",
       "4          2021-06-04\n",
       "              ...    \n",
       "12993406   2018-04-09\n",
       "12993407   2018-12-10\n",
       "12993408   2017-01-10\n",
       "12993409   2019-11-07\n",
       "12993410   2021-04-07\n",
       "Name: DATA, Length: 12993411, dtype: datetime64[ns]"
      ]
     },
     "execution_count": 9,
     "metadata": {},
     "output_type": "execute_result"
    }
   ],
   "source": [
    "concatDataset.DATA = pd.to_datetime(concatDataset.DATA)\n",
    "concatDataset.DATA"
   ]
  },
  {
   "cell_type": "markdown",
   "metadata": {},
   "source": [
    "We check for invalid dates."
   ]
  },
  {
   "cell_type": "code",
   "execution_count": 10,
   "metadata": {},
   "outputs": [
    {
     "data": {
      "text/html": [
       "<div>\n",
       "<style scoped>\n",
       "    .dataframe tbody tr th:only-of-type {\n",
       "        vertical-align: middle;\n",
       "    }\n",
       "\n",
       "    .dataframe tbody tr th {\n",
       "        vertical-align: top;\n",
       "    }\n",
       "\n",
       "    .dataframe thead th {\n",
       "        text-align: right;\n",
       "    }\n",
       "</style>\n",
       "<table border=\"1\" class=\"dataframe\">\n",
       "  <thead>\n",
       "    <tr style=\"text-align: right;\">\n",
       "      <th></th>\n",
       "      <th>DATA</th>\n",
       "      <th>GENERE</th>\n",
       "      <th>ETA</th>\n",
       "      <th>SETTOREECONOMICODETTAGLIO</th>\n",
       "      <th>TITOLOSTUDIO</th>\n",
       "      <th>CONTRATTO</th>\n",
       "      <th>MODALITALAVORO</th>\n",
       "      <th>PROVINCIAIMPRESA</th>\n",
       "      <th>CITTADINANZA</th>\n",
       "    </tr>\n",
       "  </thead>\n",
       "  <tbody>\n",
       "    <tr>\n",
       "      <th>5840160</th>\n",
       "      <td>2201-06-09</td>\n",
       "      <td>M</td>\n",
       "      <td>221</td>\n",
       "      <td>Attività di famiglie e convivenze come datori ...</td>\n",
       "      <td>NESSUN TITOLO DI STUDIO</td>\n",
       "      <td>LAVORO DOMESTICO A TEMPO INDETERMINATO</td>\n",
       "      <td>TEMPO PARZIALE ORIZZONTALE</td>\n",
       "      <td>MILANO</td>\n",
       "      <td>STRANIERO</td>\n",
       "    </tr>\n",
       "  </tbody>\n",
       "</table>\n",
       "</div>"
      ],
      "text/plain": [
       "              DATA GENERE  ETA  \\\n",
       "5840160 2201-06-09      M  221   \n",
       "\n",
       "                                 SETTOREECONOMICODETTAGLIO  \\\n",
       "5840160  Attività di famiglie e convivenze come datori ...   \n",
       "\n",
       "                    TITOLOSTUDIO                               CONTRATTO  \\\n",
       "5840160  NESSUN TITOLO DI STUDIO  LAVORO DOMESTICO A TEMPO INDETERMINATO   \n",
       "\n",
       "                     MODALITALAVORO PROVINCIAIMPRESA CITTADINANZA  \n",
       "5840160  TEMPO PARZIALE ORIZZONTALE           MILANO    STRANIERO  "
      ]
     },
     "execution_count": 10,
     "metadata": {},
     "output_type": "execute_result"
    }
   ],
   "source": [
    "futureDate = concatDataset[concatDataset.DATA > \"2021/12/31\"]\n",
    "futureDate"
   ]
  },
  {
   "cell_type": "markdown",
   "metadata": {},
   "source": [
    "This is probably just a typo (2201 instead of 2021). We can edit it by changing the date and the related age."
   ]
  },
  {
   "cell_type": "code",
   "execution_count": 11,
   "metadata": {},
   "outputs": [
    {
     "data": {
      "text/plain": [
       "0"
      ]
     },
     "execution_count": 11,
     "metadata": {},
     "output_type": "execute_result"
    }
   ],
   "source": [
    "concatDataset.loc[concatDataset.DATA > \"2021-12-31\", [\"ETA\"]] = 221-(2201-2021)\n",
    "concatDataset.loc[concatDataset.DATA > \"2021-12-31\", [\"DATA\"]] = np.datetime64(\"2021-06-09\")\n",
    "len(concatDataset[concatDataset.DATA > \"2021-12-31\"])"
   ]
  },
  {
   "cell_type": "markdown",
   "metadata": {},
   "source": [
    "Now divide in the two dataset to consider (2018-2019) and (2020-2021)"
   ]
  },
  {
   "cell_type": "code",
   "execution_count": 12,
   "metadata": {},
   "outputs": [
    {
     "data": {
      "text/html": [
       "<div>\n",
       "<style scoped>\n",
       "    .dataframe tbody tr th:only-of-type {\n",
       "        vertical-align: middle;\n",
       "    }\n",
       "\n",
       "    .dataframe tbody tr th {\n",
       "        vertical-align: top;\n",
       "    }\n",
       "\n",
       "    .dataframe thead th {\n",
       "        text-align: right;\n",
       "    }\n",
       "</style>\n",
       "<table border=\"1\" class=\"dataframe\">\n",
       "  <thead>\n",
       "    <tr style=\"text-align: right;\">\n",
       "      <th></th>\n",
       "      <th>GENERE</th>\n",
       "      <th>ETA</th>\n",
       "      <th>SETTOREECONOMICODETTAGLIO</th>\n",
       "      <th>TITOLOSTUDIO</th>\n",
       "      <th>CONTRATTO</th>\n",
       "      <th>MODALITALAVORO</th>\n",
       "      <th>PROVINCIAIMPRESA</th>\n",
       "      <th>CITTADINANZA</th>\n",
       "    </tr>\n",
       "  </thead>\n",
       "  <tbody>\n",
       "    <tr>\n",
       "      <th>0</th>\n",
       "      <td>M</td>\n",
       "      <td>43</td>\n",
       "      <td>Gestioni di funicolari, ski-lift e seggiovie s...</td>\n",
       "      <td>LICENZA MEDIA</td>\n",
       "      <td>LAVORO A TEMPO DETERMINATO</td>\n",
       "      <td>TEMPO PIENO</td>\n",
       "      <td>BERGAMO</td>\n",
       "      <td>ITALIANO</td>\n",
       "    </tr>\n",
       "    <tr>\n",
       "      <th>1</th>\n",
       "      <td>F</td>\n",
       "      <td>56</td>\n",
       "      <td>Confezioni di abbigliamento sportivo o di altr...</td>\n",
       "      <td>LICENZA MEDIA</td>\n",
       "      <td>LAVORO A TEMPO DETERMINATO</td>\n",
       "      <td>TEMPO PARZIALE ORIZZONTALE</td>\n",
       "      <td>BERGAMO</td>\n",
       "      <td>ITALIANO</td>\n",
       "    </tr>\n",
       "    <tr>\n",
       "      <th>2</th>\n",
       "      <td>F</td>\n",
       "      <td>34</td>\n",
       "      <td>Istruzione di grado preparatorio: scuole dell'...</td>\n",
       "      <td>LAUREA - Vecchio o nuovo ordinamento</td>\n",
       "      <td>LAVORO A TEMPO INDETERMINATO</td>\n",
       "      <td>TEMPO PARZIALE ORIZZONTALE</td>\n",
       "      <td>BERGAMO</td>\n",
       "      <td>ITALIANO</td>\n",
       "    </tr>\n",
       "    <tr>\n",
       "      <th>3</th>\n",
       "      <td>M</td>\n",
       "      <td>54</td>\n",
       "      <td>Allevamento di bovini e bufalini da carne</td>\n",
       "      <td>NESSUN TITOLO DI STUDIO</td>\n",
       "      <td>LAVORO A TEMPO DETERMINATO</td>\n",
       "      <td>TEMPO PARZIALE MISTO</td>\n",
       "      <td>BERGAMO</td>\n",
       "      <td>STRANIERO</td>\n",
       "    </tr>\n",
       "    <tr>\n",
       "      <th>4</th>\n",
       "      <td>F</td>\n",
       "      <td>45</td>\n",
       "      <td>Attività di famiglie e convivenze come datori ...</td>\n",
       "      <td>NESSUN TITOLO DI STUDIO</td>\n",
       "      <td>LAVORO DOMESTICO</td>\n",
       "      <td>TEMPO PIENO</td>\n",
       "      <td>BERGAMO</td>\n",
       "      <td>ITALIANO</td>\n",
       "    </tr>\n",
       "    <tr>\n",
       "      <th>...</th>\n",
       "      <td>...</td>\n",
       "      <td>...</td>\n",
       "      <td>...</td>\n",
       "      <td>...</td>\n",
       "      <td>...</td>\n",
       "      <td>...</td>\n",
       "      <td>...</td>\n",
       "      <td>...</td>\n",
       "    </tr>\n",
       "    <tr>\n",
       "      <th>2597479</th>\n",
       "      <td>F</td>\n",
       "      <td>28</td>\n",
       "      <td>Altre attività di assistenza sociale non resid...</td>\n",
       "      <td>DIPLOMA UNIVERSITARIO</td>\n",
       "      <td>LAVORO A TEMPO DETERMINATO</td>\n",
       "      <td>TEMPO PIENO</td>\n",
       "      <td>MONZA E BRIANZA</td>\n",
       "      <td>ITALIANO</td>\n",
       "    </tr>\n",
       "    <tr>\n",
       "      <th>2597480</th>\n",
       "      <td>F</td>\n",
       "      <td>34</td>\n",
       "      <td>Mense</td>\n",
       "      <td>DIPLOMA DI ISTRUZIONE SECONDARIA SUPERIORE  CH...</td>\n",
       "      <td>LAVORO A TEMPO DETERMINATO</td>\n",
       "      <td>TEMPO PARZIALE ORIZZONTALE</td>\n",
       "      <td>MONZA E BRIANZA</td>\n",
       "      <td>STRANIERO</td>\n",
       "    </tr>\n",
       "    <tr>\n",
       "      <th>2597481</th>\n",
       "      <td>F</td>\n",
       "      <td>50</td>\n",
       "      <td>Installazione di altre macchine ed apparecchia...</td>\n",
       "      <td>LICENZA ELEMENTARE</td>\n",
       "      <td>LAVORO A TEMPO DETERMINATO</td>\n",
       "      <td>TEMPO PARZIALE ORIZZONTALE</td>\n",
       "      <td>MONZA E BRIANZA</td>\n",
       "      <td>ITALIANO</td>\n",
       "    </tr>\n",
       "    <tr>\n",
       "      <th>2597482</th>\n",
       "      <td>F</td>\n",
       "      <td>52</td>\n",
       "      <td>Mense</td>\n",
       "      <td>LICENZA MEDIA</td>\n",
       "      <td>LAVORO A TEMPO DETERMINATO</td>\n",
       "      <td>TEMPO PARZIALE ORIZZONTALE</td>\n",
       "      <td>MONZA E BRIANZA</td>\n",
       "      <td>ITALIANO</td>\n",
       "    </tr>\n",
       "    <tr>\n",
       "      <th>2597483</th>\n",
       "      <td>M</td>\n",
       "      <td>36</td>\n",
       "      <td>Installazione di impianti elettrici in edifici...</td>\n",
       "      <td>NESSUN TITOLO DI STUDIO</td>\n",
       "      <td>LAVORO A TEMPO DETERMINATO</td>\n",
       "      <td>TEMPO PIENO</td>\n",
       "      <td>BRESCIA</td>\n",
       "      <td>ITALIANO</td>\n",
       "    </tr>\n",
       "  </tbody>\n",
       "</table>\n",
       "<p>2597484 rows × 8 columns</p>\n",
       "</div>"
      ],
      "text/plain": [
       "        GENERE  ETA                          SETTOREECONOMICODETTAGLIO  \\\n",
       "0            M   43  Gestioni di funicolari, ski-lift e seggiovie s...   \n",
       "1            F   56  Confezioni di abbigliamento sportivo o di altr...   \n",
       "2            F   34  Istruzione di grado preparatorio: scuole dell'...   \n",
       "3            M   54          Allevamento di bovini e bufalini da carne   \n",
       "4            F   45  Attività di famiglie e convivenze come datori ...   \n",
       "...        ...  ...                                                ...   \n",
       "2597479      F   28  Altre attività di assistenza sociale non resid...   \n",
       "2597480      F   34                                              Mense   \n",
       "2597481      F   50  Installazione di altre macchine ed apparecchia...   \n",
       "2597482      F   52                                              Mense   \n",
       "2597483      M   36  Installazione di impianti elettrici in edifici...   \n",
       "\n",
       "                                              TITOLOSTUDIO  \\\n",
       "0                                            LICENZA MEDIA   \n",
       "1                                            LICENZA MEDIA   \n",
       "2                     LAUREA - Vecchio o nuovo ordinamento   \n",
       "3                                  NESSUN TITOLO DI STUDIO   \n",
       "4                                  NESSUN TITOLO DI STUDIO   \n",
       "...                                                    ...   \n",
       "2597479                              DIPLOMA UNIVERSITARIO   \n",
       "2597480  DIPLOMA DI ISTRUZIONE SECONDARIA SUPERIORE  CH...   \n",
       "2597481                                 LICENZA ELEMENTARE   \n",
       "2597482                                      LICENZA MEDIA   \n",
       "2597483                            NESSUN TITOLO DI STUDIO   \n",
       "\n",
       "                            CONTRATTO              MODALITALAVORO  \\\n",
       "0          LAVORO A TEMPO DETERMINATO                 TEMPO PIENO   \n",
       "1          LAVORO A TEMPO DETERMINATO  TEMPO PARZIALE ORIZZONTALE   \n",
       "2        LAVORO A TEMPO INDETERMINATO  TEMPO PARZIALE ORIZZONTALE   \n",
       "3          LAVORO A TEMPO DETERMINATO        TEMPO PARZIALE MISTO   \n",
       "4                    LAVORO DOMESTICO                 TEMPO PIENO   \n",
       "...                               ...                         ...   \n",
       "2597479    LAVORO A TEMPO DETERMINATO                 TEMPO PIENO   \n",
       "2597480    LAVORO A TEMPO DETERMINATO  TEMPO PARZIALE ORIZZONTALE   \n",
       "2597481    LAVORO A TEMPO DETERMINATO  TEMPO PARZIALE ORIZZONTALE   \n",
       "2597482    LAVORO A TEMPO DETERMINATO  TEMPO PARZIALE ORIZZONTALE   \n",
       "2597483    LAVORO A TEMPO DETERMINATO                 TEMPO PIENO   \n",
       "\n",
       "        PROVINCIAIMPRESA CITTADINANZA  \n",
       "0                BERGAMO     ITALIANO  \n",
       "1                BERGAMO     ITALIANO  \n",
       "2                BERGAMO     ITALIANO  \n",
       "3                BERGAMO    STRANIERO  \n",
       "4                BERGAMO     ITALIANO  \n",
       "...                  ...          ...  \n",
       "2597479  MONZA E BRIANZA     ITALIANO  \n",
       "2597480  MONZA E BRIANZA    STRANIERO  \n",
       "2597481  MONZA E BRIANZA     ITALIANO  \n",
       "2597482  MONZA E BRIANZA     ITALIANO  \n",
       "2597483          BRESCIA     ITALIANO  \n",
       "\n",
       "[2597484 rows x 8 columns]"
      ]
     },
     "execution_count": 12,
     "metadata": {},
     "output_type": "execute_result"
    }
   ],
   "source": [
    "contract_1819 = concatDataset[(concatDataset.DATA > '2017-12-31')&(concatDataset.DATA < '2020-01-01')]\n",
    "contract_1819.reset_index(inplace=True)\n",
    "contract_1819 = contract_1819.drop(labels=['DATA'], axis=1)\n",
    "contract_1819 = contract_1819.drop(labels=['index'], axis=1)\n",
    "'''Create copy'''\n",
    "contract_1819_copy = contract_1819.copy(deep=True)\n",
    "contract_1819"
   ]
  },
  {
   "cell_type": "code",
   "execution_count": 13,
   "metadata": {},
   "outputs": [
    {
     "data": {
      "text/html": [
       "<div>\n",
       "<style scoped>\n",
       "    .dataframe tbody tr th:only-of-type {\n",
       "        vertical-align: middle;\n",
       "    }\n",
       "\n",
       "    .dataframe tbody tr th {\n",
       "        vertical-align: top;\n",
       "    }\n",
       "\n",
       "    .dataframe thead th {\n",
       "        text-align: right;\n",
       "    }\n",
       "</style>\n",
       "<table border=\"1\" class=\"dataframe\">\n",
       "  <thead>\n",
       "    <tr style=\"text-align: right;\">\n",
       "      <th></th>\n",
       "      <th>GENERE</th>\n",
       "      <th>ETA</th>\n",
       "      <th>SETTOREECONOMICODETTAGLIO</th>\n",
       "      <th>TITOLOSTUDIO</th>\n",
       "      <th>CONTRATTO</th>\n",
       "      <th>MODALITALAVORO</th>\n",
       "      <th>PROVINCIAIMPRESA</th>\n",
       "      <th>CITTADINANZA</th>\n",
       "    </tr>\n",
       "  </thead>\n",
       "  <tbody>\n",
       "    <tr>\n",
       "      <th>0</th>\n",
       "      <td>F</td>\n",
       "      <td>60</td>\n",
       "      <td>Attività di famiglie e convivenze come datori ...</td>\n",
       "      <td>NESSUN TITOLO DI STUDIO</td>\n",
       "      <td>LAVORO DOMESTICO</td>\n",
       "      <td>TEMPO PIENO</td>\n",
       "      <td>BERGAMO</td>\n",
       "      <td>STRANIERO</td>\n",
       "    </tr>\n",
       "    <tr>\n",
       "      <th>1</th>\n",
       "      <td>F</td>\n",
       "      <td>49</td>\n",
       "      <td>Rifugi di montagna</td>\n",
       "      <td>LICENZA MEDIA</td>\n",
       "      <td>LAVORO INTERMITTENTE</td>\n",
       "      <td>NON DEFINITO</td>\n",
       "      <td>BERGAMO</td>\n",
       "      <td>ITALIANO</td>\n",
       "    </tr>\n",
       "    <tr>\n",
       "      <th>2</th>\n",
       "      <td>M</td>\n",
       "      <td>16</td>\n",
       "      <td>Costruzione di strade, autostrade e piste aero...</td>\n",
       "      <td>LICENZA MEDIA</td>\n",
       "      <td>LAVORO A TEMPO DETERMINATO</td>\n",
       "      <td>TEMPO PIENO</td>\n",
       "      <td>BERGAMO</td>\n",
       "      <td>ITALIANO</td>\n",
       "    </tr>\n",
       "    <tr>\n",
       "      <th>3</th>\n",
       "      <td>M</td>\n",
       "      <td>19</td>\n",
       "      <td>Ristorazione con somministrazione</td>\n",
       "      <td>LICENZA MEDIA</td>\n",
       "      <td>LAVORO INTERMITTENTE</td>\n",
       "      <td>NON DEFINITO</td>\n",
       "      <td>BERGAMO</td>\n",
       "      <td>ITALIANO</td>\n",
       "    </tr>\n",
       "    <tr>\n",
       "      <th>4</th>\n",
       "      <td>M</td>\n",
       "      <td>37</td>\n",
       "      <td>Costruzione di strade, autostrade e piste aero...</td>\n",
       "      <td>LICENZA MEDIA</td>\n",
       "      <td>LAVORO A TEMPO DETERMINATO</td>\n",
       "      <td>TEMPO PIENO</td>\n",
       "      <td>BERGAMO</td>\n",
       "      <td>ITALIANO</td>\n",
       "    </tr>\n",
       "    <tr>\n",
       "      <th>...</th>\n",
       "      <td>...</td>\n",
       "      <td>...</td>\n",
       "      <td>...</td>\n",
       "      <td>...</td>\n",
       "      <td>...</td>\n",
       "      <td>...</td>\n",
       "      <td>...</td>\n",
       "      <td>...</td>\n",
       "    </tr>\n",
       "    <tr>\n",
       "      <th>1903752</th>\n",
       "      <td>M</td>\n",
       "      <td>21</td>\n",
       "      <td>Servizi logistici relativi alla distribuzione ...</td>\n",
       "      <td>LICENZA MEDIA</td>\n",
       "      <td>LAVORO A TEMPO DETERMINATO</td>\n",
       "      <td>TEMPO PARZIALE ORIZZONTALE</td>\n",
       "      <td>MONZA E BRIANZA</td>\n",
       "      <td>STRANIERO</td>\n",
       "    </tr>\n",
       "    <tr>\n",
       "      <th>1903753</th>\n",
       "      <td>M</td>\n",
       "      <td>49</td>\n",
       "      <td>Pulizia generale (non specializzata) di edifici</td>\n",
       "      <td>DIPLOMA DI ISTRUZIONE SECONDARIA SUPERIORE  CH...</td>\n",
       "      <td>LAVORO A TEMPO DETERMINATO</td>\n",
       "      <td>TEMPO PIENO</td>\n",
       "      <td>MONZA E BRIANZA</td>\n",
       "      <td>ITALIANO</td>\n",
       "    </tr>\n",
       "    <tr>\n",
       "      <th>1903754</th>\n",
       "      <td>F</td>\n",
       "      <td>56</td>\n",
       "      <td>Fabbricazione di altri articoli metallici e mi...</td>\n",
       "      <td>LICENZA MEDIA</td>\n",
       "      <td>LAVORO A TEMPO DETERMINATO</td>\n",
       "      <td>TEMPO PIENO</td>\n",
       "      <td>MONZA E BRIANZA</td>\n",
       "      <td>ITALIANO</td>\n",
       "    </tr>\n",
       "    <tr>\n",
       "      <th>1903755</th>\n",
       "      <td>F</td>\n",
       "      <td>60</td>\n",
       "      <td>Altre attività di assistenza sociale non resid...</td>\n",
       "      <td>LICENZA MEDIA</td>\n",
       "      <td>LAVORO A TEMPO INDETERMINATO</td>\n",
       "      <td>TEMPO PIENO</td>\n",
       "      <td>MONZA E BRIANZA</td>\n",
       "      <td>ITALIANO</td>\n",
       "    </tr>\n",
       "    <tr>\n",
       "      <th>1903756</th>\n",
       "      <td>M</td>\n",
       "      <td>40</td>\n",
       "      <td>Fabbricazione e montaggio di biciclette (inclu...</td>\n",
       "      <td>NESSUN TITOLO DI STUDIO</td>\n",
       "      <td>LAVORO A TEMPO DETERMINATO</td>\n",
       "      <td>TEMPO PIENO</td>\n",
       "      <td>BERGAMO</td>\n",
       "      <td>STRANIERO</td>\n",
       "    </tr>\n",
       "  </tbody>\n",
       "</table>\n",
       "<p>1903757 rows × 8 columns</p>\n",
       "</div>"
      ],
      "text/plain": [
       "        GENERE  ETA                          SETTOREECONOMICODETTAGLIO  \\\n",
       "0            F   60  Attività di famiglie e convivenze come datori ...   \n",
       "1            F   49                                 Rifugi di montagna   \n",
       "2            M   16  Costruzione di strade, autostrade e piste aero...   \n",
       "3            M   19                  Ristorazione con somministrazione   \n",
       "4            M   37  Costruzione di strade, autostrade e piste aero...   \n",
       "...        ...  ...                                                ...   \n",
       "1903752      M   21  Servizi logistici relativi alla distribuzione ...   \n",
       "1903753      M   49    Pulizia generale (non specializzata) di edifici   \n",
       "1903754      F   56  Fabbricazione di altri articoli metallici e mi...   \n",
       "1903755      F   60  Altre attività di assistenza sociale non resid...   \n",
       "1903756      M   40  Fabbricazione e montaggio di biciclette (inclu...   \n",
       "\n",
       "                                              TITOLOSTUDIO  \\\n",
       "0                                  NESSUN TITOLO DI STUDIO   \n",
       "1                                            LICENZA MEDIA   \n",
       "2                                            LICENZA MEDIA   \n",
       "3                                            LICENZA MEDIA   \n",
       "4                                            LICENZA MEDIA   \n",
       "...                                                    ...   \n",
       "1903752                                      LICENZA MEDIA   \n",
       "1903753  DIPLOMA DI ISTRUZIONE SECONDARIA SUPERIORE  CH...   \n",
       "1903754                                      LICENZA MEDIA   \n",
       "1903755                                      LICENZA MEDIA   \n",
       "1903756                            NESSUN TITOLO DI STUDIO   \n",
       "\n",
       "                            CONTRATTO              MODALITALAVORO  \\\n",
       "0                    LAVORO DOMESTICO                 TEMPO PIENO   \n",
       "1                LAVORO INTERMITTENTE                NON DEFINITO   \n",
       "2          LAVORO A TEMPO DETERMINATO                 TEMPO PIENO   \n",
       "3                LAVORO INTERMITTENTE                NON DEFINITO   \n",
       "4          LAVORO A TEMPO DETERMINATO                 TEMPO PIENO   \n",
       "...                               ...                         ...   \n",
       "1903752    LAVORO A TEMPO DETERMINATO  TEMPO PARZIALE ORIZZONTALE   \n",
       "1903753    LAVORO A TEMPO DETERMINATO                 TEMPO PIENO   \n",
       "1903754    LAVORO A TEMPO DETERMINATO                 TEMPO PIENO   \n",
       "1903755  LAVORO A TEMPO INDETERMINATO                 TEMPO PIENO   \n",
       "1903756    LAVORO A TEMPO DETERMINATO                 TEMPO PIENO   \n",
       "\n",
       "        PROVINCIAIMPRESA CITTADINANZA  \n",
       "0                BERGAMO    STRANIERO  \n",
       "1                BERGAMO     ITALIANO  \n",
       "2                BERGAMO     ITALIANO  \n",
       "3                BERGAMO     ITALIANO  \n",
       "4                BERGAMO     ITALIANO  \n",
       "...                  ...          ...  \n",
       "1903752  MONZA E BRIANZA    STRANIERO  \n",
       "1903753  MONZA E BRIANZA     ITALIANO  \n",
       "1903754  MONZA E BRIANZA     ITALIANO  \n",
       "1903755  MONZA E BRIANZA     ITALIANO  \n",
       "1903756          BERGAMO    STRANIERO  \n",
       "\n",
       "[1903757 rows x 8 columns]"
      ]
     },
     "execution_count": 13,
     "metadata": {},
     "output_type": "execute_result"
    }
   ],
   "source": [
    "contract_2021 = concatDataset[concatDataset.DATA > '2019-12-31']\n",
    "contract_2021.reset_index(inplace=True)\n",
    "contract_2021 = contract_2021.drop(labels=['DATA'], axis=1)\n",
    "contract_2021 = contract_2021.drop(labels=['index'], axis=1)\n",
    "'''Create copy'''\n",
    "contract_2021_copy = contract_2021.copy(deep=True)\n",
    "contract_2021"
   ]
  },
  {
   "cell_type": "markdown",
   "metadata": {},
   "source": [
    "Now we look for NaN or undefined values and try to clean them up. First for 2018-2019."
   ]
  },
  {
   "cell_type": "markdown",
   "metadata": {},
   "source": [
    "For GENERE there are no NaN values"
   ]
  },
  {
   "cell_type": "code",
   "execution_count": 14,
   "metadata": {},
   "outputs": [
    {
     "data": {
      "text/plain": [
       "['M', 'F']"
      ]
     },
     "execution_count": 14,
     "metadata": {},
     "output_type": "execute_result"
    }
   ],
   "source": [
    "contract_1819.GENERE.unique().tolist()"
   ]
  },
  {
   "cell_type": "markdown",
   "metadata": {},
   "source": [
    "For ETA there are no NaN values but there are ages below 15, which are non valid values"
   ]
  },
  {
   "cell_type": "code",
   "execution_count": 15,
   "metadata": {},
   "outputs": [
    {
     "data": {
      "text/plain": [
       "[False]"
      ]
     },
     "execution_count": 15,
     "metadata": {},
     "output_type": "execute_result"
    }
   ],
   "source": [
    "contract_1819.ETA.isna().unique().tolist()"
   ]
  },
  {
   "cell_type": "code",
   "execution_count": 16,
   "metadata": {},
   "outputs": [
    {
     "data": {
      "text/plain": [
       "[8, 9, 1, 7, 3, 14, 0, 5, 10, 11, 13, 12, 6, 2, 4]"
      ]
     },
     "execution_count": 16,
     "metadata": {},
     "output_type": "execute_result"
    }
   ],
   "source": [
    "contract_1819[contract_1819.ETA < 15]['ETA'].unique().tolist()"
   ]
  },
  {
   "cell_type": "code",
   "execution_count": 17,
   "metadata": {},
   "outputs": [
    {
     "name": "stdout",
     "output_type": "stream",
     "text": [
      "Number of tuples without a 'ETA' value lower than 15:  2103 , 0.08096296262075146 %\n"
     ]
    }
   ],
   "source": [
    "conditionA = contract_1819.ETA < 15\n",
    "print(\"Number of tuples without a 'ETA' value lower than 15: \", len(contract_1819[conditionA]), \",\",(len(contract_1819[conditionA])/len(contract_1819.ETA))*100,\"%\")"
   ]
  },
  {
   "cell_type": "markdown",
   "metadata": {},
   "source": [
    "Even though the total number of invalid values is less than 1% of the total, we need to check if there are some categories that could lose more than 1% of their data."
   ]
  },
  {
   "cell_type": "code",
   "execution_count": 18,
   "metadata": {
    "scrolled": true
   },
   "outputs": [
    {
     "name": "stdout",
     "output_type": "stream",
     "text": [
      "Check categories\n",
      "GENERE\n",
      "SETTOREECONOMICODETTAGLIO\n",
      "TITOLOSTUDIO\n",
      "CONTRATTO\n",
      "MODALITALAVORO\n",
      "PROVINCIAIMPRESA\n",
      "CITTADINANZA\n",
      "There is one categories that would lose more than 1%:  428\n",
      "There is one categories that would lose more than 1%:  1040\n"
     ]
    }
   ],
   "source": [
    "print('Check categories')\n",
    "percentages_1819 = []\n",
    "print('GENERE')\n",
    "percentages_1819.append((len(contract_1819[(contract_1819.GENERE=='M')&(conditionA)])/len(contract_1819[contract_1819.GENERE=='M']))*100)\n",
    "percentages_1819.append((len(contract_1819[(contract_1819.GENERE=='F')&(conditionA)])/len(contract_1819[contract_1819.GENERE=='F']))*100)\n",
    "\n",
    "print('SETTOREECONOMICODETTAGLIO')\n",
    "for i in contract_1819.SETTOREECONOMICODETTAGLIO.unique().tolist():\n",
    "    if type(i) is str:\n",
    "        percentages_1819.append((len(contract_1819[(contract_1819.SETTOREECONOMICODETTAGLIO==i)&(conditionA)])/len(contract_1819[contract_1819.SETTOREECONOMICODETTAGLIO==i]))*100)\n",
    "    elif isnan(i):\n",
    "        percentages_1819.append((len(contract_1819[(contract_1819.SETTOREECONOMICODETTAGLIO.isna())&(conditionA)])/len(contract_1819[contract_1819.SETTOREECONOMICODETTAGLIO.isna()]))*100)\n",
    "\n",
    "print('TITOLOSTUDIO')\n",
    "for i in contract_1819.TITOLOSTUDIO.unique().tolist():\n",
    "    percentages_1819.append((len(contract_1819[(contract_1819.TITOLOSTUDIO==i)&(conditionA)])/len(contract_1819[contract_1819.TITOLOSTUDIO==i]))*100)\n",
    "\n",
    "print('CONTRATTO')\n",
    "for i in contract_1819.CONTRATTO.unique().tolist():\n",
    "    percentages_1819.append((len(contract_1819[(contract_1819.CONTRATTO==i)&(conditionA)])/len(contract_1819[contract_1819.CONTRATTO==i]))*100)\n",
    "\n",
    "print('MODALITALAVORO')\n",
    "for i in contract_1819.MODALITALAVORO.unique().tolist():\n",
    "    percentages_1819.append((len(contract_1819[(contract_1819.MODALITALAVORO==i)&(conditionA)])/len(contract_1819[contract_1819.MODALITALAVORO==i]))*100)\n",
    "\n",
    "print('PROVINCIAIMPRESA')\n",
    "for i in contract_1819.PROVINCIAIMPRESA.unique().tolist():\n",
    "    percentages_1819.append((len(contract_1819[(contract_1819.PROVINCIAIMPRESA==i)&(conditionA)])/len(contract_1819[contract_1819.PROVINCIAIMPRESA==i]))*100)\n",
    "    \n",
    "print('CITTADINANZA')\n",
    "for i in contract_1819.CITTADINANZA.unique().tolist():\n",
    "    percentages_1819.append((len(contract_1819[(contract_1819.CITTADINANZA==i)&(conditionA)])/len(contract_1819[contract_1819.CITTADINANZA==i]))*100)\n",
    "\n",
    "ctr = 0\n",
    "printed = False\n",
    "for i in percentages_1819:\n",
    "    if i >= 1:\n",
    "        print('There is one categories that would lose more than 1%: ', ctr)\n",
    "        printed = True\n",
    "    ctr = ctr + 1\n",
    "    if ctr == len(percentages_1819) and not printed:\n",
    "        print('No category would lose more than 1%, so we can eliminate invalid values')\n"
   ]
  },
  {
   "cell_type": "markdown",
   "metadata": {},
   "source": [
    "Since we cannot eliminate the invalid values, We can just consider them as undefined values."
   ]
  },
  {
   "cell_type": "code",
   "execution_count": 19,
   "metadata": {},
   "outputs": [],
   "source": [
    "contract_1819.loc[conditionA, 'ETA'] = 0"
   ]
  },
  {
   "cell_type": "markdown",
   "metadata": {},
   "source": [
    "Now we can categorize the age into five categories: NON DEFINITO, 15-24, 25-49, 50-64, 65 o piu'"
   ]
  },
  {
   "cell_type": "code",
   "execution_count": 20,
   "metadata": {},
   "outputs": [
    {
     "data": {
      "text/html": [
       "<div>\n",
       "<style scoped>\n",
       "    .dataframe tbody tr th:only-of-type {\n",
       "        vertical-align: middle;\n",
       "    }\n",
       "\n",
       "    .dataframe tbody tr th {\n",
       "        vertical-align: top;\n",
       "    }\n",
       "\n",
       "    .dataframe thead th {\n",
       "        text-align: right;\n",
       "    }\n",
       "</style>\n",
       "<table border=\"1\" class=\"dataframe\">\n",
       "  <thead>\n",
       "    <tr style=\"text-align: right;\">\n",
       "      <th></th>\n",
       "      <th>GENERE</th>\n",
       "      <th>ETA</th>\n",
       "      <th>SETTOREECONOMICODETTAGLIO</th>\n",
       "      <th>TITOLOSTUDIO</th>\n",
       "      <th>CONTRATTO</th>\n",
       "      <th>MODALITALAVORO</th>\n",
       "      <th>PROVINCIAIMPRESA</th>\n",
       "      <th>CITTADINANZA</th>\n",
       "    </tr>\n",
       "  </thead>\n",
       "  <tbody>\n",
       "    <tr>\n",
       "      <th>0</th>\n",
       "      <td>M</td>\n",
       "      <td>25-49</td>\n",
       "      <td>Gestioni di funicolari, ski-lift e seggiovie s...</td>\n",
       "      <td>LICENZA MEDIA</td>\n",
       "      <td>LAVORO A TEMPO DETERMINATO</td>\n",
       "      <td>TEMPO PIENO</td>\n",
       "      <td>BERGAMO</td>\n",
       "      <td>ITALIANO</td>\n",
       "    </tr>\n",
       "    <tr>\n",
       "      <th>1</th>\n",
       "      <td>F</td>\n",
       "      <td>50-64</td>\n",
       "      <td>Confezioni di abbigliamento sportivo o di altr...</td>\n",
       "      <td>LICENZA MEDIA</td>\n",
       "      <td>LAVORO A TEMPO DETERMINATO</td>\n",
       "      <td>TEMPO PARZIALE ORIZZONTALE</td>\n",
       "      <td>BERGAMO</td>\n",
       "      <td>ITALIANO</td>\n",
       "    </tr>\n",
       "    <tr>\n",
       "      <th>2</th>\n",
       "      <td>F</td>\n",
       "      <td>25-49</td>\n",
       "      <td>Istruzione di grado preparatorio: scuole dell'...</td>\n",
       "      <td>LAUREA - Vecchio o nuovo ordinamento</td>\n",
       "      <td>LAVORO A TEMPO INDETERMINATO</td>\n",
       "      <td>TEMPO PARZIALE ORIZZONTALE</td>\n",
       "      <td>BERGAMO</td>\n",
       "      <td>ITALIANO</td>\n",
       "    </tr>\n",
       "    <tr>\n",
       "      <th>3</th>\n",
       "      <td>M</td>\n",
       "      <td>50-64</td>\n",
       "      <td>Allevamento di bovini e bufalini da carne</td>\n",
       "      <td>NESSUN TITOLO DI STUDIO</td>\n",
       "      <td>LAVORO A TEMPO DETERMINATO</td>\n",
       "      <td>TEMPO PARZIALE MISTO</td>\n",
       "      <td>BERGAMO</td>\n",
       "      <td>STRANIERO</td>\n",
       "    </tr>\n",
       "    <tr>\n",
       "      <th>4</th>\n",
       "      <td>F</td>\n",
       "      <td>25-49</td>\n",
       "      <td>Attività di famiglie e convivenze come datori ...</td>\n",
       "      <td>NESSUN TITOLO DI STUDIO</td>\n",
       "      <td>LAVORO DOMESTICO</td>\n",
       "      <td>TEMPO PIENO</td>\n",
       "      <td>BERGAMO</td>\n",
       "      <td>ITALIANO</td>\n",
       "    </tr>\n",
       "  </tbody>\n",
       "</table>\n",
       "</div>"
      ],
      "text/plain": [
       "  GENERE    ETA                          SETTOREECONOMICODETTAGLIO  \\\n",
       "0      M  25-49  Gestioni di funicolari, ski-lift e seggiovie s...   \n",
       "1      F  50-64  Confezioni di abbigliamento sportivo o di altr...   \n",
       "2      F  25-49  Istruzione di grado preparatorio: scuole dell'...   \n",
       "3      M  50-64          Allevamento di bovini e bufalini da carne   \n",
       "4      F  25-49  Attività di famiglie e convivenze come datori ...   \n",
       "\n",
       "                           TITOLOSTUDIO                     CONTRATTO  \\\n",
       "0                         LICENZA MEDIA    LAVORO A TEMPO DETERMINATO   \n",
       "1                         LICENZA MEDIA    LAVORO A TEMPO DETERMINATO   \n",
       "2  LAUREA - Vecchio o nuovo ordinamento  LAVORO A TEMPO INDETERMINATO   \n",
       "3               NESSUN TITOLO DI STUDIO    LAVORO A TEMPO DETERMINATO   \n",
       "4               NESSUN TITOLO DI STUDIO              LAVORO DOMESTICO   \n",
       "\n",
       "               MODALITALAVORO PROVINCIAIMPRESA CITTADINANZA  \n",
       "0                 TEMPO PIENO          BERGAMO     ITALIANO  \n",
       "1  TEMPO PARZIALE ORIZZONTALE          BERGAMO     ITALIANO  \n",
       "2  TEMPO PARZIALE ORIZZONTALE          BERGAMO     ITALIANO  \n",
       "3        TEMPO PARZIALE MISTO          BERGAMO    STRANIERO  \n",
       "4                 TEMPO PIENO          BERGAMO     ITALIANO  "
      ]
     },
     "execution_count": 20,
     "metadata": {},
     "output_type": "execute_result"
    }
   ],
   "source": [
    "'''First the age values are substituted with values 0,1,2,3,4 (from \"ND\", \"15-24\" to \"65 o piu'\"), then they are changed with the\n",
    "actual names'''\n",
    "contract_1819.loc[contract_1819.ETA < 15, 'ETA'] = 0\n",
    "contract_1819.loc[(contract_1819.ETA > 14) & (contract_1819.ETA < 25), 'ETA'] = 1\n",
    "contract_1819.loc[(contract_1819.ETA > 24) & (contract_1819.ETA < 50), 'ETA'] = 2\n",
    "contract_1819.loc[(contract_1819.ETA > 49) & (contract_1819.ETA < 65), 'ETA'] = 3\n",
    "contract_1819.loc[contract_1819.ETA > 64, 'ETA'] = 4\n",
    "\n",
    "contract_1819 = contract_1819.replace({0:\"NON DEFINITO\", 1:\"15-24\", 2:\"25-49\", 3:\"50-64\", 4:\"65 o piu'\"})\n",
    "contract_1819.head()"
   ]
  },
  {
   "cell_type": "markdown",
   "metadata": {},
   "source": [
    "For SETTOREECONOMICODETTAGLIO there are NaN values so we do what it was done for ETA"
   ]
  },
  {
   "cell_type": "code",
   "execution_count": 21,
   "metadata": {},
   "outputs": [
    {
     "data": {
      "text/plain": [
       "[False, True]"
      ]
     },
     "execution_count": 21,
     "metadata": {},
     "output_type": "execute_result"
    }
   ],
   "source": [
    "contract_1819.SETTOREECONOMICODETTAGLIO.isna().unique().tolist()"
   ]
  },
  {
   "cell_type": "code",
   "execution_count": 22,
   "metadata": {},
   "outputs": [
    {
     "data": {
      "text/plain": [
       "[]"
      ]
     },
     "execution_count": 22,
     "metadata": {},
     "output_type": "execute_result"
    }
   ],
   "source": [
    "contract_1819.SETTOREECONOMICODETTAGLIO[contract_1819.SETTOREECONOMICODETTAGLIO == 'NON DEFINITO'].unique().tolist()"
   ]
  },
  {
   "cell_type": "code",
   "execution_count": 23,
   "metadata": {},
   "outputs": [
    {
     "name": "stdout",
     "output_type": "stream",
     "text": [
      "Number of tuples with a NaN value for SETTOREECONOMICODETTAGLIO:  1188 , 0.045736566616002255 %\n"
     ]
    }
   ],
   "source": [
    "conditionA = contract_1819.SETTOREECONOMICODETTAGLIO.isna()\n",
    "print(\"Number of tuples with a NaN value for SETTOREECONOMICODETTAGLIO: \", len(contract_1819[conditionA]), \",\",(len(contract_1819[conditionA])/len(contract_1819.SETTOREECONOMICODETTAGLIO))*100,\"%\")"
   ]
  },
  {
   "cell_type": "code",
   "execution_count": 24,
   "metadata": {},
   "outputs": [
    {
     "name": "stdout",
     "output_type": "stream",
     "text": [
      "Check categories\n",
      "GENERE\n",
      "ETA\n",
      "TITOLOSTUDIO\n",
      "CONTRATTO\n",
      "MODALITALAVORO\n",
      "PROVINCIAIMPRESA\n",
      "CITTADINANZA\n",
      "No category would lose more than 1%, so we can eliminate invalid values\n"
     ]
    }
   ],
   "source": [
    "print('Check categories')\n",
    "percentages_1819 = []\n",
    "print('GENERE')\n",
    "percentages_1819.append((len(contract_1819[(contract_1819.GENERE=='M')&(conditionA)])/len(contract_1819[contract_1819.GENERE=='M']))*100)\n",
    "percentages_1819.append((len(contract_1819[(contract_1819.GENERE=='F')&(conditionA)])/len(contract_1819[contract_1819.GENERE=='F']))*100)\n",
    "\n",
    "print('ETA')\n",
    "for i in contract_1819.ETA.unique().tolist():\n",
    "    percentages_1819.append((len(contract_1819[(contract_1819.ETA==i)&(conditionA)])/len(contract_1819[contract_1819.ETA==i]))*100)\n",
    "\n",
    "print('TITOLOSTUDIO')\n",
    "for i in contract_1819.TITOLOSTUDIO.unique().tolist():\n",
    "    percentages_1819.append((len(contract_1819[(contract_1819.TITOLOSTUDIO==i)&(conditionA)])/len(contract_1819[contract_1819.TITOLOSTUDIO==i]))*100)\n",
    "\n",
    "print('CONTRATTO')\n",
    "for i in contract_1819.CONTRATTO.unique().tolist():\n",
    "    percentages_1819.append((len(contract_1819[(contract_1819.CONTRATTO==i)&(conditionA)])/len(contract_1819[contract_1819.CONTRATTO==i]))*100)\n",
    "\n",
    "print('MODALITALAVORO')\n",
    "for i in contract_1819.MODALITALAVORO.unique().tolist():\n",
    "    percentages_1819.append((len(contract_1819[(contract_1819.MODALITALAVORO==i)&(conditionA)])/len(contract_1819[contract_1819.MODALITALAVORO==i]))*100)\n",
    "\n",
    "print('PROVINCIAIMPRESA')\n",
    "for i in contract_1819.PROVINCIAIMPRESA.unique().tolist():\n",
    "    percentages_1819.append((len(contract_1819[(contract_1819.PROVINCIAIMPRESA==i)&(conditionA)])/len(contract_1819[contract_1819.PROVINCIAIMPRESA==i]))*100)\n",
    "    \n",
    "print('CITTADINANZA')\n",
    "for i in contract_1819.CITTADINANZA.unique().tolist():\n",
    "    percentages_1819.append((len(contract_1819[(contract_1819.CITTADINANZA==i)&(conditionA)])/len(contract_1819[contract_1819.CITTADINANZA==i]))*100)\n",
    "    \n",
    "ctr = 0\n",
    "printed = False\n",
    "for i in percentages_1819:\n",
    "    if i >= 1:\n",
    "        print('There is one categories that would lose more than 1%: ', ctr)\n",
    "        printed = True\n",
    "    ctr = ctr + 1\n",
    "    if ctr == len(percentages_1819) and not printed:\n",
    "        print('No category would lose more than 1%, so we can eliminate invalid values')"
   ]
  },
  {
   "cell_type": "markdown",
   "metadata": {},
   "source": [
    "We can eliminate all tuples with a NaN value"
   ]
  },
  {
   "cell_type": "code",
   "execution_count": 25,
   "metadata": {},
   "outputs": [
    {
     "name": "stdout",
     "output_type": "stream",
     "text": [
      "Number of NaN values: 1188\n",
      "Elements removed: 1188\n"
     ]
    }
   ],
   "source": [
    "contract_1819 = contract_1819.drop(contract_1819[contract_1819.SETTOREECONOMICODETTAGLIO.isna()].index)\n",
    "print('Number of NaN values:',len(contract_1819_copy.SETTOREECONOMICODETTAGLIO[conditionA]))\n",
    "print('Elements removed:',len(contract_1819_copy.SETTOREECONOMICODETTAGLIO)-len(contract_1819.SETTOREECONOMICODETTAGLIO))"
   ]
  },
  {
   "cell_type": "markdown",
   "metadata": {},
   "source": [
    "For TITOLOSTUDIO there are no NaN values"
   ]
  },
  {
   "cell_type": "code",
   "execution_count": 26,
   "metadata": {},
   "outputs": [
    {
     "data": {
      "text/plain": [
       "['LICENZA MEDIA',\n",
       " 'LAUREA - Vecchio o nuovo ordinamento',\n",
       " 'NESSUN TITOLO DI STUDIO',\n",
       " \"DIPLOMA DI ISTRUZIONE SECONDARIA SUPERIORE  CHE PERMETTE L'ACCESSO ALL'UNIVERSITA\",\n",
       " \"TITOLO DI ISTRUZIONE SECONDARIA SUPERIORE (SCOLASTICA ED EXTRA-SCOLASTICA) CHE NON PERMETTE L'ACCESSO ALL'UNIVERSITÀ ()\",\n",
       " 'LICENZA ELEMENTARE',\n",
       " 'DIPLOMA UNIVERSITARIO',\n",
       " 'TITOLO DI STUDIO POST-LAUREA',\n",
       " 'DIPLOMA DI SPECIALIZZAZIONE',\n",
       " 'MASTER UNIVERSITARIO DI PRIMO LIVELLO',\n",
       " 'DIPLOMA TERZIARIO EXTRA-UNIVERSITARIO',\n",
       " 'TITOLO DI DOTTORE DI RICERCA']"
      ]
     },
     "execution_count": 26,
     "metadata": {},
     "output_type": "execute_result"
    }
   ],
   "source": [
    "contract_1819.TITOLOSTUDIO.unique().tolist()"
   ]
  },
  {
   "cell_type": "code",
   "execution_count": 27,
   "metadata": {},
   "outputs": [
    {
     "data": {
      "text/plain": [
       "[False]"
      ]
     },
     "execution_count": 27,
     "metadata": {},
     "output_type": "execute_result"
    }
   ],
   "source": [
    "contract_1819.TITOLOSTUDIO.isna().unique().tolist()"
   ]
  },
  {
   "cell_type": "markdown",
   "metadata": {},
   "source": [
    " We can group up some educational degrees that are on the same level, like different types of bachelor's degree and all post-lauream degrees."
   ]
  },
  {
   "cell_type": "code",
   "execution_count": 28,
   "metadata": {},
   "outputs": [
    {
     "data": {
      "text/html": [
       "<div>\n",
       "<style scoped>\n",
       "    .dataframe tbody tr th:only-of-type {\n",
       "        vertical-align: middle;\n",
       "    }\n",
       "\n",
       "    .dataframe tbody tr th {\n",
       "        vertical-align: top;\n",
       "    }\n",
       "\n",
       "    .dataframe thead th {\n",
       "        text-align: right;\n",
       "    }\n",
       "</style>\n",
       "<table border=\"1\" class=\"dataframe\">\n",
       "  <thead>\n",
       "    <tr style=\"text-align: right;\">\n",
       "      <th></th>\n",
       "      <th>GENERE</th>\n",
       "      <th>ETA</th>\n",
       "      <th>SETTOREECONOMICODETTAGLIO</th>\n",
       "      <th>TITOLOSTUDIO</th>\n",
       "      <th>CONTRATTO</th>\n",
       "      <th>MODALITALAVORO</th>\n",
       "      <th>PROVINCIAIMPRESA</th>\n",
       "      <th>CITTADINANZA</th>\n",
       "    </tr>\n",
       "  </thead>\n",
       "  <tbody>\n",
       "    <tr>\n",
       "      <th>0</th>\n",
       "      <td>M</td>\n",
       "      <td>25-49</td>\n",
       "      <td>Gestioni di funicolari, ski-lift e seggiovie s...</td>\n",
       "      <td>LICENZA MEDIA</td>\n",
       "      <td>LAVORO A TEMPO DETERMINATO</td>\n",
       "      <td>TEMPO PIENO</td>\n",
       "      <td>BERGAMO</td>\n",
       "      <td>ITALIANO</td>\n",
       "    </tr>\n",
       "    <tr>\n",
       "      <th>1</th>\n",
       "      <td>F</td>\n",
       "      <td>50-64</td>\n",
       "      <td>Confezioni di abbigliamento sportivo o di altr...</td>\n",
       "      <td>LICENZA MEDIA</td>\n",
       "      <td>LAVORO A TEMPO DETERMINATO</td>\n",
       "      <td>TEMPO PARZIALE ORIZZONTALE</td>\n",
       "      <td>BERGAMO</td>\n",
       "      <td>ITALIANO</td>\n",
       "    </tr>\n",
       "    <tr>\n",
       "      <th>2</th>\n",
       "      <td>F</td>\n",
       "      <td>25-49</td>\n",
       "      <td>Istruzione di grado preparatorio: scuole dell'...</td>\n",
       "      <td>ISTRUZIONE TERZIARIA</td>\n",
       "      <td>LAVORO A TEMPO INDETERMINATO</td>\n",
       "      <td>TEMPO PARZIALE ORIZZONTALE</td>\n",
       "      <td>BERGAMO</td>\n",
       "      <td>ITALIANO</td>\n",
       "    </tr>\n",
       "    <tr>\n",
       "      <th>3</th>\n",
       "      <td>M</td>\n",
       "      <td>50-64</td>\n",
       "      <td>Allevamento di bovini e bufalini da carne</td>\n",
       "      <td>NESSUN TITOLO DI STUDIO</td>\n",
       "      <td>LAVORO A TEMPO DETERMINATO</td>\n",
       "      <td>TEMPO PARZIALE MISTO</td>\n",
       "      <td>BERGAMO</td>\n",
       "      <td>STRANIERO</td>\n",
       "    </tr>\n",
       "    <tr>\n",
       "      <th>4</th>\n",
       "      <td>F</td>\n",
       "      <td>25-49</td>\n",
       "      <td>Attività di famiglie e convivenze come datori ...</td>\n",
       "      <td>NESSUN TITOLO DI STUDIO</td>\n",
       "      <td>LAVORO DOMESTICO</td>\n",
       "      <td>TEMPO PIENO</td>\n",
       "      <td>BERGAMO</td>\n",
       "      <td>ITALIANO</td>\n",
       "    </tr>\n",
       "  </tbody>\n",
       "</table>\n",
       "</div>"
      ],
      "text/plain": [
       "  GENERE    ETA                          SETTOREECONOMICODETTAGLIO  \\\n",
       "0      M  25-49  Gestioni di funicolari, ski-lift e seggiovie s...   \n",
       "1      F  50-64  Confezioni di abbigliamento sportivo o di altr...   \n",
       "2      F  25-49  Istruzione di grado preparatorio: scuole dell'...   \n",
       "3      M  50-64          Allevamento di bovini e bufalini da carne   \n",
       "4      F  25-49  Attività di famiglie e convivenze come datori ...   \n",
       "\n",
       "              TITOLOSTUDIO                     CONTRATTO  \\\n",
       "0            LICENZA MEDIA    LAVORO A TEMPO DETERMINATO   \n",
       "1            LICENZA MEDIA    LAVORO A TEMPO DETERMINATO   \n",
       "2     ISTRUZIONE TERZIARIA  LAVORO A TEMPO INDETERMINATO   \n",
       "3  NESSUN TITOLO DI STUDIO    LAVORO A TEMPO DETERMINATO   \n",
       "4  NESSUN TITOLO DI STUDIO              LAVORO DOMESTICO   \n",
       "\n",
       "               MODALITALAVORO PROVINCIAIMPRESA CITTADINANZA  \n",
       "0                 TEMPO PIENO          BERGAMO     ITALIANO  \n",
       "1  TEMPO PARZIALE ORIZZONTALE          BERGAMO     ITALIANO  \n",
       "2  TEMPO PARZIALE ORIZZONTALE          BERGAMO     ITALIANO  \n",
       "3        TEMPO PARZIALE MISTO          BERGAMO    STRANIERO  \n",
       "4                 TEMPO PIENO          BERGAMO     ITALIANO  "
      ]
     },
     "execution_count": 28,
     "metadata": {},
     "output_type": "execute_result"
    }
   ],
   "source": [
    "replaceDict = {\"NESSUN TITOLO DI STUDIO\":0,\n",
    "              \"LICENZA ELEMENTARE\":1,\n",
    "              \"LICENZA MEDIA\":2,\n",
    "              \"TITOLO DI ISTRUZIONE SECONDARIA SUPERIORE (SCOLASTICA ED EXTRA-SCOLASTICA) CHE NON PERMETTE L'ACCESSO ALL'UNIVERSITÀ ()\":3,\n",
    "              \"DIPLOMA DI ISTRUZIONE SECONDARIA SUPERIORE  CHE PERMETTE L'ACCESSO ALL'UNIVERSITA\":4,\n",
    "              \"LAUREA - Vecchio o nuovo ordinamento\":5,\n",
    "              \"DIPLOMA UNIVERSITARIO\":5,\n",
    "              \"DIPLOMA TERZIARIO EXTRA-UNIVERSITARIO\":5,\n",
    "              \"DIPLOMA DI SPECIALIZZAZIONE\":6,\n",
    "              \"TITOLO DI DOTTORE DI RICERCA\":6,\n",
    "              \"TITOLO DI STUDIO POST-LAUREA\":6,\n",
    "              \"MASTER UNIVERSITARIO DI PRIMO LIVELLO\":6}\n",
    "\n",
    "contract_1819.replace({\"TITOLOSTUDIO\":replaceDict}, inplace=True)\n",
    "contract_1819.TITOLOSTUDIO = contract_1819.TITOLOSTUDIO.replace({0:\"NESSUN TITOLO DI STUDIO\", \n",
    "                                       1:\"LICENZA ELEMENTARE\",\n",
    "                                       2:\"LICENZA MEDIA\",\n",
    "                                       3:\"ISTRUZIONE SECONDARIA SUPERIORE SENZA ACCESSO A UNIVERSITA'\", \n",
    "                                       4:\"ISTRUZIONE SECONDARIA SUPERIORE CON ACCESSO A UNIVERSITA'\", \n",
    "                                       5:\"ISTRUZIONE TERZIARIA\", \n",
    "                                       6:\"ISTRUZIONE POST-LAUREAM\"})\n",
    "contract_1819.head()"
   ]
  },
  {
   "cell_type": "markdown",
   "metadata": {},
   "source": [
    "For CONTRATTO there are no NaN values"
   ]
  },
  {
   "cell_type": "code",
   "execution_count": 29,
   "metadata": {
    "scrolled": true
   },
   "outputs": [
    {
     "data": {
      "text/plain": [
       "['LAVORO A TEMPO DETERMINATO',\n",
       " 'LAVORO A TEMPO INDETERMINATO',\n",
       " 'LAVORO DOMESTICO',\n",
       " 'LAVORO INTERMITTENTE',\n",
       " 'TIROCINIO',\n",
       " 'LAVORO AUTONOMO NELLO SPETTACOLO',\n",
       " 'APPRENDISTATO PROFESSIONALIZZANTE O CONTRATTO DI MESTIERE',\n",
       " 'LAVORO A TEMPO DETERMINATO  PER SOSTITUZIONE',\n",
       " 'LAVORO A DOMICILIO',\n",
       " 'CONTRATTO DI AGENZIA',\n",
       " 'APPRENDISTATO PER LA QUALIFICA E PER IL DIPLOMA PROFESSIONALE, IL DIPLOMA DI ISTRUZIONE SECONDARIA SUPERIORE E IL CERTIFICATO DI SPECIALIZZAZIONE TECNICA SUPERIORE',\n",
       " 'COLLABORAZIONE COORDINATA E CONTINUATIVA',\n",
       " 'LAVORO O ATTIVITÀ SOCIALMENTE UTILE (LSU - ASU)',\n",
       " 'APPRENDISTATO DI ALTA FORMAZIONE E RICERCA',\n",
       " 'CONTRATTI DI BORSA LAVORO E ALTRE WORK EXPERIENCES',\n",
       " 'CONTRATTO DI FORMAZIONE LAVORO (SOLO PUBBLICA AMMINISTRAZIONE)',\n",
       " 'LAVORO CONGIUNTO IN AGRICOLTURA',\n",
       " 'LAVORO RIPARTITO',\n",
       " 'LAVORO DOMESTICO A TEMPO INDETERMINATO']"
      ]
     },
     "execution_count": 29,
     "metadata": {},
     "output_type": "execute_result"
    }
   ],
   "source": [
    "contract_1819.CONTRATTO.unique().tolist()"
   ]
  },
  {
   "cell_type": "code",
   "execution_count": 30,
   "metadata": {},
   "outputs": [
    {
     "data": {
      "text/plain": [
       "[False]"
      ]
     },
     "execution_count": 30,
     "metadata": {},
     "output_type": "execute_result"
    }
   ],
   "source": [
    "contract_1819.CONTRATTO.isna().unique().tolist()"
   ]
  },
  {
   "cell_type": "markdown",
   "metadata": {},
   "source": [
    "For MODALITALAVORO there are undefined values, but we cannot eliminate them because they represent more than 9% of the total data"
   ]
  },
  {
   "cell_type": "code",
   "execution_count": 31,
   "metadata": {},
   "outputs": [
    {
     "data": {
      "text/plain": [
       "['TEMPO PIENO',\n",
       " 'TEMPO PARZIALE ORIZZONTALE',\n",
       " 'TEMPO PARZIALE MISTO',\n",
       " 'NON DEFINITO',\n",
       " 'TEMPO PARZIALE VERTICALE']"
      ]
     },
     "execution_count": 31,
     "metadata": {},
     "output_type": "execute_result"
    }
   ],
   "source": [
    "contract_1819.MODALITALAVORO.unique().tolist()"
   ]
  },
  {
   "cell_type": "code",
   "execution_count": 32,
   "metadata": {},
   "outputs": [
    {
     "name": "stdout",
     "output_type": "stream",
     "text": [
      "Number of tuples with a NaN value for SETTOREECONOMICODETTAGLIO:  250511 , 9.64878426804956 %\n"
     ]
    }
   ],
   "source": [
    "conditionA = contract_1819.MODALITALAVORO == 'NON DEFINITO'\n",
    "print(\"Number of tuples with a NaN value for SETTOREECONOMICODETTAGLIO: \", len(contract_1819[conditionA]), \",\",(len(contract_1819[conditionA])/len(contract_1819.MODALITALAVORO))*100,\"%\")"
   ]
  },
  {
   "cell_type": "markdown",
   "metadata": {},
   "source": [
    "For PROVINCIAIMPRESA there are no NaN values, and CITTADINANZA was already checked before."
   ]
  },
  {
   "cell_type": "code",
   "execution_count": 33,
   "metadata": {},
   "outputs": [
    {
     "data": {
      "text/plain": [
       "['BERGAMO',\n",
       " 'LECCO',\n",
       " 'BRESCIA',\n",
       " 'COMO',\n",
       " 'LODI',\n",
       " 'MANTOVA',\n",
       " 'CREMONA',\n",
       " 'PAVIA',\n",
       " 'MILANO',\n",
       " 'VARESE',\n",
       " 'SONDRIO',\n",
       " 'MONZA E BRIANZA']"
      ]
     },
     "execution_count": 33,
     "metadata": {},
     "output_type": "execute_result"
    }
   ],
   "source": [
    "contract_1819.PROVINCIAIMPRESA.unique().tolist()"
   ]
  },
  {
   "cell_type": "markdown",
   "metadata": {},
   "source": [
    "No we repeat the same process for the data from 2020-2021"
   ]
  },
  {
   "cell_type": "markdown",
   "metadata": {},
   "source": [
    "For GENERE there are no NaN values"
   ]
  },
  {
   "cell_type": "code",
   "execution_count": 34,
   "metadata": {},
   "outputs": [
    {
     "data": {
      "text/plain": [
       "['F', 'M']"
      ]
     },
     "execution_count": 34,
     "metadata": {},
     "output_type": "execute_result"
    }
   ],
   "source": [
    "contract_2021.GENERE.unique().tolist()"
   ]
  },
  {
   "cell_type": "markdown",
   "metadata": {},
   "source": [
    "For ETA there are invalid values"
   ]
  },
  {
   "cell_type": "code",
   "execution_count": 35,
   "metadata": {},
   "outputs": [
    {
     "data": {
      "text/plain": [
       "[False]"
      ]
     },
     "execution_count": 35,
     "metadata": {},
     "output_type": "execute_result"
    }
   ],
   "source": [
    "contract_2021.ETA.isna().unique().tolist()"
   ]
  },
  {
   "cell_type": "code",
   "execution_count": 36,
   "metadata": {},
   "outputs": [
    {
     "data": {
      "text/plain": [
       "[4, 0, 2, 8, 5, 6, 10, 9, 11, 12, 14, 7, 1, 3, 13]"
      ]
     },
     "execution_count": 36,
     "metadata": {},
     "output_type": "execute_result"
    }
   ],
   "source": [
    "contract_2021[contract_2021.ETA < 15]['ETA'].unique().tolist()"
   ]
  },
  {
   "cell_type": "code",
   "execution_count": 37,
   "metadata": {},
   "outputs": [
    {
     "name": "stdout",
     "output_type": "stream",
     "text": [
      "Number of tuples without a 'ETA' value lower than 15:  1670 , 0.08772127955406073 %\n"
     ]
    }
   ],
   "source": [
    "conditionA = contract_2021.ETA < 15\n",
    "print(\"Number of tuples without a 'ETA' value lower than 15: \", len(contract_2021[conditionA]), \",\",(len(contract_2021[conditionA])/len(contract_2021.ETA))*100,\"%\")"
   ]
  },
  {
   "cell_type": "code",
   "execution_count": 38,
   "metadata": {
    "scrolled": true
   },
   "outputs": [
    {
     "name": "stdout",
     "output_type": "stream",
     "text": [
      "Check categories\n",
      "GENERE\n",
      "SETTOREECONOMICODETTAGLIO\n",
      "TITOLOSTUDIO\n",
      "CONTRATTO\n",
      "MODALITALAVORO\n",
      "PROVINCIAIMPRESA\n",
      "CITTADINANZA\n",
      "There is one categories that would lose more than 1%:  459\n",
      "There is one categories that would lose more than 1%:  488\n",
      "There is one categories that would lose more than 1%:  770\n",
      "There is one categories that would lose more than 1%:  786\n",
      "There is one categories that would lose more than 1%:  790\n",
      "There is one categories that would lose more than 1%:  845\n",
      "There is one categories that would lose more than 1%:  945\n",
      "There is one categories that would lose more than 1%:  986\n",
      "There is one categories that would lose more than 1%:  1192\n"
     ]
    }
   ],
   "source": [
    "print('Check categories')\n",
    "percentages_2021 = []\n",
    "print('GENERE')\n",
    "percentages_2021.append((len(contract_2021[(contract_2021.GENERE=='M')&(conditionA)])/len(contract_2021[contract_2021.GENERE=='M']))*100)\n",
    "percentages_2021.append((len(contract_2021[(contract_2021.GENERE=='F')&(conditionA)])/len(contract_2021[contract_2021.GENERE=='F']))*100)\n",
    "\n",
    "print('SETTOREECONOMICODETTAGLIO')\n",
    "for i in contract_2021.SETTOREECONOMICODETTAGLIO.unique().tolist():\n",
    "    if type(i) is str:\n",
    "        percentages_2021.append((len(contract_2021[(contract_2021.SETTOREECONOMICODETTAGLIO==i)&(conditionA)])/len(contract_2021[contract_2021.SETTOREECONOMICODETTAGLIO==i]))*100)\n",
    "    elif isnan(i):\n",
    "        percentages_2021.append((len(contract_2021[(contract_2021.SETTOREECONOMICODETTAGLIO.isna())&(conditionA)])/len(contract_2021[contract_2021.SETTOREECONOMICODETTAGLIO.isna()]))*100)\n",
    "\n",
    "print('TITOLOSTUDIO')\n",
    "for i in contract_2021.TITOLOSTUDIO.unique().tolist():\n",
    "    percentages_2021.append((len(contract_2021[(contract_2021.TITOLOSTUDIO==i)&(conditionA)])/len(contract_2021[contract_2021.TITOLOSTUDIO==i]))*100)\n",
    "\n",
    "print('CONTRATTO')\n",
    "for i in contract_2021.CONTRATTO.unique().tolist():\n",
    "    percentages_2021.append((len(contract_2021[(contract_2021.CONTRATTO==i)&(conditionA)])/len(contract_2021[contract_2021.CONTRATTO==i]))*100)\n",
    "\n",
    "print('MODALITALAVORO')\n",
    "for i in contract_2021.MODALITALAVORO.unique().tolist():\n",
    "    percentages_2021.append((len(contract_2021[(contract_2021.MODALITALAVORO==i)&(conditionA)])/len(contract_2021[contract_2021.MODALITALAVORO==i]))*100)\n",
    "\n",
    "print('PROVINCIAIMPRESA')\n",
    "for i in contract_2021.PROVINCIAIMPRESA.unique().tolist():\n",
    "    percentages_2021.append((len(contract_2021[(contract_2021.PROVINCIAIMPRESA==i)&(conditionA)])/len(contract_2021[contract_2021.PROVINCIAIMPRESA==i]))*100)\n",
    "    \n",
    "print('CITTADINANZA')\n",
    "for i in contract_2021.CITTADINANZA.unique().tolist():\n",
    "    percentages_2021.append((len(contract_2021[(contract_2021.CITTADINANZA==i)&(conditionA)])/len(contract_2021[contract_2021.CITTADINANZA==i]))*100)\n",
    "    \n",
    "ctr = 0\n",
    "printed = False\n",
    "for i in percentages_2021:\n",
    "    if i >= 1:\n",
    "        print('There is one categories that would lose more than 1%: ', ctr)\n",
    "        printed = True\n",
    "    ctr = ctr + 1\n",
    "    if ctr == len(percentages_2021) and not printed:\n",
    "        print('No category would lose more than 1%, so we can eliminate invalid values')\n"
   ]
  },
  {
   "cell_type": "markdown",
   "metadata": {},
   "source": [
    "As before, the values cannot be eliminated so we consider them as undefined values"
   ]
  },
  {
   "cell_type": "code",
   "execution_count": 39,
   "metadata": {},
   "outputs": [],
   "source": [
    "contract_2021.loc[conditionA, 'ETA'] = 0"
   ]
  },
  {
   "cell_type": "markdown",
   "metadata": {},
   "source": [
    "We group the values: NON DEFINITO, 15-24, 25-49, 50-64, 65 o piu'"
   ]
  },
  {
   "cell_type": "code",
   "execution_count": 40,
   "metadata": {},
   "outputs": [
    {
     "data": {
      "text/html": [
       "<div>\n",
       "<style scoped>\n",
       "    .dataframe tbody tr th:only-of-type {\n",
       "        vertical-align: middle;\n",
       "    }\n",
       "\n",
       "    .dataframe tbody tr th {\n",
       "        vertical-align: top;\n",
       "    }\n",
       "\n",
       "    .dataframe thead th {\n",
       "        text-align: right;\n",
       "    }\n",
       "</style>\n",
       "<table border=\"1\" class=\"dataframe\">\n",
       "  <thead>\n",
       "    <tr style=\"text-align: right;\">\n",
       "      <th></th>\n",
       "      <th>GENERE</th>\n",
       "      <th>ETA</th>\n",
       "      <th>SETTOREECONOMICODETTAGLIO</th>\n",
       "      <th>TITOLOSTUDIO</th>\n",
       "      <th>CONTRATTO</th>\n",
       "      <th>MODALITALAVORO</th>\n",
       "      <th>PROVINCIAIMPRESA</th>\n",
       "      <th>CITTADINANZA</th>\n",
       "    </tr>\n",
       "  </thead>\n",
       "  <tbody>\n",
       "    <tr>\n",
       "      <th>0</th>\n",
       "      <td>F</td>\n",
       "      <td>50-64</td>\n",
       "      <td>Attività di famiglie e convivenze come datori ...</td>\n",
       "      <td>NESSUN TITOLO DI STUDIO</td>\n",
       "      <td>LAVORO DOMESTICO</td>\n",
       "      <td>TEMPO PIENO</td>\n",
       "      <td>BERGAMO</td>\n",
       "      <td>STRANIERO</td>\n",
       "    </tr>\n",
       "    <tr>\n",
       "      <th>1</th>\n",
       "      <td>F</td>\n",
       "      <td>25-49</td>\n",
       "      <td>Rifugi di montagna</td>\n",
       "      <td>LICENZA MEDIA</td>\n",
       "      <td>LAVORO INTERMITTENTE</td>\n",
       "      <td>NON DEFINITO</td>\n",
       "      <td>BERGAMO</td>\n",
       "      <td>ITALIANO</td>\n",
       "    </tr>\n",
       "    <tr>\n",
       "      <th>2</th>\n",
       "      <td>M</td>\n",
       "      <td>15-24</td>\n",
       "      <td>Costruzione di strade, autostrade e piste aero...</td>\n",
       "      <td>LICENZA MEDIA</td>\n",
       "      <td>LAVORO A TEMPO DETERMINATO</td>\n",
       "      <td>TEMPO PIENO</td>\n",
       "      <td>BERGAMO</td>\n",
       "      <td>ITALIANO</td>\n",
       "    </tr>\n",
       "    <tr>\n",
       "      <th>3</th>\n",
       "      <td>M</td>\n",
       "      <td>15-24</td>\n",
       "      <td>Ristorazione con somministrazione</td>\n",
       "      <td>LICENZA MEDIA</td>\n",
       "      <td>LAVORO INTERMITTENTE</td>\n",
       "      <td>NON DEFINITO</td>\n",
       "      <td>BERGAMO</td>\n",
       "      <td>ITALIANO</td>\n",
       "    </tr>\n",
       "    <tr>\n",
       "      <th>4</th>\n",
       "      <td>M</td>\n",
       "      <td>25-49</td>\n",
       "      <td>Costruzione di strade, autostrade e piste aero...</td>\n",
       "      <td>LICENZA MEDIA</td>\n",
       "      <td>LAVORO A TEMPO DETERMINATO</td>\n",
       "      <td>TEMPO PIENO</td>\n",
       "      <td>BERGAMO</td>\n",
       "      <td>ITALIANO</td>\n",
       "    </tr>\n",
       "  </tbody>\n",
       "</table>\n",
       "</div>"
      ],
      "text/plain": [
       "  GENERE    ETA                          SETTOREECONOMICODETTAGLIO  \\\n",
       "0      F  50-64  Attività di famiglie e convivenze come datori ...   \n",
       "1      F  25-49                                 Rifugi di montagna   \n",
       "2      M  15-24  Costruzione di strade, autostrade e piste aero...   \n",
       "3      M  15-24                  Ristorazione con somministrazione   \n",
       "4      M  25-49  Costruzione di strade, autostrade e piste aero...   \n",
       "\n",
       "              TITOLOSTUDIO                   CONTRATTO MODALITALAVORO  \\\n",
       "0  NESSUN TITOLO DI STUDIO            LAVORO DOMESTICO    TEMPO PIENO   \n",
       "1            LICENZA MEDIA        LAVORO INTERMITTENTE   NON DEFINITO   \n",
       "2            LICENZA MEDIA  LAVORO A TEMPO DETERMINATO    TEMPO PIENO   \n",
       "3            LICENZA MEDIA        LAVORO INTERMITTENTE   NON DEFINITO   \n",
       "4            LICENZA MEDIA  LAVORO A TEMPO DETERMINATO    TEMPO PIENO   \n",
       "\n",
       "  PROVINCIAIMPRESA CITTADINANZA  \n",
       "0          BERGAMO    STRANIERO  \n",
       "1          BERGAMO     ITALIANO  \n",
       "2          BERGAMO     ITALIANO  \n",
       "3          BERGAMO     ITALIANO  \n",
       "4          BERGAMO     ITALIANO  "
      ]
     },
     "execution_count": 40,
     "metadata": {},
     "output_type": "execute_result"
    }
   ],
   "source": [
    "'''First the age values are substituted with values 0,1,2,3,4 (from \"ND\", \"15-24\" to \"65 o piu'\"), then they are changed with the\n",
    "actual names'''\n",
    "contract_2021.loc[contract_2021.ETA < 15, 'ETA'] = 0\n",
    "contract_2021.loc[(contract_2021.ETA > 14) & (contract_2021.ETA < 25), 'ETA'] = 1\n",
    "contract_2021.loc[(contract_2021.ETA > 24) & (contract_2021.ETA < 50), 'ETA'] = 2\n",
    "contract_2021.loc[(contract_2021.ETA > 49) & (contract_2021.ETA < 65), 'ETA'] = 3\n",
    "contract_2021.loc[contract_2021.ETA > 64, 'ETA'] = 4\n",
    "\n",
    "contract_2021 = contract_2021.replace({0:\"NON DEFINITO\", 1:\"15-24\", 2:\"25-49\", 3:\"50-64\", 4:\"65 o piu'\"})\n",
    "contract_2021.head()"
   ]
  },
  {
   "cell_type": "markdown",
   "metadata": {},
   "source": [
    "For SETTOREECONOMICODETTAGLIO there are NaN values"
   ]
  },
  {
   "cell_type": "code",
   "execution_count": 41,
   "metadata": {},
   "outputs": [
    {
     "data": {
      "text/plain": [
       "[False, True]"
      ]
     },
     "execution_count": 41,
     "metadata": {},
     "output_type": "execute_result"
    }
   ],
   "source": [
    "contract_2021.SETTOREECONOMICODETTAGLIO.isna().unique().tolist()"
   ]
  },
  {
   "cell_type": "code",
   "execution_count": 42,
   "metadata": {},
   "outputs": [
    {
     "data": {
      "text/plain": [
       "[]"
      ]
     },
     "execution_count": 42,
     "metadata": {},
     "output_type": "execute_result"
    }
   ],
   "source": [
    "contract_2021.SETTOREECONOMICODETTAGLIO[contract_2021.SETTOREECONOMICODETTAGLIO == 'NON DEFINITO'].unique().tolist()"
   ]
  },
  {
   "cell_type": "markdown",
   "metadata": {},
   "source": [
    "We do the same as before"
   ]
  },
  {
   "cell_type": "code",
   "execution_count": 43,
   "metadata": {},
   "outputs": [
    {
     "name": "stdout",
     "output_type": "stream",
     "text": [
      "Number of tuples with a NaN value for SETTOREECONOMICODETTAGLIO:  1210 , 0.06355853189246316 %\n"
     ]
    }
   ],
   "source": [
    "conditionA = contract_2021.SETTOREECONOMICODETTAGLIO.isna()\n",
    "print(\"Number of tuples with a NaN value for SETTOREECONOMICODETTAGLIO: \", len(contract_2021[conditionA]), \",\",(len(contract_2021[conditionA])/len(contract_2021.SETTOREECONOMICODETTAGLIO))*100,\"%\")"
   ]
  },
  {
   "cell_type": "code",
   "execution_count": 44,
   "metadata": {},
   "outputs": [
    {
     "name": "stdout",
     "output_type": "stream",
     "text": [
      "Check categories\n",
      "GENERE\n",
      "ETA\n",
      "TITOLOSTUDIO\n",
      "CONTRATTO\n",
      "MODALITALAVORO\n",
      "PROVINCIAIMPRESA\n",
      "CITTADINANZA\n",
      "There is one categories that would lose more than 1%:  47\n"
     ]
    }
   ],
   "source": [
    "print('Check categories')\n",
    "percentages_2021 = []\n",
    "print('GENERE')\n",
    "percentages_2021.append((len(contract_2021[(contract_2021.GENERE=='M')&(conditionA)])/len(contract_2021[contract_2021.GENERE=='M']))*100)\n",
    "percentages_2021.append((len(contract_2021[(contract_2021.GENERE=='F')&(conditionA)])/len(contract_2021[contract_2021.GENERE=='F']))*100)\n",
    "\n",
    "print('ETA')\n",
    "for i in contract_2021.ETA.unique().tolist():\n",
    "    percentages_2021.append((len(contract_2021[(contract_2021.ETA==i)&(conditionA)])/len(contract_2021[contract_2021.ETA==i]))*100)\n",
    "\n",
    "print('TITOLOSTUDIO')\n",
    "for i in contract_2021.TITOLOSTUDIO.unique().tolist():\n",
    "    percentages_2021.append((len(contract_2021[(contract_2021.TITOLOSTUDIO==i)&(conditionA)])/len(contract_2021[contract_2021.TITOLOSTUDIO==i]))*100)\n",
    "\n",
    "print('CONTRATTO')\n",
    "for i in contract_2021.CONTRATTO.unique().tolist():\n",
    "    percentages_2021.append((len(contract_2021[(contract_2021.CONTRATTO==i)&(conditionA)])/len(contract_2021[contract_2021.CONTRATTO==i]))*100)\n",
    "\n",
    "print('MODALITALAVORO')\n",
    "for i in contract_2021.MODALITALAVORO.unique().tolist():\n",
    "    percentages_2021.append((len(contract_2021[(contract_2021.MODALITALAVORO==i)&(conditionA)])/len(contract_2021[contract_2021.MODALITALAVORO==i]))*100)\n",
    "\n",
    "print('PROVINCIAIMPRESA')\n",
    "for i in contract_2021.PROVINCIAIMPRESA.unique().tolist():\n",
    "    percentages_2021.append((len(contract_2021[(contract_2021.PROVINCIAIMPRESA==i)&(conditionA)])/len(contract_2021[contract_2021.PROVINCIAIMPRESA==i]))*100)\n",
    "    \n",
    "print('CITTADINANZA')\n",
    "for i in contract_2021.CITTADINANZA.unique().tolist():\n",
    "    percentages_2021.append((len(contract_2021[(contract_2021.CITTADINANZA==i)&(conditionA)])/len(contract_2021[contract_2021.CITTADINANZA==i]))*100)\n",
    "    \n",
    "ctr = 0\n",
    "printed = False\n",
    "for i in percentages_2021:\n",
    "    if i >= 1:\n",
    "        print('There is one categories that would lose more than 1%: ', ctr)\n",
    "        printed = True\n",
    "    ctr = ctr + 1\n",
    "    if ctr == len(percentages_2021) and not printed:\n",
    "        print('No category would lose more than 1%, so we can eliminate invalid values')\n"
   ]
  },
  {
   "cell_type": "markdown",
   "metadata": {},
   "source": [
    "In this case we cannot eliminate the NaN values so we consider them as undefined values."
   ]
  },
  {
   "cell_type": "code",
   "execution_count": 45,
   "metadata": {},
   "outputs": [],
   "source": [
    "contract_2021.loc[conditionA, 'SETTOREECONOMICODETTAGLIO'] = 'NON DEFINITO'"
   ]
  },
  {
   "cell_type": "markdown",
   "metadata": {},
   "source": [
    "For TITOLOSTUDIO there are no NaN values"
   ]
  },
  {
   "cell_type": "code",
   "execution_count": 46,
   "metadata": {},
   "outputs": [
    {
     "data": {
      "text/plain": [
       "['NESSUN TITOLO DI STUDIO',\n",
       " 'LICENZA MEDIA',\n",
       " 'LICENZA ELEMENTARE',\n",
       " \"TITOLO DI ISTRUZIONE SECONDARIA SUPERIORE (SCOLASTICA ED EXTRA-SCOLASTICA) CHE NON PERMETTE L'ACCESSO ALL'UNIVERSITÀ ()\",\n",
       " \"DIPLOMA DI ISTRUZIONE SECONDARIA SUPERIORE  CHE PERMETTE L'ACCESSO ALL'UNIVERSITA\",\n",
       " 'DIPLOMA DI SPECIALIZZAZIONE',\n",
       " 'DIPLOMA UNIVERSITARIO',\n",
       " 'LAUREA - Vecchio o nuovo ordinamento',\n",
       " 'TITOLO DI DOTTORE DI RICERCA',\n",
       " 'MASTER UNIVERSITARIO DI PRIMO LIVELLO',\n",
       " 'TITOLO DI STUDIO POST-LAUREA',\n",
       " 'DIPLOMA TERZIARIO EXTRA-UNIVERSITARIO']"
      ]
     },
     "execution_count": 46,
     "metadata": {},
     "output_type": "execute_result"
    }
   ],
   "source": [
    "contract_2021.TITOLOSTUDIO.unique().tolist()"
   ]
  },
  {
   "cell_type": "code",
   "execution_count": 47,
   "metadata": {},
   "outputs": [
    {
     "data": {
      "text/plain": [
       "[False]"
      ]
     },
     "execution_count": 47,
     "metadata": {},
     "output_type": "execute_result"
    }
   ],
   "source": [
    "contract_2021.TITOLOSTUDIO.isna().unique().tolist()"
   ]
  },
  {
   "cell_type": "markdown",
   "metadata": {},
   "source": [
    "TITOLOSTUDIO values are grouped up as before"
   ]
  },
  {
   "cell_type": "code",
   "execution_count": 48,
   "metadata": {},
   "outputs": [
    {
     "data": {
      "text/html": [
       "<div>\n",
       "<style scoped>\n",
       "    .dataframe tbody tr th:only-of-type {\n",
       "        vertical-align: middle;\n",
       "    }\n",
       "\n",
       "    .dataframe tbody tr th {\n",
       "        vertical-align: top;\n",
       "    }\n",
       "\n",
       "    .dataframe thead th {\n",
       "        text-align: right;\n",
       "    }\n",
       "</style>\n",
       "<table border=\"1\" class=\"dataframe\">\n",
       "  <thead>\n",
       "    <tr style=\"text-align: right;\">\n",
       "      <th></th>\n",
       "      <th>GENERE</th>\n",
       "      <th>ETA</th>\n",
       "      <th>SETTOREECONOMICODETTAGLIO</th>\n",
       "      <th>TITOLOSTUDIO</th>\n",
       "      <th>CONTRATTO</th>\n",
       "      <th>MODALITALAVORO</th>\n",
       "      <th>PROVINCIAIMPRESA</th>\n",
       "      <th>CITTADINANZA</th>\n",
       "    </tr>\n",
       "  </thead>\n",
       "  <tbody>\n",
       "    <tr>\n",
       "      <th>0</th>\n",
       "      <td>F</td>\n",
       "      <td>50-64</td>\n",
       "      <td>Attività di famiglie e convivenze come datori ...</td>\n",
       "      <td>NESSUN TITOLO DI STUDIO</td>\n",
       "      <td>LAVORO DOMESTICO</td>\n",
       "      <td>TEMPO PIENO</td>\n",
       "      <td>BERGAMO</td>\n",
       "      <td>STRANIERO</td>\n",
       "    </tr>\n",
       "    <tr>\n",
       "      <th>1</th>\n",
       "      <td>F</td>\n",
       "      <td>25-49</td>\n",
       "      <td>Rifugi di montagna</td>\n",
       "      <td>LICENZA MEDIA</td>\n",
       "      <td>LAVORO INTERMITTENTE</td>\n",
       "      <td>NON DEFINITO</td>\n",
       "      <td>BERGAMO</td>\n",
       "      <td>ITALIANO</td>\n",
       "    </tr>\n",
       "    <tr>\n",
       "      <th>2</th>\n",
       "      <td>M</td>\n",
       "      <td>15-24</td>\n",
       "      <td>Costruzione di strade, autostrade e piste aero...</td>\n",
       "      <td>LICENZA MEDIA</td>\n",
       "      <td>LAVORO A TEMPO DETERMINATO</td>\n",
       "      <td>TEMPO PIENO</td>\n",
       "      <td>BERGAMO</td>\n",
       "      <td>ITALIANO</td>\n",
       "    </tr>\n",
       "    <tr>\n",
       "      <th>3</th>\n",
       "      <td>M</td>\n",
       "      <td>15-24</td>\n",
       "      <td>Ristorazione con somministrazione</td>\n",
       "      <td>LICENZA MEDIA</td>\n",
       "      <td>LAVORO INTERMITTENTE</td>\n",
       "      <td>NON DEFINITO</td>\n",
       "      <td>BERGAMO</td>\n",
       "      <td>ITALIANO</td>\n",
       "    </tr>\n",
       "    <tr>\n",
       "      <th>4</th>\n",
       "      <td>M</td>\n",
       "      <td>25-49</td>\n",
       "      <td>Costruzione di strade, autostrade e piste aero...</td>\n",
       "      <td>LICENZA MEDIA</td>\n",
       "      <td>LAVORO A TEMPO DETERMINATO</td>\n",
       "      <td>TEMPO PIENO</td>\n",
       "      <td>BERGAMO</td>\n",
       "      <td>ITALIANO</td>\n",
       "    </tr>\n",
       "  </tbody>\n",
       "</table>\n",
       "</div>"
      ],
      "text/plain": [
       "  GENERE    ETA                          SETTOREECONOMICODETTAGLIO  \\\n",
       "0      F  50-64  Attività di famiglie e convivenze come datori ...   \n",
       "1      F  25-49                                 Rifugi di montagna   \n",
       "2      M  15-24  Costruzione di strade, autostrade e piste aero...   \n",
       "3      M  15-24                  Ristorazione con somministrazione   \n",
       "4      M  25-49  Costruzione di strade, autostrade e piste aero...   \n",
       "\n",
       "              TITOLOSTUDIO                   CONTRATTO MODALITALAVORO  \\\n",
       "0  NESSUN TITOLO DI STUDIO            LAVORO DOMESTICO    TEMPO PIENO   \n",
       "1            LICENZA MEDIA        LAVORO INTERMITTENTE   NON DEFINITO   \n",
       "2            LICENZA MEDIA  LAVORO A TEMPO DETERMINATO    TEMPO PIENO   \n",
       "3            LICENZA MEDIA        LAVORO INTERMITTENTE   NON DEFINITO   \n",
       "4            LICENZA MEDIA  LAVORO A TEMPO DETERMINATO    TEMPO PIENO   \n",
       "\n",
       "  PROVINCIAIMPRESA CITTADINANZA  \n",
       "0          BERGAMO    STRANIERO  \n",
       "1          BERGAMO     ITALIANO  \n",
       "2          BERGAMO     ITALIANO  \n",
       "3          BERGAMO     ITALIANO  \n",
       "4          BERGAMO     ITALIANO  "
      ]
     },
     "execution_count": 48,
     "metadata": {},
     "output_type": "execute_result"
    }
   ],
   "source": [
    "replaceDict = {\"NESSUN TITOLO DI STUDIO\":0,\n",
    "              \"LICENZA ELEMENTARE\":1,\n",
    "              \"LICENZA MEDIA\":2,\n",
    "              \"TITOLO DI ISTRUZIONE SECONDARIA SUPERIORE (SCOLASTICA ED EXTRA-SCOLASTICA) CHE NON PERMETTE L'ACCESSO ALL'UNIVERSITÀ ()\":3,\n",
    "              \"DIPLOMA DI ISTRUZIONE SECONDARIA SUPERIORE  CHE PERMETTE L'ACCESSO ALL'UNIVERSITA\":4,\n",
    "              \"LAUREA - Vecchio o nuovo ordinamento\":5,\n",
    "              \"DIPLOMA UNIVERSITARIO\":5,\n",
    "              \"DIPLOMA TERZIARIO EXTRA-UNIVERSITARIO\":5,\n",
    "              \"DIPLOMA DI SPECIALIZZAZIONE\":6,\n",
    "              \"TITOLO DI DOTTORE DI RICERCA\":6,\n",
    "              \"TITOLO DI STUDIO POST-LAUREA\":6,\n",
    "              \"MASTER UNIVERSITARIO DI PRIMO LIVELLO\":6}\n",
    "\n",
    "contract_2021.replace({\"TITOLOSTUDIO\":replaceDict}, inplace=True)\n",
    "contract_2021.TITOLOSTUDIO = contract_2021.TITOLOSTUDIO.replace({0:\"NESSUN TITOLO DI STUDIO\", \n",
    "                                       1:\"LICENZA ELEMENTARE\",\n",
    "                                       2:\"LICENZA MEDIA\",\n",
    "                                       3:\"ISTRUZIONE SECONDARIA SUPERIORE SENZA ACCESSO A UNIVERSITA'\", \n",
    "                                       4:\"ISTRUZIONE SECONDARIA SUPERIORE CON ACCESSO A UNIVERSITA'\", \n",
    "                                       5:\"ISTRUZIONE TERZIARIA\", \n",
    "                                       6:\"ISTRUZIONE POST-LAUREAM\"})\n",
    "contract_2021.head()"
   ]
  },
  {
   "cell_type": "markdown",
   "metadata": {},
   "source": [
    "For CONTRATTO there are no NaN values"
   ]
  },
  {
   "cell_type": "code",
   "execution_count": 49,
   "metadata": {
    "scrolled": false
   },
   "outputs": [
    {
     "data": {
      "text/plain": [
       "['LAVORO DOMESTICO',\n",
       " 'LAVORO INTERMITTENTE',\n",
       " 'LAVORO A TEMPO DETERMINATO',\n",
       " 'APPRENDISTATO PROFESSIONALIZZANTE O CONTRATTO DI MESTIERE',\n",
       " 'LAVORO A TEMPO INDETERMINATO',\n",
       " 'LAVORO AUTONOMO NELLO SPETTACOLO',\n",
       " 'TIROCINIO',\n",
       " 'LAVORO A TEMPO DETERMINATO  PER SOSTITUZIONE',\n",
       " 'LAVORO O ATTIVITÀ SOCIALMENTE UTILE (LSU - ASU)',\n",
       " 'CONTRATTO DI AGENZIA',\n",
       " 'COLLABORAZIONE COORDINATA E CONTINUATIVA',\n",
       " 'APPRENDISTATO PER LA QUALIFICA E PER IL DIPLOMA PROFESSIONALE, IL DIPLOMA DI ISTRUZIONE SECONDARIA SUPERIORE E IL CERTIFICATO DI SPECIALIZZAZIONE TECNICA SUPERIORE',\n",
       " 'LAVORO A DOMICILIO',\n",
       " 'CONTRATTI DI BORSA LAVORO E ALTRE WORK EXPERIENCES',\n",
       " 'LAVORO CONGIUNTO IN AGRICOLTURA',\n",
       " 'Lavoro a tempo determinato per sostituzione con piattaforma',\n",
       " 'CONTRATTO DI FORMAZIONE LAVORO (SOLO PUBBLICA AMMINISTRAZIONE)',\n",
       " 'Lavoro a tempo indeterminato con piattaforma',\n",
       " 'APPRENDISTATO DI ALTA FORMAZIONE E RICERCA',\n",
       " 'Lavoro a tempo determinato con piattaforma',\n",
       " 'LAVORO RIPARTITO',\n",
       " 'LAVORO DOMESTICO A TEMPO INDETERMINATO']"
      ]
     },
     "execution_count": 49,
     "metadata": {},
     "output_type": "execute_result"
    }
   ],
   "source": [
    "contract_2021.CONTRATTO.unique().tolist()"
   ]
  },
  {
   "cell_type": "code",
   "execution_count": 50,
   "metadata": {},
   "outputs": [
    {
     "data": {
      "text/plain": [
       "[False]"
      ]
     },
     "execution_count": 50,
     "metadata": {},
     "output_type": "execute_result"
    }
   ],
   "source": [
    "contract_2021.CONTRATTO.isna().unique().tolist()"
   ]
  },
  {
   "cell_type": "markdown",
   "metadata": {},
   "source": [
    "For MODALITALAVORO we have undefined values but cannot be eliminated because they represent almost 10% of the values."
   ]
  },
  {
   "cell_type": "code",
   "execution_count": 51,
   "metadata": {},
   "outputs": [
    {
     "data": {
      "text/plain": [
       "['TEMPO PIENO',\n",
       " 'NON DEFINITO',\n",
       " 'TEMPO PARZIALE ORIZZONTALE',\n",
       " 'TEMPO PARZIALE MISTO',\n",
       " 'TEMPO PARZIALE VERTICALE']"
      ]
     },
     "execution_count": 51,
     "metadata": {},
     "output_type": "execute_result"
    }
   ],
   "source": [
    "contract_2021.MODALITALAVORO.unique().tolist()"
   ]
  },
  {
   "cell_type": "code",
   "execution_count": 52,
   "metadata": {},
   "outputs": [
    {
     "name": "stdout",
     "output_type": "stream",
     "text": [
      "Number of tuples with a NaN value for SETTOREECONOMICODETTAGLIO:  188611 , 9.907304346090388 %\n"
     ]
    }
   ],
   "source": [
    "conditionA = contract_2021.MODALITALAVORO == 'NON DEFINITO'\n",
    "print(\"Number of tuples with a NaN value for SETTOREECONOMICODETTAGLIO: \", len(contract_2021[conditionA]), \",\",(len(contract_2021[conditionA])/len(contract_2021.MODALITALAVORO))*100,\"%\")"
   ]
  },
  {
   "cell_type": "markdown",
   "metadata": {},
   "source": [
    "For PROVINCIAIMPRESA there are no NaN values "
   ]
  },
  {
   "cell_type": "code",
   "execution_count": 53,
   "metadata": {},
   "outputs": [
    {
     "data": {
      "text/plain": [
       "['BERGAMO',\n",
       " 'LECCO',\n",
       " 'BRESCIA',\n",
       " 'COMO',\n",
       " 'LODI',\n",
       " 'MANTOVA',\n",
       " 'CREMONA',\n",
       " 'PAVIA',\n",
       " 'MILANO',\n",
       " 'VARESE',\n",
       " 'SONDRIO',\n",
       " 'MONZA E BRIANZA']"
      ]
     },
     "execution_count": 53,
     "metadata": {},
     "output_type": "execute_result"
    }
   ],
   "source": [
    "contract_2021.PROVINCIAIMPRESA.unique().tolist()"
   ]
  },
  {
   "cell_type": "markdown",
   "metadata": {},
   "source": [
    "Now we can save the two datasets and use them for analysis"
   ]
  },
  {
   "cell_type": "code",
   "execution_count": 54,
   "metadata": {},
   "outputs": [],
   "source": [
    "output_1819 = 'C:\\\\Users\\\\rotol\\\\Downloads\\\\csvs\\\\contracts_1819.csv'\n",
    "output_2021 = 'C:\\\\Users\\\\rotol\\\\Downloads\\\\csvs\\\\contracts_2021.csv'"
   ]
  },
  {
   "cell_type": "code",
   "execution_count": 55,
   "metadata": {},
   "outputs": [
    {
     "name": "stdout",
     "output_type": "stream",
     "text": [
      "Done\n"
     ]
    }
   ],
   "source": [
    "contract_1819.to_csv(output_1819, index=False)\n",
    "contract_2021.to_csv(output_2021, index=False)\n",
    "print('Done')"
   ]
  },
  {
   "cell_type": "markdown",
   "metadata": {},
   "source": [
    "# Data Transformation\n",
    "\n",
    "### The features are transformed and then the number of attributes is reduced for machine learning machine"
   ]
  },
  {
   "cell_type": "markdown",
   "metadata": {},
   "source": [
    "The starting sets are `contracts_1819.csv` and `contracts_2021.csv`. The features are trasformed into numerical values so that they can be used for machine learning.\n",
    "The data are also reduced for performance and representation reasons."
   ]
  },
  {
   "cell_type": "code",
   "execution_count": 56,
   "metadata": {},
   "outputs": [],
   "source": [
    "import math\n",
    "import numpy as np\n",
    "import pandas as pd\n",
    "import matplotlib.pyplot as plt\n",
    "import matplotlib\n",
    "import numpy.random as nr\n",
    "import datetime as dt\n",
    "\n",
    "from sklearn.cluster import KMeans, AgglomerativeClustering\n",
    "from sklearn.metrics import silhouette_score\n",
    "from sklearn import preprocessing\n",
    "from sklearn.neighbors import NearestCentroid\n",
    "from sklearn.feature_selection import SelectKBest\n",
    "from sklearn.metrics import silhouette_score\n",
    "from sklearn.metrics import silhouette_samples\n",
    "from sklearn.preprocessing import StandardScaler\n",
    "from sklearn.decomposition import PCA\n",
    "\n",
    "from sklearn.metrics import r2_score\n",
    "from sklearn.linear_model import LinearRegression"
   ]
  },
  {
   "cell_type": "markdown",
   "metadata": {},
   "source": [
    "Import the datasets"
   ]
  },
  {
   "cell_type": "code",
   "execution_count": 59,
   "metadata": {},
   "outputs": [],
   "source": [
    "input_1819 = 'C:\\\\Users\\\\rotol\\\\Downloads\\\\csvs\\\\contracts_1819.csv'\n",
    "input_2021 = 'C:\\\\Users\\\\rotol\\\\Downloads\\\\csvs\\\\contracts_2021.csv'"
   ]
  },
  {
   "cell_type": "code",
   "execution_count": 60,
   "metadata": {},
   "outputs": [
    {
     "data": {
      "text/html": [
       "<div>\n",
       "<style scoped>\n",
       "    .dataframe tbody tr th:only-of-type {\n",
       "        vertical-align: middle;\n",
       "    }\n",
       "\n",
       "    .dataframe tbody tr th {\n",
       "        vertical-align: top;\n",
       "    }\n",
       "\n",
       "    .dataframe thead th {\n",
       "        text-align: right;\n",
       "    }\n",
       "</style>\n",
       "<table border=\"1\" class=\"dataframe\">\n",
       "  <thead>\n",
       "    <tr style=\"text-align: right;\">\n",
       "      <th></th>\n",
       "      <th>GENERE</th>\n",
       "      <th>ETA</th>\n",
       "      <th>SETTOREECONOMICODETTAGLIO</th>\n",
       "      <th>TITOLOSTUDIO</th>\n",
       "      <th>CONTRATTO</th>\n",
       "      <th>MODALITALAVORO</th>\n",
       "      <th>PROVINCIAIMPRESA</th>\n",
       "      <th>CITTADINANZA</th>\n",
       "    </tr>\n",
       "  </thead>\n",
       "  <tbody>\n",
       "    <tr>\n",
       "      <th>0</th>\n",
       "      <td>M</td>\n",
       "      <td>25-49</td>\n",
       "      <td>Gestioni di funicolari, ski-lift e seggiovie s...</td>\n",
       "      <td>LICENZA MEDIA</td>\n",
       "      <td>LAVORO A TEMPO DETERMINATO</td>\n",
       "      <td>TEMPO PIENO</td>\n",
       "      <td>BERGAMO</td>\n",
       "      <td>ITALIANO</td>\n",
       "    </tr>\n",
       "    <tr>\n",
       "      <th>1</th>\n",
       "      <td>F</td>\n",
       "      <td>50-64</td>\n",
       "      <td>Confezioni di abbigliamento sportivo o di altr...</td>\n",
       "      <td>LICENZA MEDIA</td>\n",
       "      <td>LAVORO A TEMPO DETERMINATO</td>\n",
       "      <td>TEMPO PARZIALE ORIZZONTALE</td>\n",
       "      <td>BERGAMO</td>\n",
       "      <td>ITALIANO</td>\n",
       "    </tr>\n",
       "    <tr>\n",
       "      <th>2</th>\n",
       "      <td>F</td>\n",
       "      <td>25-49</td>\n",
       "      <td>Istruzione di grado preparatorio: scuole dell'...</td>\n",
       "      <td>ISTRUZIONE TERZIARIA</td>\n",
       "      <td>LAVORO A TEMPO INDETERMINATO</td>\n",
       "      <td>TEMPO PARZIALE ORIZZONTALE</td>\n",
       "      <td>BERGAMO</td>\n",
       "      <td>ITALIANO</td>\n",
       "    </tr>\n",
       "    <tr>\n",
       "      <th>3</th>\n",
       "      <td>M</td>\n",
       "      <td>50-64</td>\n",
       "      <td>Allevamento di bovini e bufalini da carne</td>\n",
       "      <td>NESSUN TITOLO DI STUDIO</td>\n",
       "      <td>LAVORO A TEMPO DETERMINATO</td>\n",
       "      <td>TEMPO PARZIALE MISTO</td>\n",
       "      <td>BERGAMO</td>\n",
       "      <td>STRANIERO</td>\n",
       "    </tr>\n",
       "    <tr>\n",
       "      <th>4</th>\n",
       "      <td>F</td>\n",
       "      <td>25-49</td>\n",
       "      <td>Attività di famiglie e convivenze come datori ...</td>\n",
       "      <td>NESSUN TITOLO DI STUDIO</td>\n",
       "      <td>LAVORO DOMESTICO</td>\n",
       "      <td>TEMPO PIENO</td>\n",
       "      <td>BERGAMO</td>\n",
       "      <td>ITALIANO</td>\n",
       "    </tr>\n",
       "    <tr>\n",
       "      <th>...</th>\n",
       "      <td>...</td>\n",
       "      <td>...</td>\n",
       "      <td>...</td>\n",
       "      <td>...</td>\n",
       "      <td>...</td>\n",
       "      <td>...</td>\n",
       "      <td>...</td>\n",
       "      <td>...</td>\n",
       "    </tr>\n",
       "    <tr>\n",
       "      <th>2596291</th>\n",
       "      <td>F</td>\n",
       "      <td>25-49</td>\n",
       "      <td>Altre attività di assistenza sociale non resid...</td>\n",
       "      <td>ISTRUZIONE TERZIARIA</td>\n",
       "      <td>LAVORO A TEMPO DETERMINATO</td>\n",
       "      <td>TEMPO PIENO</td>\n",
       "      <td>MONZA E BRIANZA</td>\n",
       "      <td>ITALIANO</td>\n",
       "    </tr>\n",
       "    <tr>\n",
       "      <th>2596292</th>\n",
       "      <td>F</td>\n",
       "      <td>25-49</td>\n",
       "      <td>Mense</td>\n",
       "      <td>ISTRUZIONE SECONDARIA SUPERIORE CON ACCESSO A ...</td>\n",
       "      <td>LAVORO A TEMPO DETERMINATO</td>\n",
       "      <td>TEMPO PARZIALE ORIZZONTALE</td>\n",
       "      <td>MONZA E BRIANZA</td>\n",
       "      <td>STRANIERO</td>\n",
       "    </tr>\n",
       "    <tr>\n",
       "      <th>2596293</th>\n",
       "      <td>F</td>\n",
       "      <td>50-64</td>\n",
       "      <td>Installazione di altre macchine ed apparecchia...</td>\n",
       "      <td>LICENZA ELEMENTARE</td>\n",
       "      <td>LAVORO A TEMPO DETERMINATO</td>\n",
       "      <td>TEMPO PARZIALE ORIZZONTALE</td>\n",
       "      <td>MONZA E BRIANZA</td>\n",
       "      <td>ITALIANO</td>\n",
       "    </tr>\n",
       "    <tr>\n",
       "      <th>2596294</th>\n",
       "      <td>F</td>\n",
       "      <td>50-64</td>\n",
       "      <td>Mense</td>\n",
       "      <td>LICENZA MEDIA</td>\n",
       "      <td>LAVORO A TEMPO DETERMINATO</td>\n",
       "      <td>TEMPO PARZIALE ORIZZONTALE</td>\n",
       "      <td>MONZA E BRIANZA</td>\n",
       "      <td>ITALIANO</td>\n",
       "    </tr>\n",
       "    <tr>\n",
       "      <th>2596295</th>\n",
       "      <td>M</td>\n",
       "      <td>25-49</td>\n",
       "      <td>Installazione di impianti elettrici in edifici...</td>\n",
       "      <td>NESSUN TITOLO DI STUDIO</td>\n",
       "      <td>LAVORO A TEMPO DETERMINATO</td>\n",
       "      <td>TEMPO PIENO</td>\n",
       "      <td>BRESCIA</td>\n",
       "      <td>ITALIANO</td>\n",
       "    </tr>\n",
       "  </tbody>\n",
       "</table>\n",
       "<p>2596296 rows × 8 columns</p>\n",
       "</div>"
      ],
      "text/plain": [
       "        GENERE    ETA                          SETTOREECONOMICODETTAGLIO  \\\n",
       "0            M  25-49  Gestioni di funicolari, ski-lift e seggiovie s...   \n",
       "1            F  50-64  Confezioni di abbigliamento sportivo o di altr...   \n",
       "2            F  25-49  Istruzione di grado preparatorio: scuole dell'...   \n",
       "3            M  50-64          Allevamento di bovini e bufalini da carne   \n",
       "4            F  25-49  Attività di famiglie e convivenze come datori ...   \n",
       "...        ...    ...                                                ...   \n",
       "2596291      F  25-49  Altre attività di assistenza sociale non resid...   \n",
       "2596292      F  25-49                                              Mense   \n",
       "2596293      F  50-64  Installazione di altre macchine ed apparecchia...   \n",
       "2596294      F  50-64                                              Mense   \n",
       "2596295      M  25-49  Installazione di impianti elettrici in edifici...   \n",
       "\n",
       "                                              TITOLOSTUDIO  \\\n",
       "0                                            LICENZA MEDIA   \n",
       "1                                            LICENZA MEDIA   \n",
       "2                                     ISTRUZIONE TERZIARIA   \n",
       "3                                  NESSUN TITOLO DI STUDIO   \n",
       "4                                  NESSUN TITOLO DI STUDIO   \n",
       "...                                                    ...   \n",
       "2596291                               ISTRUZIONE TERZIARIA   \n",
       "2596292  ISTRUZIONE SECONDARIA SUPERIORE CON ACCESSO A ...   \n",
       "2596293                                 LICENZA ELEMENTARE   \n",
       "2596294                                      LICENZA MEDIA   \n",
       "2596295                            NESSUN TITOLO DI STUDIO   \n",
       "\n",
       "                            CONTRATTO              MODALITALAVORO  \\\n",
       "0          LAVORO A TEMPO DETERMINATO                 TEMPO PIENO   \n",
       "1          LAVORO A TEMPO DETERMINATO  TEMPO PARZIALE ORIZZONTALE   \n",
       "2        LAVORO A TEMPO INDETERMINATO  TEMPO PARZIALE ORIZZONTALE   \n",
       "3          LAVORO A TEMPO DETERMINATO        TEMPO PARZIALE MISTO   \n",
       "4                    LAVORO DOMESTICO                 TEMPO PIENO   \n",
       "...                               ...                         ...   \n",
       "2596291    LAVORO A TEMPO DETERMINATO                 TEMPO PIENO   \n",
       "2596292    LAVORO A TEMPO DETERMINATO  TEMPO PARZIALE ORIZZONTALE   \n",
       "2596293    LAVORO A TEMPO DETERMINATO  TEMPO PARZIALE ORIZZONTALE   \n",
       "2596294    LAVORO A TEMPO DETERMINATO  TEMPO PARZIALE ORIZZONTALE   \n",
       "2596295    LAVORO A TEMPO DETERMINATO                 TEMPO PIENO   \n",
       "\n",
       "        PROVINCIAIMPRESA CITTADINANZA  \n",
       "0                BERGAMO     ITALIANO  \n",
       "1                BERGAMO     ITALIANO  \n",
       "2                BERGAMO     ITALIANO  \n",
       "3                BERGAMO    STRANIERO  \n",
       "4                BERGAMO     ITALIANO  \n",
       "...                  ...          ...  \n",
       "2596291  MONZA E BRIANZA     ITALIANO  \n",
       "2596292  MONZA E BRIANZA    STRANIERO  \n",
       "2596293  MONZA E BRIANZA     ITALIANO  \n",
       "2596294  MONZA E BRIANZA     ITALIANO  \n",
       "2596295          BRESCIA     ITALIANO  \n",
       "\n",
       "[2596296 rows x 8 columns]"
      ]
     },
     "execution_count": 60,
     "metadata": {},
     "output_type": "execute_result"
    }
   ],
   "source": [
    "contract_1819 = pd.read_csv(input_1819)\n",
    "contract_1819"
   ]
  },
  {
   "cell_type": "code",
   "execution_count": 61,
   "metadata": {},
   "outputs": [
    {
     "data": {
      "text/html": [
       "<div>\n",
       "<style scoped>\n",
       "    .dataframe tbody tr th:only-of-type {\n",
       "        vertical-align: middle;\n",
       "    }\n",
       "\n",
       "    .dataframe tbody tr th {\n",
       "        vertical-align: top;\n",
       "    }\n",
       "\n",
       "    .dataframe thead th {\n",
       "        text-align: right;\n",
       "    }\n",
       "</style>\n",
       "<table border=\"1\" class=\"dataframe\">\n",
       "  <thead>\n",
       "    <tr style=\"text-align: right;\">\n",
       "      <th></th>\n",
       "      <th>GENERE</th>\n",
       "      <th>ETA</th>\n",
       "      <th>SETTOREECONOMICODETTAGLIO</th>\n",
       "      <th>TITOLOSTUDIO</th>\n",
       "      <th>CONTRATTO</th>\n",
       "      <th>MODALITALAVORO</th>\n",
       "      <th>PROVINCIAIMPRESA</th>\n",
       "      <th>CITTADINANZA</th>\n",
       "    </tr>\n",
       "  </thead>\n",
       "  <tbody>\n",
       "    <tr>\n",
       "      <th>0</th>\n",
       "      <td>F</td>\n",
       "      <td>50-64</td>\n",
       "      <td>Attività di famiglie e convivenze come datori ...</td>\n",
       "      <td>NESSUN TITOLO DI STUDIO</td>\n",
       "      <td>LAVORO DOMESTICO</td>\n",
       "      <td>TEMPO PIENO</td>\n",
       "      <td>BERGAMO</td>\n",
       "      <td>STRANIERO</td>\n",
       "    </tr>\n",
       "    <tr>\n",
       "      <th>1</th>\n",
       "      <td>F</td>\n",
       "      <td>25-49</td>\n",
       "      <td>Rifugi di montagna</td>\n",
       "      <td>LICENZA MEDIA</td>\n",
       "      <td>LAVORO INTERMITTENTE</td>\n",
       "      <td>NON DEFINITO</td>\n",
       "      <td>BERGAMO</td>\n",
       "      <td>ITALIANO</td>\n",
       "    </tr>\n",
       "    <tr>\n",
       "      <th>2</th>\n",
       "      <td>M</td>\n",
       "      <td>15-24</td>\n",
       "      <td>Costruzione di strade, autostrade e piste aero...</td>\n",
       "      <td>LICENZA MEDIA</td>\n",
       "      <td>LAVORO A TEMPO DETERMINATO</td>\n",
       "      <td>TEMPO PIENO</td>\n",
       "      <td>BERGAMO</td>\n",
       "      <td>ITALIANO</td>\n",
       "    </tr>\n",
       "    <tr>\n",
       "      <th>3</th>\n",
       "      <td>M</td>\n",
       "      <td>15-24</td>\n",
       "      <td>Ristorazione con somministrazione</td>\n",
       "      <td>LICENZA MEDIA</td>\n",
       "      <td>LAVORO INTERMITTENTE</td>\n",
       "      <td>NON DEFINITO</td>\n",
       "      <td>BERGAMO</td>\n",
       "      <td>ITALIANO</td>\n",
       "    </tr>\n",
       "    <tr>\n",
       "      <th>4</th>\n",
       "      <td>M</td>\n",
       "      <td>25-49</td>\n",
       "      <td>Costruzione di strade, autostrade e piste aero...</td>\n",
       "      <td>LICENZA MEDIA</td>\n",
       "      <td>LAVORO A TEMPO DETERMINATO</td>\n",
       "      <td>TEMPO PIENO</td>\n",
       "      <td>BERGAMO</td>\n",
       "      <td>ITALIANO</td>\n",
       "    </tr>\n",
       "    <tr>\n",
       "      <th>...</th>\n",
       "      <td>...</td>\n",
       "      <td>...</td>\n",
       "      <td>...</td>\n",
       "      <td>...</td>\n",
       "      <td>...</td>\n",
       "      <td>...</td>\n",
       "      <td>...</td>\n",
       "      <td>...</td>\n",
       "    </tr>\n",
       "    <tr>\n",
       "      <th>1903752</th>\n",
       "      <td>M</td>\n",
       "      <td>15-24</td>\n",
       "      <td>Servizi logistici relativi alla distribuzione ...</td>\n",
       "      <td>LICENZA MEDIA</td>\n",
       "      <td>LAVORO A TEMPO DETERMINATO</td>\n",
       "      <td>TEMPO PARZIALE ORIZZONTALE</td>\n",
       "      <td>MONZA E BRIANZA</td>\n",
       "      <td>STRANIERO</td>\n",
       "    </tr>\n",
       "    <tr>\n",
       "      <th>1903753</th>\n",
       "      <td>M</td>\n",
       "      <td>25-49</td>\n",
       "      <td>Pulizia generale (non specializzata) di edifici</td>\n",
       "      <td>ISTRUZIONE SECONDARIA SUPERIORE CON ACCESSO A ...</td>\n",
       "      <td>LAVORO A TEMPO DETERMINATO</td>\n",
       "      <td>TEMPO PIENO</td>\n",
       "      <td>MONZA E BRIANZA</td>\n",
       "      <td>ITALIANO</td>\n",
       "    </tr>\n",
       "    <tr>\n",
       "      <th>1903754</th>\n",
       "      <td>F</td>\n",
       "      <td>50-64</td>\n",
       "      <td>Fabbricazione di altri articoli metallici e mi...</td>\n",
       "      <td>LICENZA MEDIA</td>\n",
       "      <td>LAVORO A TEMPO DETERMINATO</td>\n",
       "      <td>TEMPO PIENO</td>\n",
       "      <td>MONZA E BRIANZA</td>\n",
       "      <td>ITALIANO</td>\n",
       "    </tr>\n",
       "    <tr>\n",
       "      <th>1903755</th>\n",
       "      <td>F</td>\n",
       "      <td>50-64</td>\n",
       "      <td>Altre attività di assistenza sociale non resid...</td>\n",
       "      <td>LICENZA MEDIA</td>\n",
       "      <td>LAVORO A TEMPO INDETERMINATO</td>\n",
       "      <td>TEMPO PIENO</td>\n",
       "      <td>MONZA E BRIANZA</td>\n",
       "      <td>ITALIANO</td>\n",
       "    </tr>\n",
       "    <tr>\n",
       "      <th>1903756</th>\n",
       "      <td>M</td>\n",
       "      <td>25-49</td>\n",
       "      <td>Fabbricazione e montaggio di biciclette (inclu...</td>\n",
       "      <td>NESSUN TITOLO DI STUDIO</td>\n",
       "      <td>LAVORO A TEMPO DETERMINATO</td>\n",
       "      <td>TEMPO PIENO</td>\n",
       "      <td>BERGAMO</td>\n",
       "      <td>STRANIERO</td>\n",
       "    </tr>\n",
       "  </tbody>\n",
       "</table>\n",
       "<p>1903757 rows × 8 columns</p>\n",
       "</div>"
      ],
      "text/plain": [
       "        GENERE    ETA                          SETTOREECONOMICODETTAGLIO  \\\n",
       "0            F  50-64  Attività di famiglie e convivenze come datori ...   \n",
       "1            F  25-49                                 Rifugi di montagna   \n",
       "2            M  15-24  Costruzione di strade, autostrade e piste aero...   \n",
       "3            M  15-24                  Ristorazione con somministrazione   \n",
       "4            M  25-49  Costruzione di strade, autostrade e piste aero...   \n",
       "...        ...    ...                                                ...   \n",
       "1903752      M  15-24  Servizi logistici relativi alla distribuzione ...   \n",
       "1903753      M  25-49    Pulizia generale (non specializzata) di edifici   \n",
       "1903754      F  50-64  Fabbricazione di altri articoli metallici e mi...   \n",
       "1903755      F  50-64  Altre attività di assistenza sociale non resid...   \n",
       "1903756      M  25-49  Fabbricazione e montaggio di biciclette (inclu...   \n",
       "\n",
       "                                              TITOLOSTUDIO  \\\n",
       "0                                  NESSUN TITOLO DI STUDIO   \n",
       "1                                            LICENZA MEDIA   \n",
       "2                                            LICENZA MEDIA   \n",
       "3                                            LICENZA MEDIA   \n",
       "4                                            LICENZA MEDIA   \n",
       "...                                                    ...   \n",
       "1903752                                      LICENZA MEDIA   \n",
       "1903753  ISTRUZIONE SECONDARIA SUPERIORE CON ACCESSO A ...   \n",
       "1903754                                      LICENZA MEDIA   \n",
       "1903755                                      LICENZA MEDIA   \n",
       "1903756                            NESSUN TITOLO DI STUDIO   \n",
       "\n",
       "                            CONTRATTO              MODALITALAVORO  \\\n",
       "0                    LAVORO DOMESTICO                 TEMPO PIENO   \n",
       "1                LAVORO INTERMITTENTE                NON DEFINITO   \n",
       "2          LAVORO A TEMPO DETERMINATO                 TEMPO PIENO   \n",
       "3                LAVORO INTERMITTENTE                NON DEFINITO   \n",
       "4          LAVORO A TEMPO DETERMINATO                 TEMPO PIENO   \n",
       "...                               ...                         ...   \n",
       "1903752    LAVORO A TEMPO DETERMINATO  TEMPO PARZIALE ORIZZONTALE   \n",
       "1903753    LAVORO A TEMPO DETERMINATO                 TEMPO PIENO   \n",
       "1903754    LAVORO A TEMPO DETERMINATO                 TEMPO PIENO   \n",
       "1903755  LAVORO A TEMPO INDETERMINATO                 TEMPO PIENO   \n",
       "1903756    LAVORO A TEMPO DETERMINATO                 TEMPO PIENO   \n",
       "\n",
       "        PROVINCIAIMPRESA CITTADINANZA  \n",
       "0                BERGAMO    STRANIERO  \n",
       "1                BERGAMO     ITALIANO  \n",
       "2                BERGAMO     ITALIANO  \n",
       "3                BERGAMO     ITALIANO  \n",
       "4                BERGAMO     ITALIANO  \n",
       "...                  ...          ...  \n",
       "1903752  MONZA E BRIANZA    STRANIERO  \n",
       "1903753  MONZA E BRIANZA     ITALIANO  \n",
       "1903754  MONZA E BRIANZA     ITALIANO  \n",
       "1903755  MONZA E BRIANZA     ITALIANO  \n",
       "1903756          BERGAMO    STRANIERO  \n",
       "\n",
       "[1903757 rows x 8 columns]"
      ]
     },
     "execution_count": 61,
     "metadata": {},
     "output_type": "execute_result"
    }
   ],
   "source": [
    "contract_2021 = pd.read_csv(input_2021)\n",
    "contract_2021"
   ]
  },
  {
   "cell_type": "markdown",
   "metadata": {},
   "source": [
    "First the features of the dataset from 2018-2019 will be transformed and reduced"
   ]
  },
  {
   "cell_type": "markdown",
   "metadata": {},
   "source": [
    "GENERE and CITTADINANZA are binary values so they can be transformed into 0 and 1.\n",
    "\n",
    "GENERE: 0 for F and 1 for M\n",
    "\n",
    "CITTADINANZA: 0 for STRANIERO and 1 for ITALIANO"
   ]
  },
  {
   "cell_type": "code",
   "execution_count": 62,
   "metadata": {},
   "outputs": [
    {
     "data": {
      "text/html": [
       "<div>\n",
       "<style scoped>\n",
       "    .dataframe tbody tr th:only-of-type {\n",
       "        vertical-align: middle;\n",
       "    }\n",
       "\n",
       "    .dataframe tbody tr th {\n",
       "        vertical-align: top;\n",
       "    }\n",
       "\n",
       "    .dataframe thead th {\n",
       "        text-align: right;\n",
       "    }\n",
       "</style>\n",
       "<table border=\"1\" class=\"dataframe\">\n",
       "  <thead>\n",
       "    <tr style=\"text-align: right;\">\n",
       "      <th></th>\n",
       "      <th>GENERE</th>\n",
       "      <th>ETA</th>\n",
       "      <th>SETTOREECONOMICODETTAGLIO</th>\n",
       "      <th>TITOLOSTUDIO</th>\n",
       "      <th>CONTRATTO</th>\n",
       "      <th>MODALITALAVORO</th>\n",
       "      <th>PROVINCIAIMPRESA</th>\n",
       "      <th>CITTADINANZA</th>\n",
       "    </tr>\n",
       "  </thead>\n",
       "  <tbody>\n",
       "    <tr>\n",
       "      <th>0</th>\n",
       "      <td>1</td>\n",
       "      <td>25-49</td>\n",
       "      <td>Gestioni di funicolari, ski-lift e seggiovie s...</td>\n",
       "      <td>LICENZA MEDIA</td>\n",
       "      <td>LAVORO A TEMPO DETERMINATO</td>\n",
       "      <td>TEMPO PIENO</td>\n",
       "      <td>BERGAMO</td>\n",
       "      <td>1</td>\n",
       "    </tr>\n",
       "    <tr>\n",
       "      <th>1</th>\n",
       "      <td>0</td>\n",
       "      <td>50-64</td>\n",
       "      <td>Confezioni di abbigliamento sportivo o di altr...</td>\n",
       "      <td>LICENZA MEDIA</td>\n",
       "      <td>LAVORO A TEMPO DETERMINATO</td>\n",
       "      <td>TEMPO PARZIALE ORIZZONTALE</td>\n",
       "      <td>BERGAMO</td>\n",
       "      <td>1</td>\n",
       "    </tr>\n",
       "    <tr>\n",
       "      <th>2</th>\n",
       "      <td>0</td>\n",
       "      <td>25-49</td>\n",
       "      <td>Istruzione di grado preparatorio: scuole dell'...</td>\n",
       "      <td>ISTRUZIONE TERZIARIA</td>\n",
       "      <td>LAVORO A TEMPO INDETERMINATO</td>\n",
       "      <td>TEMPO PARZIALE ORIZZONTALE</td>\n",
       "      <td>BERGAMO</td>\n",
       "      <td>1</td>\n",
       "    </tr>\n",
       "    <tr>\n",
       "      <th>3</th>\n",
       "      <td>1</td>\n",
       "      <td>50-64</td>\n",
       "      <td>Allevamento di bovini e bufalini da carne</td>\n",
       "      <td>NESSUN TITOLO DI STUDIO</td>\n",
       "      <td>LAVORO A TEMPO DETERMINATO</td>\n",
       "      <td>TEMPO PARZIALE MISTO</td>\n",
       "      <td>BERGAMO</td>\n",
       "      <td>0</td>\n",
       "    </tr>\n",
       "    <tr>\n",
       "      <th>4</th>\n",
       "      <td>0</td>\n",
       "      <td>25-49</td>\n",
       "      <td>Attività di famiglie e convivenze come datori ...</td>\n",
       "      <td>NESSUN TITOLO DI STUDIO</td>\n",
       "      <td>LAVORO DOMESTICO</td>\n",
       "      <td>TEMPO PIENO</td>\n",
       "      <td>BERGAMO</td>\n",
       "      <td>1</td>\n",
       "    </tr>\n",
       "  </tbody>\n",
       "</table>\n",
       "</div>"
      ],
      "text/plain": [
       "  GENERE    ETA                          SETTOREECONOMICODETTAGLIO  \\\n",
       "0      1  25-49  Gestioni di funicolari, ski-lift e seggiovie s...   \n",
       "1      0  50-64  Confezioni di abbigliamento sportivo o di altr...   \n",
       "2      0  25-49  Istruzione di grado preparatorio: scuole dell'...   \n",
       "3      1  50-64          Allevamento di bovini e bufalini da carne   \n",
       "4      0  25-49  Attività di famiglie e convivenze come datori ...   \n",
       "\n",
       "              TITOLOSTUDIO                     CONTRATTO  \\\n",
       "0            LICENZA MEDIA    LAVORO A TEMPO DETERMINATO   \n",
       "1            LICENZA MEDIA    LAVORO A TEMPO DETERMINATO   \n",
       "2     ISTRUZIONE TERZIARIA  LAVORO A TEMPO INDETERMINATO   \n",
       "3  NESSUN TITOLO DI STUDIO    LAVORO A TEMPO DETERMINATO   \n",
       "4  NESSUN TITOLO DI STUDIO              LAVORO DOMESTICO   \n",
       "\n",
       "               MODALITALAVORO PROVINCIAIMPRESA CITTADINANZA  \n",
       "0                 TEMPO PIENO          BERGAMO            1  \n",
       "1  TEMPO PARZIALE ORIZZONTALE          BERGAMO            1  \n",
       "2  TEMPO PARZIALE ORIZZONTALE          BERGAMO            1  \n",
       "3        TEMPO PARZIALE MISTO          BERGAMO            0  \n",
       "4                 TEMPO PIENO          BERGAMO            1  "
      ]
     },
     "execution_count": 62,
     "metadata": {},
     "output_type": "execute_result"
    }
   ],
   "source": [
    "contract_1819.loc[contract_1819.CITTADINANZA == 'ITALIANO', 'CITTADINANZA'] = 1\n",
    "contract_1819.loc[contract_1819.CITTADINANZA == 'STRANIERO', 'CITTADINANZA'] = 0\n",
    "contract_1819.loc[contract_1819.GENERE == 'M', 'GENERE'] = 1\n",
    "contract_1819.loc[contract_1819.GENERE == 'F', 'GENERE'] = 0\n",
    "contract_1819.head()"
   ]
  },
  {
   "cell_type": "markdown",
   "metadata": {},
   "source": [
    "ETA can be considered an ordinal feature so we can transformed the value in numbers between 0 and 4 (from 'NON DEFINITO' to '65 o piu')"
   ]
  },
  {
   "cell_type": "code",
   "execution_count": 63,
   "metadata": {},
   "outputs": [
    {
     "data": {
      "text/html": [
       "<div>\n",
       "<style scoped>\n",
       "    .dataframe tbody tr th:only-of-type {\n",
       "        vertical-align: middle;\n",
       "    }\n",
       "\n",
       "    .dataframe tbody tr th {\n",
       "        vertical-align: top;\n",
       "    }\n",
       "\n",
       "    .dataframe thead th {\n",
       "        text-align: right;\n",
       "    }\n",
       "</style>\n",
       "<table border=\"1\" class=\"dataframe\">\n",
       "  <thead>\n",
       "    <tr style=\"text-align: right;\">\n",
       "      <th></th>\n",
       "      <th>GENERE</th>\n",
       "      <th>ETA</th>\n",
       "      <th>SETTOREECONOMICODETTAGLIO</th>\n",
       "      <th>TITOLOSTUDIO</th>\n",
       "      <th>CONTRATTO</th>\n",
       "      <th>MODALITALAVORO</th>\n",
       "      <th>PROVINCIAIMPRESA</th>\n",
       "      <th>CITTADINANZA</th>\n",
       "    </tr>\n",
       "  </thead>\n",
       "  <tbody>\n",
       "    <tr>\n",
       "      <th>0</th>\n",
       "      <td>1</td>\n",
       "      <td>2</td>\n",
       "      <td>Gestioni di funicolari, ski-lift e seggiovie s...</td>\n",
       "      <td>LICENZA MEDIA</td>\n",
       "      <td>LAVORO A TEMPO DETERMINATO</td>\n",
       "      <td>TEMPO PIENO</td>\n",
       "      <td>BERGAMO</td>\n",
       "      <td>1</td>\n",
       "    </tr>\n",
       "    <tr>\n",
       "      <th>1</th>\n",
       "      <td>0</td>\n",
       "      <td>3</td>\n",
       "      <td>Confezioni di abbigliamento sportivo o di altr...</td>\n",
       "      <td>LICENZA MEDIA</td>\n",
       "      <td>LAVORO A TEMPO DETERMINATO</td>\n",
       "      <td>TEMPO PARZIALE ORIZZONTALE</td>\n",
       "      <td>BERGAMO</td>\n",
       "      <td>1</td>\n",
       "    </tr>\n",
       "    <tr>\n",
       "      <th>2</th>\n",
       "      <td>0</td>\n",
       "      <td>2</td>\n",
       "      <td>Istruzione di grado preparatorio: scuole dell'...</td>\n",
       "      <td>ISTRUZIONE TERZIARIA</td>\n",
       "      <td>LAVORO A TEMPO INDETERMINATO</td>\n",
       "      <td>TEMPO PARZIALE ORIZZONTALE</td>\n",
       "      <td>BERGAMO</td>\n",
       "      <td>1</td>\n",
       "    </tr>\n",
       "    <tr>\n",
       "      <th>3</th>\n",
       "      <td>1</td>\n",
       "      <td>3</td>\n",
       "      <td>Allevamento di bovini e bufalini da carne</td>\n",
       "      <td>NESSUN TITOLO DI STUDIO</td>\n",
       "      <td>LAVORO A TEMPO DETERMINATO</td>\n",
       "      <td>TEMPO PARZIALE MISTO</td>\n",
       "      <td>BERGAMO</td>\n",
       "      <td>0</td>\n",
       "    </tr>\n",
       "    <tr>\n",
       "      <th>4</th>\n",
       "      <td>0</td>\n",
       "      <td>2</td>\n",
       "      <td>Attività di famiglie e convivenze come datori ...</td>\n",
       "      <td>NESSUN TITOLO DI STUDIO</td>\n",
       "      <td>LAVORO DOMESTICO</td>\n",
       "      <td>TEMPO PIENO</td>\n",
       "      <td>BERGAMO</td>\n",
       "      <td>1</td>\n",
       "    </tr>\n",
       "  </tbody>\n",
       "</table>\n",
       "</div>"
      ],
      "text/plain": [
       "  GENERE ETA                          SETTOREECONOMICODETTAGLIO  \\\n",
       "0      1   2  Gestioni di funicolari, ski-lift e seggiovie s...   \n",
       "1      0   3  Confezioni di abbigliamento sportivo o di altr...   \n",
       "2      0   2  Istruzione di grado preparatorio: scuole dell'...   \n",
       "3      1   3          Allevamento di bovini e bufalini da carne   \n",
       "4      0   2  Attività di famiglie e convivenze come datori ...   \n",
       "\n",
       "              TITOLOSTUDIO                     CONTRATTO  \\\n",
       "0            LICENZA MEDIA    LAVORO A TEMPO DETERMINATO   \n",
       "1            LICENZA MEDIA    LAVORO A TEMPO DETERMINATO   \n",
       "2     ISTRUZIONE TERZIARIA  LAVORO A TEMPO INDETERMINATO   \n",
       "3  NESSUN TITOLO DI STUDIO    LAVORO A TEMPO DETERMINATO   \n",
       "4  NESSUN TITOLO DI STUDIO              LAVORO DOMESTICO   \n",
       "\n",
       "               MODALITALAVORO PROVINCIAIMPRESA CITTADINANZA  \n",
       "0                 TEMPO PIENO          BERGAMO            1  \n",
       "1  TEMPO PARZIALE ORIZZONTALE          BERGAMO            1  \n",
       "2  TEMPO PARZIALE ORIZZONTALE          BERGAMO            1  \n",
       "3        TEMPO PARZIALE MISTO          BERGAMO            0  \n",
       "4                 TEMPO PIENO          BERGAMO            1  "
      ]
     },
     "execution_count": 63,
     "metadata": {},
     "output_type": "execute_result"
    }
   ],
   "source": [
    "contract_1819.loc[contract_1819.ETA == 'NON DEFINITO', 'ETA'] = 0\n",
    "contract_1819.loc[contract_1819.ETA == '15-24', 'ETA'] = 1\n",
    "contract_1819.loc[contract_1819.ETA == '25-49', 'ETA'] = 2\n",
    "contract_1819.loc[contract_1819.ETA == '50-64', 'ETA'] = 3\n",
    "contract_1819.loc[contract_1819.ETA == \"65 o piu'\", 'ETA'] = 4\n",
    "contract_1819.head()"
   ]
  },
  {
   "cell_type": "markdown",
   "metadata": {},
   "source": [
    "Similarly we can transform MODALITALAVORO with values between 0 and 2 (0 for 'NON DEFINITO', 1 for all the part time variants and 2 for 'TEMPO PIENO')"
   ]
  },
  {
   "cell_type": "code",
   "execution_count": 64,
   "metadata": {},
   "outputs": [
    {
     "data": {
      "text/html": [
       "<div>\n",
       "<style scoped>\n",
       "    .dataframe tbody tr th:only-of-type {\n",
       "        vertical-align: middle;\n",
       "    }\n",
       "\n",
       "    .dataframe tbody tr th {\n",
       "        vertical-align: top;\n",
       "    }\n",
       "\n",
       "    .dataframe thead th {\n",
       "        text-align: right;\n",
       "    }\n",
       "</style>\n",
       "<table border=\"1\" class=\"dataframe\">\n",
       "  <thead>\n",
       "    <tr style=\"text-align: right;\">\n",
       "      <th></th>\n",
       "      <th>GENERE</th>\n",
       "      <th>ETA</th>\n",
       "      <th>SETTOREECONOMICODETTAGLIO</th>\n",
       "      <th>TITOLOSTUDIO</th>\n",
       "      <th>CONTRATTO</th>\n",
       "      <th>MODALITALAVORO</th>\n",
       "      <th>PROVINCIAIMPRESA</th>\n",
       "      <th>CITTADINANZA</th>\n",
       "    </tr>\n",
       "  </thead>\n",
       "  <tbody>\n",
       "    <tr>\n",
       "      <th>0</th>\n",
       "      <td>1</td>\n",
       "      <td>2</td>\n",
       "      <td>Gestioni di funicolari, ski-lift e seggiovie s...</td>\n",
       "      <td>LICENZA MEDIA</td>\n",
       "      <td>LAVORO A TEMPO DETERMINATO</td>\n",
       "      <td>2</td>\n",
       "      <td>BERGAMO</td>\n",
       "      <td>1</td>\n",
       "    </tr>\n",
       "    <tr>\n",
       "      <th>1</th>\n",
       "      <td>0</td>\n",
       "      <td>3</td>\n",
       "      <td>Confezioni di abbigliamento sportivo o di altr...</td>\n",
       "      <td>LICENZA MEDIA</td>\n",
       "      <td>LAVORO A TEMPO DETERMINATO</td>\n",
       "      <td>1</td>\n",
       "      <td>BERGAMO</td>\n",
       "      <td>1</td>\n",
       "    </tr>\n",
       "    <tr>\n",
       "      <th>2</th>\n",
       "      <td>0</td>\n",
       "      <td>2</td>\n",
       "      <td>Istruzione di grado preparatorio: scuole dell'...</td>\n",
       "      <td>ISTRUZIONE TERZIARIA</td>\n",
       "      <td>LAVORO A TEMPO INDETERMINATO</td>\n",
       "      <td>1</td>\n",
       "      <td>BERGAMO</td>\n",
       "      <td>1</td>\n",
       "    </tr>\n",
       "    <tr>\n",
       "      <th>3</th>\n",
       "      <td>1</td>\n",
       "      <td>3</td>\n",
       "      <td>Allevamento di bovini e bufalini da carne</td>\n",
       "      <td>NESSUN TITOLO DI STUDIO</td>\n",
       "      <td>LAVORO A TEMPO DETERMINATO</td>\n",
       "      <td>1</td>\n",
       "      <td>BERGAMO</td>\n",
       "      <td>0</td>\n",
       "    </tr>\n",
       "    <tr>\n",
       "      <th>4</th>\n",
       "      <td>0</td>\n",
       "      <td>2</td>\n",
       "      <td>Attività di famiglie e convivenze come datori ...</td>\n",
       "      <td>NESSUN TITOLO DI STUDIO</td>\n",
       "      <td>LAVORO DOMESTICO</td>\n",
       "      <td>2</td>\n",
       "      <td>BERGAMO</td>\n",
       "      <td>1</td>\n",
       "    </tr>\n",
       "  </tbody>\n",
       "</table>\n",
       "</div>"
      ],
      "text/plain": [
       "  GENERE ETA                          SETTOREECONOMICODETTAGLIO  \\\n",
       "0      1   2  Gestioni di funicolari, ski-lift e seggiovie s...   \n",
       "1      0   3  Confezioni di abbigliamento sportivo o di altr...   \n",
       "2      0   2  Istruzione di grado preparatorio: scuole dell'...   \n",
       "3      1   3          Allevamento di bovini e bufalini da carne   \n",
       "4      0   2  Attività di famiglie e convivenze come datori ...   \n",
       "\n",
       "              TITOLOSTUDIO                     CONTRATTO  MODALITALAVORO  \\\n",
       "0            LICENZA MEDIA    LAVORO A TEMPO DETERMINATO               2   \n",
       "1            LICENZA MEDIA    LAVORO A TEMPO DETERMINATO               1   \n",
       "2     ISTRUZIONE TERZIARIA  LAVORO A TEMPO INDETERMINATO               1   \n",
       "3  NESSUN TITOLO DI STUDIO    LAVORO A TEMPO DETERMINATO               1   \n",
       "4  NESSUN TITOLO DI STUDIO              LAVORO DOMESTICO               2   \n",
       "\n",
       "  PROVINCIAIMPRESA CITTADINANZA  \n",
       "0          BERGAMO            1  \n",
       "1          BERGAMO            1  \n",
       "2          BERGAMO            1  \n",
       "3          BERGAMO            0  \n",
       "4          BERGAMO            1  "
      ]
     },
     "execution_count": 64,
     "metadata": {},
     "output_type": "execute_result"
    }
   ],
   "source": [
    "replaceDict = {\"NON DEFINITO\":0,\n",
    "              \"TEMPO PARZIALE ORIZZONTALE\":1,\n",
    "              \"TEMPO PARZIALE MISTO\":1,\n",
    "              \"TEMPO PARZIALE VERTICALE\":1,\n",
    "              \"TEMPO PIENO\":2}\n",
    "\n",
    "contract_1819.replace({\"MODALITALAVORO\":replaceDict}, inplace=True)\n",
    "contract_1819.head()"
   ]
  },
  {
   "cell_type": "markdown",
   "metadata": {},
   "source": [
    "We can also do the same thing for TITOLOSTUDIO. We can group up some educational degrees that are on the same level, like different types of bachelor's degree and all post-lauream degrees."
   ]
  },
  {
   "cell_type": "code",
   "execution_count": 66,
   "metadata": {},
   "outputs": [
    {
     "data": {
      "text/html": [
       "<div>\n",
       "<style scoped>\n",
       "    .dataframe tbody tr th:only-of-type {\n",
       "        vertical-align: middle;\n",
       "    }\n",
       "\n",
       "    .dataframe tbody tr th {\n",
       "        vertical-align: top;\n",
       "    }\n",
       "\n",
       "    .dataframe thead th {\n",
       "        text-align: right;\n",
       "    }\n",
       "</style>\n",
       "<table border=\"1\" class=\"dataframe\">\n",
       "  <thead>\n",
       "    <tr style=\"text-align: right;\">\n",
       "      <th></th>\n",
       "      <th>GENERE</th>\n",
       "      <th>ETA</th>\n",
       "      <th>SETTOREECONOMICODETTAGLIO</th>\n",
       "      <th>TITOLOSTUDIO</th>\n",
       "      <th>CONTRATTO</th>\n",
       "      <th>MODALITALAVORO</th>\n",
       "      <th>PROVINCIAIMPRESA</th>\n",
       "      <th>CITTADINANZA</th>\n",
       "    </tr>\n",
       "  </thead>\n",
       "  <tbody>\n",
       "    <tr>\n",
       "      <th>0</th>\n",
       "      <td>1</td>\n",
       "      <td>2</td>\n",
       "      <td>Gestioni di funicolari, ski-lift e seggiovie s...</td>\n",
       "      <td>2</td>\n",
       "      <td>LAVORO A TEMPO DETERMINATO</td>\n",
       "      <td>2</td>\n",
       "      <td>BERGAMO</td>\n",
       "      <td>1</td>\n",
       "    </tr>\n",
       "    <tr>\n",
       "      <th>1</th>\n",
       "      <td>0</td>\n",
       "      <td>3</td>\n",
       "      <td>Confezioni di abbigliamento sportivo o di altr...</td>\n",
       "      <td>2</td>\n",
       "      <td>LAVORO A TEMPO DETERMINATO</td>\n",
       "      <td>1</td>\n",
       "      <td>BERGAMO</td>\n",
       "      <td>1</td>\n",
       "    </tr>\n",
       "    <tr>\n",
       "      <th>2</th>\n",
       "      <td>0</td>\n",
       "      <td>2</td>\n",
       "      <td>Istruzione di grado preparatorio: scuole dell'...</td>\n",
       "      <td>5</td>\n",
       "      <td>LAVORO A TEMPO INDETERMINATO</td>\n",
       "      <td>1</td>\n",
       "      <td>BERGAMO</td>\n",
       "      <td>1</td>\n",
       "    </tr>\n",
       "    <tr>\n",
       "      <th>3</th>\n",
       "      <td>1</td>\n",
       "      <td>3</td>\n",
       "      <td>Allevamento di bovini e bufalini da carne</td>\n",
       "      <td>0</td>\n",
       "      <td>LAVORO A TEMPO DETERMINATO</td>\n",
       "      <td>1</td>\n",
       "      <td>BERGAMO</td>\n",
       "      <td>0</td>\n",
       "    </tr>\n",
       "    <tr>\n",
       "      <th>4</th>\n",
       "      <td>0</td>\n",
       "      <td>2</td>\n",
       "      <td>Attività di famiglie e convivenze come datori ...</td>\n",
       "      <td>0</td>\n",
       "      <td>LAVORO DOMESTICO</td>\n",
       "      <td>2</td>\n",
       "      <td>BERGAMO</td>\n",
       "      <td>1</td>\n",
       "    </tr>\n",
       "  </tbody>\n",
       "</table>\n",
       "</div>"
      ],
      "text/plain": [
       "  GENERE ETA                          SETTOREECONOMICODETTAGLIO  TITOLOSTUDIO  \\\n",
       "0      1   2  Gestioni di funicolari, ski-lift e seggiovie s...             2   \n",
       "1      0   3  Confezioni di abbigliamento sportivo o di altr...             2   \n",
       "2      0   2  Istruzione di grado preparatorio: scuole dell'...             5   \n",
       "3      1   3          Allevamento di bovini e bufalini da carne             0   \n",
       "4      0   2  Attività di famiglie e convivenze come datori ...             0   \n",
       "\n",
       "                      CONTRATTO  MODALITALAVORO PROVINCIAIMPRESA CITTADINANZA  \n",
       "0    LAVORO A TEMPO DETERMINATO               2          BERGAMO            1  \n",
       "1    LAVORO A TEMPO DETERMINATO               1          BERGAMO            1  \n",
       "2  LAVORO A TEMPO INDETERMINATO               1          BERGAMO            1  \n",
       "3    LAVORO A TEMPO DETERMINATO               1          BERGAMO            0  \n",
       "4              LAVORO DOMESTICO               2          BERGAMO            1  "
      ]
     },
     "execution_count": 66,
     "metadata": {},
     "output_type": "execute_result"
    }
   ],
   "source": [
    "replaceDict = {\"NESSUN TITOLO DI STUDIO\":0,\n",
    "              \"LICENZA ELEMENTARE\":1,\n",
    "              \"LICENZA MEDIA\":2,\n",
    "              \"ISTRUZIONE SECONDARIA SUPERIORE SENZA ACCESSO A UNIVERSITA'\":3,\n",
    "              \"ISTRUZIONE SECONDARIA SUPERIORE CON ACCESSO A UNIVERSITA'\":4,\n",
    "              \"ISTRUZIONE TERZIARIA\":5,\n",
    "              \"ISTRUZIONE POST-LAUREAM\":6}\n",
    "\n",
    "contract_1819.replace({\"TITOLOSTUDIO\":replaceDict}, inplace=True)\n",
    "contract_1819.head()"
   ]
  },
  {
   "cell_type": "code",
   "execution_count": null,
   "metadata": {},
   "outputs": [],
   "source": []
  }
 ],
 "metadata": {
  "kernelspec": {
   "display_name": "Python 3 (ipykernel)",
   "language": "python",
   "name": "python3"
  },
  "language_info": {
   "codemirror_mode": {
    "name": "ipython",
    "version": 3
   },
   "file_extension": ".py",
   "mimetype": "text/x-python",
   "name": "python",
   "nbconvert_exporter": "python",
   "pygments_lexer": "ipython3",
   "version": "3.8.12"
  }
 },
 "nbformat": 4,
 "nbformat_minor": 4
}
