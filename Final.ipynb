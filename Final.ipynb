{
 "cells": [
  {
   "cell_type": "markdown",
   "metadata": {},
   "source": [
    "# Laboratory 1\n",
    "\n",
    "### Group R. Rotoloni Gabriele n°733421\n",
    "\n",
    "#### The input and output datasets can be found in the `DatasetsLocation.md` file in the `Datasets` folder.\n",
    "\n",
    "\n",
    "After indicating the input and output paths, it's possibile to run the notebook altogether and read the results.\n",
    "This notebook uses the datasets that have been produced by the notebook in the Preproc folder."
   ]
  },
  {
   "cell_type": "code",
   "execution_count": null,
   "metadata": {},
   "outputs": [],
   "source": [
    "import pandas as pd\n",
    "import numpy as np\n",
    "import matplotlib.pyplot as plt"
   ]
  },
  {
   "cell_type": "code",
   "execution_count": null,
   "metadata": {},
   "outputs": [],
   "source": [
    "activatedContractsInputPath = \"C:\\\\Users\\\\rotol\\\\Downloads\\\\res\\\\Transformed_lavori_attivati.csv\"\n",
    "extendedContractsInputPath = \"C:\\\\Users\\\\rotol\\\\Downloads\\\\res\\\\Transformed_lavori_prorogati.csv\""
   ]
  },
  {
   "cell_type": "markdown",
   "metadata": {},
   "source": [
    "Create the dataset from the csv files"
   ]
  },
  {
   "cell_type": "code",
   "execution_count": null,
   "metadata": {},
   "outputs": [],
   "source": [
    "activatedContracts = pd.read_csv(activatedContractsInputPath)\n",
    "activatedContracts.head()"
   ]
  },
  {
   "cell_type": "code",
   "execution_count": null,
   "metadata": {},
   "outputs": [],
   "source": [
    "extendedContracts = pd.read_csv(extendedContractsInputPath)\n",
    "extendedContracts.head()"
   ]
  },
  {
   "cell_type": "markdown",
   "metadata": {},
   "source": [
    "### Question: \n",
    "#### Which group of people (citizienship, age, sex, level of education) was the most successful at getting its own contract extended?\n",
    "\n",
    "For this question I will create two dataframes having the education degree as index and multi-index columns for citizienship, sex and age.\n",
    "\n",
    "The first one (extendedContractsByGroup) will indicate the number of extended contracts for each category. The second one (activatedExtendableContractsByGroup) represents the number of extendable contracts that have been activated by each category.\n",
    "\n",
    "The result will be a dataframe having as values the division between the first and the second dataframe."
   ]
  },
  {
   "cell_type": "code",
   "execution_count": null,
   "metadata": {},
   "outputs": [],
   "source": [
    "#This is the dataframe for the number of extended contracts for each group of people. \n",
    "\n",
    "extendedContractsByGroup = extendedContracts.groupby(['TITOLOSTUDIO','ETA','GENERE','CITTADINANZA']).size()\n",
    "for i in range(3):\n",
    "    extendedContractsByGroup = extendedContractsByGroup.unstack()\n",
    "\n",
    "extendedContractsByGroup = extendedContractsByGroup.fillna(0)\n",
    "extendedContractsByGroup"
   ]
  },
  {
   "cell_type": "code",
   "execution_count": null,
   "metadata": {},
   "outputs": [],
   "source": [
    "#This is the dataframe for the number of activated extendable contracts for each group of people. \n",
    "\n",
    "activatedExtendables = activatedContracts[activatedContracts.CONTRATTO == \"PROROGABILE\"]\n",
    "activatedExtendableContractsByGroup = activatedExtendables.groupby(['TITOLOSTUDIO','ETA','GENERE','CITTADINANZA']).size()\n",
    "for i in range(3):\n",
    "    activatedExtendableContractsByGroup = activatedExtendableContractsByGroup.unstack()\n",
    "\n",
    "activatedExtendableContractsByGroup = activatedExtendableContractsByGroup.fillna(0)\n",
    "activatedExtendableContractsByGroup"
   ]
  },
  {
   "cell_type": "markdown",
   "metadata": {},
   "source": [
    "To make the data more compact, I group up all the education degrees obtained after the High school diploma under one single category called \"TITOLO TERZIARIO DI SECONDO LIVELLO E DOTTORATO DI RICERCA\""
   ]
  },
  {
   "cell_type": "code",
   "execution_count": null,
   "metadata": {},
   "outputs": [],
   "source": [
    "#Sum the values of the rows together\n",
    "advancedEdRowE = (extendedContractsByGroup.loc[\"DIPLOMA DI SPECIALIZZAZIONE\"] + \n",
    "                  extendedContractsByGroup.loc[\"DIPLOMA TERZIARIO EXTRA-UNIVERSITARIO\"] + \n",
    "                  extendedContractsByGroup.loc[\"DIPLOMA UNIVERSITARIO\"] + \n",
    "                  extendedContractsByGroup.loc[\"LAUREA - Vecchio o nuovo ordinamento\"] + \n",
    "                  extendedContractsByGroup.loc[\"MASTER UNIVERSITARIO DI PRIMO LIVELLO\"] + \n",
    "                  extendedContractsByGroup.loc[\"TITOLO DI DOTTORE DI RICERCA\"] +\n",
    "                  extendedContractsByGroup.loc[\"TITOLO DI STUDIO POST-LAUREA\"])\n",
    "#Add the row\n",
    "extendedContractsByGroup.loc[len(extendedContractsByGroup)] = advancedEdRowE\n",
    "extendedContractsByGroup.rename(index={12:\"TITOLO TERZIARIO DI SECONDO LIVELLO E DOTTORATO DI RICERCA\"}, inplace=True)\n",
    "#Now i will delete the seven rows that have been combined\n",
    "extendedContractsByGroup.drop(index=[\"DIPLOMA DI SPECIALIZZAZIONE\",\"DIPLOMA TERZIARIO EXTRA-UNIVERSITARIO\",\n",
    "                                     \"DIPLOMA UNIVERSITARIO\",\"LAUREA - Vecchio o nuovo ordinamento\",\n",
    "                                     \"MASTER UNIVERSITARIO DI PRIMO LIVELLO\",\"TITOLO DI DOTTORE DI RICERCA\",\n",
    "                                     \"TITOLO DI STUDIO POST-LAUREA\"], inplace=True)\n",
    "extendedContractsByGroup"
   ]
  },
  {
   "cell_type": "code",
   "execution_count": null,
   "metadata": {},
   "outputs": [],
   "source": [
    "#here I do the same thing for the activated Extendable Contracts\n",
    "advancedEdRowA = (activatedExtendableContractsByGroup.loc[\"DIPLOMA DI SPECIALIZZAZIONE\"] + \n",
    "                  activatedExtendableContractsByGroup.loc[\"DIPLOMA TERZIARIO EXTRA-UNIVERSITARIO\"] + \n",
    "                  activatedExtendableContractsByGroup.loc[\"DIPLOMA UNIVERSITARIO\"] + \n",
    "                  activatedExtendableContractsByGroup.loc[\"LAUREA - Vecchio o nuovo ordinamento\"] + \n",
    "                  activatedExtendableContractsByGroup.loc[\"MASTER UNIVERSITARIO DI PRIMO LIVELLO\"] + \n",
    "                  activatedExtendableContractsByGroup.loc[\"TITOLO DI DOTTORE DI RICERCA\"] +\n",
    "                  activatedExtendableContractsByGroup.loc[\"TITOLO DI STUDIO POST-LAUREA\"])\n",
    "#Add the row\n",
    "activatedExtendableContractsByGroup.loc[len(activatedExtendableContractsByGroup)] = advancedEdRowA\n",
    "activatedExtendableContractsByGroup.rename(index={12:\"TITOLO TERZIARIO DI SECONDO LIVELLO E DOTTORATO DI RICERCA\"}, \n",
    "                                           inplace=True)\n",
    "#Now i will delete the seven rows that have been combined\n",
    "activatedExtendableContractsByGroup.drop(index=[\"DIPLOMA DI SPECIALIZZAZIONE\",\"DIPLOMA TERZIARIO EXTRA-UNIVERSITARIO\",\n",
    "                                     \"DIPLOMA UNIVERSITARIO\",\"LAUREA - Vecchio o nuovo ordinamento\",\n",
    "                                     \"MASTER UNIVERSITARIO DI PRIMO LIVELLO\",\"TITOLO DI DOTTORE DI RICERCA\",\n",
    "                                     \"TITOLO DI STUDIO POST-LAUREA\"], inplace=True)\n",
    "activatedExtendableContractsByGroup"
   ]
  },
  {
   "cell_type": "markdown",
   "metadata": {},
   "source": [
    "The ratio is now computed"
   ]
  },
  {
   "cell_type": "code",
   "execution_count": null,
   "metadata": {},
   "outputs": [],
   "source": [
    "successRatiodf = extendedContractsByGroup/activatedExtendableContractsByGroup\n",
    "successRatiodf"
   ]
  },
  {
   "cell_type": "code",
   "execution_count": null,
   "metadata": {},
   "outputs": [],
   "source": [
    "#the maxium value in this dataset:\n",
    "successRatiodf.stack(level=[0,1,2]).index[np.argmax(successRatiodf.values)]"
   ]
  },
  {
   "cell_type": "code",
   "execution_count": null,
   "metadata": {},
   "outputs": [],
   "source": [
    "analis = extendedContracts[(extendedContracts.TITOLOSTUDIO == 'LICENZA MEDIA')&\n",
    "                  (extendedContracts.CITTADINANZA == 'STRANIERO')&\n",
    "                  (extendedContracts.GENERE == 'F')&\n",
    "                  (extendedContracts.ETA == \"65 o piu'\")]\n",
    "\n",
    "analis.SETTOREECONOMICODETTAGLIO.unique().tolist()"
   ]
  },
  {
   "cell_type": "markdown",
   "metadata": {},
   "source": [
    "The most \"successful\" group seems to be older foreigner female worker with a middle school degree. By watching at the types of job that were extended, on one hand, is probable that people in this group do not have interest in looking for a different job after the expiration of the contract, and on the other they are probably good enough for the employer, which is ok with renewing the contract if needed/possible."
   ]
  },
  {
   "cell_type": "markdown",
   "metadata": {},
   "source": [
    "Now we can compute other statistic:\n",
    "\n",
    "- Average ratio for each education degree:"
   ]
  },
  {
   "cell_type": "code",
   "execution_count": null,
   "metadata": {},
   "outputs": [],
   "source": [
    "extendedContractsByGroup.sum(axis=1)/activatedExtendableContractsByGroup.sum(axis=1)"
   ]
  },
  {
   "cell_type": "markdown",
   "metadata": {},
   "source": [
    "It is interesting to see that the most \"successful\" categories are the middle school degree and the professional diploma. The middle school is probably related to what I wrote before and the professional diploma is probably due to the fact that one with this degree represents a specific professional figure.\n",
    "\n",
    "Instead, the least \"successful\" are the highest education and those without a degree. The first category is probably low because people with high education should see a transformation into a permanent contract instead of a extension. The second category instead represents people that are easly replaceable."
   ]
  },
  {
   "cell_type": "markdown",
   "metadata": {},
   "source": [
    "- Average ratio per citizienship:"
   ]
  },
  {
   "cell_type": "code",
   "execution_count": null,
   "metadata": {},
   "outputs": [],
   "source": [
    "extendedContractsByGroup.sum(axis=1, level=[0]).sum()/activatedExtendableContractsByGroup.sum(axis=1, level=[0]).sum()"
   ]
  },
  {
   "cell_type": "markdown",
   "metadata": {},
   "source": [
    "The citizienship status does not seem to play a big role on whether a contract will be extended or not"
   ]
  },
  {
   "cell_type": "markdown",
   "metadata": {},
   "source": [
    "- Average ratio per citizienship and gender"
   ]
  },
  {
   "cell_type": "code",
   "execution_count": null,
   "metadata": {},
   "outputs": [],
   "source": [
    "extendedContractsByGroup.sum(axis=1, level=[0,1]).sum()/activatedExtendableContractsByGroup.sum(axis=1, level=[0,1]).sum()"
   ]
  },
  {
   "cell_type": "markdown",
   "metadata": {},
   "source": [
    "For both Italians and foreigners, male got their contract extended more frequently"
   ]
  },
  {
   "cell_type": "markdown",
   "metadata": {},
   "source": [
    "- Average ratio per age groups"
   ]
  },
  {
   "cell_type": "code",
   "execution_count": null,
   "metadata": {},
   "outputs": [],
   "source": [
    "extendedContractsByGroup.sum(axis=1, level=[2]).sum()/activatedExtendableContractsByGroup.sum(axis=1, level=[2]).sum()"
   ]
  },
  {
   "cell_type": "markdown",
   "metadata": {},
   "source": [
    "The average ratio is fairly consistent for all age groups except that people older than 65"
   ]
  }
 ],
 "metadata": {
  "kernelspec": {
   "display_name": "Python 3 (ipykernel)",
   "language": "python",
   "name": "python3"
  },
  "language_info": {
   "codemirror_mode": {
    "name": "ipython",
    "version": 3
   },
   "file_extension": ".py",
   "mimetype": "text/x-python",
   "name": "python",
   "nbconvert_exporter": "python",
   "pygments_lexer": "ipython3",
   "version": "3.8.12"
  }
 },
 "nbformat": 4,
 "nbformat_minor": 4
}
